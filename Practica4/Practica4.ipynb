{
 "cells": [
  {
   "cell_type": "markdown",
   "metadata": {},
   "source": [
    "# Práctica 4\n",
    "<br>\n",
    "\n",
    "__Alumnos:__\n",
    "* __Frederick Ernesto Borges Noronha__\n",
    "* __Victor Manuel Cavero Gracia__"
   ]
  },
  {
   "cell_type": "markdown",
   "metadata": {},
   "source": [
    "\n",
    "## PARTE 1\n",
    "\n",
    "Implementa una función que, dados dos identificadores de ítems y una distancia\n",
    "máxima, devuelva los ítems comunes que están como máximo a esa distancia de los\n",
    "dos ítems iniciales.\n",
    "\n",
    "Como Wikidata es muy grande vamos a limitarnos a buscar entidades comunes a\n",
    "distancia máxima 3 usando sólo el siguiente subconjunto de propiedades:\n",
    "`instance of (P31)` , `subclass of (P279)`, `has part (P527)`,\n",
    "`instrument (P1303)`, `genre (P136)`\n",
    "\n",
    "Si no hay entidades comunes a esa distancia diremos que los ítems no están\n",
    "relacionados.\n",
    "\n",
    "Calcula las relaciones entre las siguientes entidades dos a dos y explica en lenguaje\n",
    "natural el tipo de relación encontrada:\n",
    "`piano (Q5994)`, `electronic keyboard (Q1343007)`,\n",
    "`String synthesizer (Q2355465)`, `Hans Zimmer (Q76364)`,\n",
    "`Pirates of the Caribbean: The Curse of the Black Pearl (Q46717)`,\n",
    "`The Lion King (Q36479)`, `Toy Story (Q171048)`, `Iron Man (Q192724)`.\n",
    "\n",
    "- Consejos:\n",
    "  - Obtener la información de una entidad Wikidata con get_entity_dict_from_api es\n",
    "    una operación lenta. Te recomendamos que crees una cache de entidades (map\n",
    "    entidad_id -> entidad) que evite pedir una y otra vez las mismas entidades a\n",
    "    Wikidata.\n",
    "  - Te recomendamos crear una función get_claims(item_id) que devuelva las\n",
    "    relaciones que salen a partir de una entidad en formato (id_propiedad, id_valor).\n",
    "    Sólo debes considerar los truthy_claims que tengan como valor un item de\n",
    "    Wikidata (entidades que empiezan por ‘Q’). Recuerda que también hemos\n",
    "    limitado las propiedades que debes considerar.\n",
    "  - Es importante tener en cuenta que, cuando expandimos una onda, la intersección\n",
    "    se puede producir con cualquiera de las entidades de la otra onda (y no sólo con\n",
    "    las de la frontera).\n"
   ]
  },
  {
   "cell_type": "code",
   "execution_count": 1,
   "metadata": {},
   "outputs": [],
   "source": [
    "from qwikidata.entity import WikidataItem, WikidataProperty, WikidataLexeme \n",
    "from qwikidata.linked_data_interface import get_entity_dict_from_api\n",
    "\n",
    "\n",
    "def items_comunes(item_id1, item_id2, distancia_maxima=3):\n",
    "    if distancia_maxima > 3 : distancia_maxima = 3\n",
    "    dict_cache = dict() # Caché de la forma entidad_id -> entidad\n",
    "    items_comunes = [] # Lista con (entidad_id,distancia)\n",
    "    items_insertados = dict() # Eliminar repetidos \n",
    "    \n",
    "    dist1_id1 = get_claims(item_id1, dict_cache) # Distancia de 1 a item_id1\n",
    "    dist1_id2 = get_claims(item_id2, dict_cache) # Distancia de 1 a item_id2\n",
    "    dic_dist2_id1 = dict() # Distancia de 2 con Diccionario < (id_propiedad, id_valor), [(id_propiedad, id_valor)] >\n",
    "    dic_dist2_id2 = dict() # Distancia de 2 con Diccionario < (id_propiedad, id_valor), [(id_propiedad, id_valor)] >\n",
    "    \n",
    "    for pair in dist1_id1:\n",
    "        dic_dist2_id1[pair] = get_claims(pair[1], dict_cache)\n",
    "\n",
    "    for pair in dist1_id2:\n",
    "        dic_dist2_id2[pair] = get_claims(pair[1], dict_cache)\n",
    "    \n",
    "    for pair_id1 in dist1_id1:\n",
    "        for pair_id2 in dist1_id2:\n",
    "            if(pair_id1[1] == pair_id2[1]):\n",
    "                items_comunes.append((pair_id2[1],2))\n",
    "            for pair2_id1 in dic_dist2_id1[pair_id1]:\n",
    "                if(pair2_id1[1] == pair_id2[1]):\n",
    "                    items_comunes.append((pair_id2[1],3))\n",
    "            for pair2_id2 in dic_dist2_id2[pair_id2]:\n",
    "                if(pair2_id2[1] == pair_id1[1]):\n",
    "                    items_comunes.append((pair2_id2[1],3))\n",
    "    \n",
    "    cadena = '--- ENTIDAD: {} , NOMBRE {} Y DISTANCIA: {} '\n",
    "    \n",
    "    for item in items_comunes:\n",
    "        if(item[1] <= distancia_maxima):\n",
    "            poner = True\n",
    "            \n",
    "            if item[0] in items_insertados : \n",
    "                if item[1] == items_insertados[item[0]] : poner = False\n",
    "            \n",
    "            if poner :\n",
    "                if item[0] in dict_cache : print(cadena.format(item[0], dict_cache[item[0]].get_label(), item[1]))\n",
    "                else :\n",
    "                    item_dict = get_entity_dict_from_api(item[0])\n",
    "                    entidad = WikidataItem(item_dict)\n",
    "                    print(cadena.format(item[0], entidad.get_label(), item[1]))\n",
    "                \n",
    "                items_insertados[item[0]] = item[1]\n",
    "    \n",
    "def get_claims(item_id, dict_cache):\n",
    "    # truthly_claims que empiezen por 'Q' id_valor y id_propiedad sea : P31, P279, P527, P1303 o P136\n",
    "    \n",
    "    tuple_list = []\n",
    "    propiedades = ['P31','P279','P527','P1303','P136']\n",
    "\n",
    "    if item_id in dict_cache:\n",
    "        entidad = dict_cache[item_id]\n",
    "    else:    \n",
    "        item_dict = get_entity_dict_from_api(item_id)\n",
    "        entidad = WikidataItem(item_dict)\n",
    "        dict_cache[item_id] = entidad\n",
    "    \n",
    "    for x in propiedades:\n",
    "        claim_group = entidad.get_truthy_claim_group(x)\n",
    "        for y in claim_group:\n",
    "            tuple_list.append((x,y.mainsnak.datavalue.value['id']))\n",
    "            \n",
    "    return tuple_list # (id_propiedad, id_valor)\n",
    "            "
   ]
  },
  {
   "cell_type": "markdown",
   "metadata": {},
   "source": [
    "Calcular las relaciones entre las siguientes entidades dos a dos y explica en lenguaje\n",
    "natural el tipo de relación encontrada:"
   ]
  },
  {
   "cell_type": "code",
   "execution_count": 2,
   "metadata": {},
   "outputs": [
    {
     "name": "stdout",
     "output_type": "stream",
     "text": [
      "--- ENTIDAD: Q34379 , NOMBRE musical instrument Y DISTANCIA: 3 \n",
      "--- ENTIDAD: Q52954 , NOMBRE keyboard instrument Y DISTANCIA: 2 \n"
     ]
    }
   ],
   "source": [
    "items_comunes('Q5994','Q1343007')"
   ]
  },
  {
   "cell_type": "code",
   "execution_count": 3,
   "metadata": {},
   "outputs": [
    {
     "name": "stdout",
     "output_type": "stream",
     "text": [
      "--- ENTIDAD: Q1327500 , NOMBRE electronic musical instrument Y DISTANCIA: 3 \n"
     ]
    }
   ],
   "source": [
    "items_comunes('Q2355465','Q76364')"
   ]
  },
  {
   "cell_type": "code",
   "execution_count": 4,
   "metadata": {},
   "outputs": [
    {
     "name": "stdout",
     "output_type": "stream",
     "text": [
      "--- ENTIDAD: Q11424 , NOMBRE film Y DISTANCIA: 3 \n"
     ]
    }
   ],
   "source": [
    "items_comunes('Q46717','Q36479')"
   ]
  },
  {
   "cell_type": "code",
   "execution_count": 5,
   "metadata": {},
   "outputs": [
    {
     "name": "stdout",
     "output_type": "stream",
     "text": [
      "--- ENTIDAD: Q11424 , NOMBRE film Y DISTANCIA: 3 \n"
     ]
    }
   ],
   "source": [
    "items_comunes('Q171048','Q192724')"
   ]
  },
  {
   "cell_type": "markdown",
   "metadata": {},
   "source": [
    "__Las relaciones encontradas se explican en la siguiente parte__ donde vemos con exactitud los caminos."
   ]
  },
  {
   "cell_type": "markdown",
   "metadata": {},
   "source": [
    "## PARTE 2\n",
    "\n",
    "Implementa una versión avanzada del algoritmo visto en clase que no sólo devuelva\n",
    "las entidades comunes sino también los caminos que conectan cada una de las\n",
    "entidades originales con esas entidades comunes. En este caso, la función sólo debe\n",
    "devolver los caminos de longitud mínima. Si no hay caminos de longitud menor o igual\n",
    "a 5 diremos que las entidades no están relacionadas.\n",
    "\n",
    "- Consejos:\n",
    "    - La intersección de las dos ondas puede contener varias entidades. Debes\n",
    "        considerar todas ellas a la hora de calcular las posibles soluciones. Además, cada\n",
    "        una de las entidades comunes puede dar lugar a varias soluciones si hay distintos\n",
    "        caminos que conectan las entidades iniciales con esa entidad común.\n",
    "    - De todas las soluciones posibles sólo debes devolver las de longitud mínima,\n",
    "        entendiendo que la longitud de la solución es la suma de las longitudes de los\n",
    "        caminos desde las entidades iniciales hasta la entidad común.\n",
    "    - Hay muchas formas de implementar este algoritmo. Una de ellas consiste en\n",
    "        almacenar todos los caminos de cada una de las ondas e ir expandiéndolos\n",
    "        alternativamente hasta que las ondas intersequen. Para calcular la intersección\n",
    "        deberás almacenar también los ítems de cada una de las ondas.\n",
    "    - Ten en cuenta que para calcular todas las posibles soluciones de longitud <= n\n",
    "        debes expandir cada una de las ondas n veces (puede que la relación vaya del\n",
    "        primer ítem hasta el segundo)."
   ]
  },
  {
   "cell_type": "code",
   "execution_count": 6,
   "metadata": {},
   "outputs": [],
   "source": [
    "from qwikidata.entity import WikidataItem, WikidataProperty, WikidataLexeme \n",
    "from qwikidata.linked_data_interface import get_entity_dict_from_api\n",
    "\n",
    "\n",
    "def camino_minimo(item_id1, item_id2):\n",
    "    dict_cache = dict() # Caché de la forma entidad_id -> entidad\n",
    "    items_comunes = dict() # (item_comun, ditancia) = [entidad_ id] con el camino asociado\n",
    "    items_camino_minimo = dict() # item_comun = distancia minima\n",
    "    \n",
    "    dist1_id1 = get_claims(item_id1, dict_cache) # Distancia de 1 a item_id1\n",
    "    dist1_id2 = get_claims(item_id2, dict_cache) # Distancia de 1 a item_id2\n",
    "    dic_dist2_id1 = dict() # Distancia de 2 con Diccionario < (id_propiedad, id_valor), [(id_propiedad, id_valor)] >\n",
    "    dic_dist2_id2 = dict() # Distancia de 2 con Diccionario < (id_propiedad, id_valor), [(id_propiedad, id_valor)] >\n",
    "    dic_dist3_id1 = dict() # Distancia de 3 con Diccionario < (id_propiedad, id_valor), [(id_propiedad, id_valor)] >\n",
    "    dic_dist3_id2 = dict() # Distancia de 3 con Diccionario < (id_propiedad, id_valor), [(id_propiedad, id_valor)] >\n",
    "    \n",
    "    for pair in dist1_id1:\n",
    "        dic_dist2_id1[pair] = get_claims(pair[1], dict_cache)\n",
    "\n",
    "    for pair in dist1_id2:\n",
    "        dic_dist2_id2[pair] = get_claims(pair[1], dict_cache)\n",
    "        \n",
    "    for pair in dic_dist2_id1.values():\n",
    "        for x in pair:\n",
    "            dic_dist3_id1[x] = get_claims(x[1], dict_cache)\n",
    "        \n",
    "    for pair in dic_dist2_id2.values():\n",
    "        for x in pair:\n",
    "            dic_dist3_id2[x] = get_claims(x[1], dict_cache)\n",
    "    \n",
    "    # Al camino añadido al diccionario item_comunes le falta item_id1 inicial y item_id2 final\n",
    "    \n",
    "    for pair_id1 in dist1_id1:\n",
    "        for pair_id2 in dist1_id2:\n",
    "            for pair2_id1 in dic_dist2_id1[pair_id1]:\n",
    "                for pair2_id2 in dic_dist2_id2[pair_id2]:\n",
    "                    \n",
    "                    if(pair_id1[1] == pair_id2[1]):\n",
    "                        items_comunes[(pair_id2[1],2)] = [pair_id1, pair_id2]\n",
    "                    if(pair2_id2[1] == pair_id1[1]):\n",
    "                        items_comunes[(pair2_id2[1],3)] = [pair_id1, pair2_id2, pair_id2]\n",
    "                    if(pair2_id1[1] == pair_id2[1]):\n",
    "                        items_comunes[(pair_id2[1],3)] = [pair_id1, pair2_id1, pair_id2]\n",
    "                    if(pair2_id1[1] == pair2_id2[1]):\n",
    "                        items_comunes[(pair2_id2[1],4)] = [pair_id1, pair2_id1, pair2_id2, pair_id2]\n",
    "                        \n",
    "                    for pair3_id1 in dic_dist3_id1[pair2_id1]:\n",
    "                        if(pair3_id1[1] == pair_id2[1]):\n",
    "                            items_comunes[(pair_id2[1],4)] = [pair_id1, pair2_id1, pair3_id1, pair_id2]\n",
    "                        if(pair3_id1[1] == pair2_id2[1]):\n",
    "                            items_comunes[(pair2_id2[1],5)] = [pair_id1, pair2_id1, pair3_id1, pair2_id2, pair_id2]\n",
    "                            \n",
    "                    for pair3_id2 in dic_dist3_id2[pair2_id2]:\n",
    "                        if(pair3_id2[1] == pair_id1[1]):\n",
    "                            items_comunes[(pair_id1[1],4)] = [pair_id1, pair3_id2, pair2_id2, pair_id2] \n",
    "                        if(pair3_id2[1] == pair2_id1[1]):\n",
    "                            items_comunes[(pair2_id1[1],5)] = [pair_id1, pair2_id1, pair3_id2, pair2_id2, pair_id2]\n",
    "    \n",
    "    cadena = ' --- ENTIDAD: {} , NOMBRE {} Y DISTANCIA: {}, CAMINO GENERADO: {} '\n",
    "    \n",
    "    for item in items_comunes.keys():\n",
    "        poner = True\n",
    "        lista = items_comunes[item]\n",
    "        lista.insert(0, item_id1)\n",
    "        lista.append(item_id2)\n",
    "        \n",
    "        if item[0] in items_camino_minimo:\n",
    "            if item[1] > items_camino_minimo[item[0]] : poner = False\n",
    "        \n",
    "        if poner:\n",
    "            if item[0] in dict_cache : print(cadena.format(item[0], dict_cache[item[0]].get_label(), \n",
    "                                                           item[1], lista))\n",
    "            else :\n",
    "                item_dict = get_entity_dict_from_api(item[0])\n",
    "                entidad = WikidataItem(item_dict)\n",
    "                print(cadena.format(item[0], entidad.get_label(), item[1], item_id1 + items_comunes[item] + item_id2))\n",
    "                \n",
    "            items_camino_minimo[item[0]] = item[1] \n",
    "    \n",
    "            "
   ]
  },
  {
   "cell_type": "markdown",
   "metadata": {},
   "source": [
    "Comparación de las entidades del apartado anterior dos a dos mostrando los\n",
    "caminos de longitud mínima. Considerando las propiedades indicadas\n",
    "previamente"
   ]
  },
  {
   "cell_type": "code",
   "execution_count": 7,
   "metadata": {},
   "outputs": [
    {
     "name": "stdout",
     "output_type": "stream",
     "text": [
      " --- ENTIDAD: Q34379 , NOMBRE musical instrument Y DISTANCIA: 3, CAMINO GENERADO: ['Q5994', ('P31', 'Q34379'), ('P279', 'Q34379'), ('P279', 'Q52954'), 'Q1343007'] \n",
      " --- ENTIDAD: Q267228 , NOMBRE sound generator Y DISTANCIA: 5, CAMINO GENERADO: ['Q5994', ('P31', 'Q34379'), ('P279', 'Q267228'), ('P279', 'Q267228'), ('P279', 'Q34379'), ('P279', 'Q52954'), 'Q1343007'] \n",
      " --- ENTIDAD: Q39546 , NOMBRE tool Y DISTANCIA: 5, CAMINO GENERADO: ['Q5994', ('P31', 'Q34379'), ('P279', 'Q39546'), ('P279', 'Q39546'), ('P279', 'Q34379'), ('P279', 'Q52954'), 'Q1343007'] \n",
      " --- ENTIDAD: Q19659292 , NOMBRE musical instrument part Y DISTANCIA: 5, CAMINO GENERADO: ['Q5994', ('P31', 'Q34379'), ('P527', 'Q19659292'), ('P279', 'Q19659292'), ('P527', 'Q901207'), ('P279', 'Q52954'), 'Q1343007'] \n",
      " --- ENTIDAD: Q1254773 , NOMBRE class of instruments Y DISTANCIA: 5, CAMINO GENERADO: ['Q5994', ('P279', 'Q4951628'), ('P279', 'Q55724742'), ('P31', 'Q1254773'), ('P31', 'Q1254773'), ('P279', 'Q1327500'), 'Q1343007'] \n",
      " --- ENTIDAD: Q52954 , NOMBRE keyboard instrument Y DISTANCIA: 2, CAMINO GENERADO: ['Q5994', ('P279', 'Q52954'), ('P279', 'Q52954'), 'Q1343007'] \n",
      " --- ENTIDAD: Q1254773 , NOMBRE class of instruments Y DISTANCIA: 4, CAMINO GENERADO: ['Q5994', ('P279', 'Q4951628'), ('P31', 'Q1254773'), ('P31', 'Q1254773'), ('P279', 'Q1327500'), 'Q1343007'] \n",
      " --- ENTIDAD: Q901207 , NOMBRE musical keyboard Y DISTANCIA: 4, CAMINO GENERADO: ['Q5994', ('P279', 'Q52954'), ('P527', 'Q901207'), ('P527', 'Q901207'), ('P279', 'Q52954'), 'Q1343007'] \n"
     ]
    }
   ],
   "source": [
    "camino_minimo('Q5994','Q1343007')"
   ]
  },
  {
   "cell_type": "markdown",
   "metadata": {},
   "source": [
    "Las dos entidades están relacionadas mediante la entidad `musical instrument Q34379` de manera que `piano Q5994` es instancia de `musical instrument Q34379` (la entidad común) y `electronic keyboard Q1343007` es subclase de `keyboard instrument Q52954` que a su vez es subclase de  `musical instrument Q34379`.\n",
    "\n",
    "Las dos entidades están relacionadas mediante la entidad `keyboard instrument Q52954` de modo que `piano Q5994` es subclase de `keyboard instrument Q52954` y `electronic keyboard Q1343007` es subclase de `keyboard instrument Q52954`."
   ]
  },
  {
   "cell_type": "code",
   "execution_count": 8,
   "metadata": {},
   "outputs": [
    {
     "name": "stdout",
     "output_type": "stream",
     "text": [
      " --- ENTIDAD: Q1254773 , NOMBRE class of instruments Y DISTANCIA: 5, CAMINO GENERADO: ['Q2355465', ('P31', 'Q1327500'), ('P31', 'Q1254773'), ('P31', 'Q1254773'), ('P279', 'Q57306162'), ('P1303', 'Q6607'), 'Q76364'] \n",
      " --- ENTIDAD: Q34379 , NOMBRE musical instrument Y DISTANCIA: 5, CAMINO GENERADO: ['Q2355465', ('P31', 'Q1327500'), ('P279', 'Q105738'), ('P279', 'Q34379'), ('P279', 'Q34379'), ('P1303', 'Q52954'), 'Q76364'] \n",
      " --- ENTIDAD: Q1254773 , NOMBRE class of instruments Y DISTANCIA: 4, CAMINO GENERADO: ['Q2355465', ('P31', 'Q1327500'), ('P31', 'Q1254773'), ('P31', 'Q1254773'), ('P1303', 'Q52954'), 'Q76364'] \n",
      " --- ENTIDAD: Q1327500 , NOMBRE electronic musical instrument Y DISTANCIA: 3, CAMINO GENERADO: ['Q2355465', ('P31', 'Q1327500'), ('P279', 'Q1327500'), ('P1303', 'Q163829'), 'Q76364'] \n",
      " --- ENTIDAD: Q105738 , NOMBRE electrophone Y DISTANCIA: 5, CAMINO GENERADO: ['Q2355465', ('P31', 'Q1327500'), ('P279', 'Q105738'), ('P279', 'Q105738'), ('P279', 'Q1327500'), ('P1303', 'Q163829'), 'Q76364'] \n",
      " --- ENTIDAD: Q876367 , NOMBRE electronic instrument Y DISTANCIA: 5, CAMINO GENERADO: ['Q2355465', ('P31', 'Q1327500'), ('P279', 'Q876367'), ('P279', 'Q876367'), ('P279', 'Q1327500'), ('P1303', 'Q163829'), 'Q76364'] \n"
     ]
    }
   ],
   "source": [
    "camino_minimo('Q2355465','Q76364')"
   ]
  },
  {
   "cell_type": "markdown",
   "metadata": {},
   "source": [
    "Las dos entidades están relacionadas mediante la entidad `electronic musical instrument Q1327500` de modo que `string synthesizer Q2355465` es instancia de `electronic musical instrument Q1327500` y  `hans zimmer Q76364` su instrumento es `keyboard instrument Q52954` que a su vez es subclase de `electronic musical instrument Q1327500`."
   ]
  },
  {
   "cell_type": "code",
   "execution_count": 9,
   "metadata": {},
   "outputs": [
    {
     "name": "stdout",
     "output_type": "stream",
     "text": [
      " --- ENTIDAD: Q11424 , NOMBRE film Y DISTANCIA: 3, CAMINO GENERADO: ['Q46717', ('P31', 'Q11424'), ('P279', 'Q11424'), ('P136', 'Q130232'), 'Q36479'] \n",
      " --- ENTIDAD: Q4502142 , NOMBRE visual artwork Y DISTANCIA: 5, CAMINO GENERADO: ['Q46717', ('P31', 'Q11424'), ('P279', 'Q4502142'), ('P279', 'Q4502142'), ('P279', 'Q11424'), ('P136', 'Q130232'), 'Q36479'] \n",
      " --- ENTIDAD: Q2431196 , NOMBRE audiovisual work Y DISTANCIA: 5, CAMINO GENERADO: ['Q46717', ('P31', 'Q11424'), ('P279', 'Q2431196'), ('P279', 'Q2431196'), ('P279', 'Q11424'), ('P136', 'Q130232'), 'Q36479'] \n",
      " --- ENTIDAD: Q20937557 , NOMBRE series Y DISTANCIA: 5, CAMINO GENERADO: ['Q46717', ('P31', 'Q11424'), ('P279', 'Q20937557'), ('P279', 'Q20937557'), ('P279', 'Q11424'), ('P136', 'Q130232'), 'Q36479'] \n",
      " --- ENTIDAD: Q10301427 , NOMBRE moving image Y DISTANCIA: 5, CAMINO GENERADO: ['Q46717', ('P31', 'Q11424'), ('P279', 'Q10301427'), ('P279', 'Q10301427'), ('P279', 'Q11424'), ('P136', 'Q130232'), 'Q36479'] \n",
      " --- ENTIDAD: Q20820424 , NOMBRE credit Y DISTANCIA: 5, CAMINO GENERADO: ['Q46717', ('P31', 'Q11424'), ('P527', 'Q20820424'), ('P527', 'Q20820424'), ('P279', 'Q11424'), ('P136', 'Q130232'), 'Q36479'] \n",
      " --- ENTIDAD: Q622550 , NOMBRE trailer Y DISTANCIA: 5, CAMINO GENERADO: ['Q46717', ('P31', 'Q11424'), ('P527', 'Q622550'), ('P527', 'Q622550'), ('P279', 'Q11424'), ('P136', 'Q130232'), 'Q36479'] \n",
      " --- ENTIDAD: Q795160 , NOMBRE film frame Y DISTANCIA: 5, CAMINO GENERADO: ['Q46717', ('P31', 'Q11424'), ('P527', 'Q795160'), ('P527', 'Q795160'), ('P279', 'Q11424'), ('P136', 'Q130232'), 'Q36479'] \n",
      " --- ENTIDAD: Q4458345 , NOMBRE motion picture credits Y DISTANCIA: 5, CAMINO GENERADO: ['Q46717', ('P31', 'Q11424'), ('P527', 'Q4458345'), ('P527', 'Q4458345'), ('P279', 'Q11424'), ('P136', 'Q130232'), 'Q36479'] \n",
      " --- ENTIDAD: Q441606 , NOMBRE title sequence Y DISTANCIA: 5, CAMINO GENERADO: ['Q46717', ('P31', 'Q11424'), ('P527', 'Q441606'), ('P527', 'Q441606'), ('P279', 'Q11424'), ('P136', 'Q130232'), 'Q36479'] \n",
      " --- ENTIDAD: Q201658 , NOMBRE film genre Y DISTANCIA: 4, CAMINO GENERADO: ['Q46717', ('P136', 'Q2096633'), ('P31', 'Q201658'), ('P31', 'Q201658'), ('P136', 'Q130232'), 'Q36479'] \n",
      " --- ENTIDAD: Q130232 , NOMBRE drama Y DISTANCIA: 4, CAMINO GENERADO: ['Q46717', ('P136', 'Q222639'), ('P279', 'Q542475'), ('P279', 'Q130232'), ('P136', 'Q130232'), 'Q36479'] \n"
     ]
    }
   ],
   "source": [
    "camino_minimo('Q46717','Q36479')"
   ]
  },
  {
   "cell_type": "markdown",
   "metadata": {},
   "source": [
    "Las dos entidades están relacionadas mediante la entidad `film Q11424` de modo que `Pirates of the Caribbean: The Curse of the Black Pearl Q46717` es instancia de `film Q11424` y  `The Lion King Q36479` es del género `drama Q130232` que a su vez esta entidad es sublcase de `film Q11424` (entidad común)."
   ]
  },
  {
   "cell_type": "code",
   "execution_count": 10,
   "metadata": {},
   "outputs": [
    {
     "name": "stdout",
     "output_type": "stream",
     "text": [
      " --- ENTIDAD: Q11424 , NOMBRE film Y DISTANCIA: 4, CAMINO GENERADO: ['Q171048', ('P136', 'Q157394'), ('P279', 'Q2973181'), ('P279', 'Q11424'), ('P31', 'Q11424'), 'Q192724'] \n",
      " --- ENTIDAD: Q201658 , NOMBRE film genre Y DISTANCIA: 5, CAMINO GENERADO: ['Q171048', ('P136', 'Q157394'), ('P279', 'Q2973181'), ('P31', 'Q201658'), ('P31', 'Q201658'), ('P136', 'Q1535153'), 'Q192724'] \n",
      " --- ENTIDAD: Q11424 , NOMBRE film Y DISTANCIA: 3, CAMINO GENERADO: ['Q171048', ('P136', 'Q663106'), ('P279', 'Q11424'), ('P31', 'Q11424'), 'Q192724'] \n",
      " --- ENTIDAD: Q4502142 , NOMBRE visual artwork Y DISTANCIA: 5, CAMINO GENERADO: ['Q171048', ('P136', 'Q663106'), ('P279', 'Q11424'), ('P279', 'Q4502142'), ('P279', 'Q4502142'), ('P31', 'Q11424'), 'Q192724'] \n",
      " --- ENTIDAD: Q2431196 , NOMBRE audiovisual work Y DISTANCIA: 5, CAMINO GENERADO: ['Q171048', ('P136', 'Q663106'), ('P279', 'Q11424'), ('P279', 'Q2431196'), ('P279', 'Q2431196'), ('P31', 'Q11424'), 'Q192724'] \n",
      " --- ENTIDAD: Q20937557 , NOMBRE series Y DISTANCIA: 5, CAMINO GENERADO: ['Q171048', ('P136', 'Q663106'), ('P279', 'Q11424'), ('P279', 'Q20937557'), ('P279', 'Q20937557'), ('P31', 'Q11424'), 'Q192724'] \n",
      " --- ENTIDAD: Q10301427 , NOMBRE moving image Y DISTANCIA: 5, CAMINO GENERADO: ['Q171048', ('P136', 'Q663106'), ('P279', 'Q11424'), ('P279', 'Q10301427'), ('P279', 'Q10301427'), ('P31', 'Q11424'), 'Q192724'] \n",
      " --- ENTIDAD: Q20820424 , NOMBRE credit Y DISTANCIA: 5, CAMINO GENERADO: ['Q171048', ('P136', 'Q663106'), ('P279', 'Q11424'), ('P527', 'Q20820424'), ('P527', 'Q20820424'), ('P31', 'Q11424'), 'Q192724'] \n",
      " --- ENTIDAD: Q622550 , NOMBRE trailer Y DISTANCIA: 5, CAMINO GENERADO: ['Q171048', ('P136', 'Q663106'), ('P279', 'Q11424'), ('P527', 'Q622550'), ('P527', 'Q622550'), ('P31', 'Q11424'), 'Q192724'] \n",
      " --- ENTIDAD: Q795160 , NOMBRE film frame Y DISTANCIA: 5, CAMINO GENERADO: ['Q171048', ('P136', 'Q663106'), ('P279', 'Q11424'), ('P527', 'Q795160'), ('P527', 'Q795160'), ('P31', 'Q11424'), 'Q192724'] \n",
      " --- ENTIDAD: Q4458345 , NOMBRE motion picture credits Y DISTANCIA: 5, CAMINO GENERADO: ['Q171048', ('P136', 'Q663106'), ('P279', 'Q11424'), ('P527', 'Q4458345'), ('P527', 'Q4458345'), ('P31', 'Q11424'), 'Q192724'] \n",
      " --- ENTIDAD: Q441606 , NOMBRE title sequence Y DISTANCIA: 5, CAMINO GENERADO: ['Q171048', ('P136', 'Q663106'), ('P279', 'Q11424'), ('P527', 'Q441606'), ('P527', 'Q441606'), ('P31', 'Q11424'), 'Q192724'] \n",
      " --- ENTIDAD: Q201658 , NOMBRE film genre Y DISTANCIA: 4, CAMINO GENERADO: ['Q171048', ('P136', 'Q157394'), ('P31', 'Q201658'), ('P31', 'Q201658'), ('P136', 'Q1535153'), 'Q192724'] \n",
      " --- ENTIDAD: Q2973181 , NOMBRE speculative fiction film Y DISTANCIA: 4, CAMINO GENERADO: ['Q171048', ('P136', 'Q157394'), ('P279', 'Q2973181'), ('P279', 'Q2973181'), ('P136', 'Q471839'), 'Q192724'] \n"
     ]
    }
   ],
   "source": [
    "camino_minimo('Q171048','Q192724')"
   ]
  },
  {
   "cell_type": "markdown",
   "metadata": {},
   "source": [
    "Las dos entidades están relacionadas mediante la entidad `film Q11424` de modo que `Toy Story Q171048` es del género `buddy film Q663106` que a la vez es subclase de `film Q11424` y por la otra parte `Iron Man Q192724` es instancia de `film Q11424` la entidad común."
   ]
  }
 ],
 "metadata": {
  "kernelspec": {
   "display_name": "Python 3",
   "language": "python",
   "name": "python3"
  },
  "language_info": {
   "codemirror_mode": {
    "name": "ipython",
    "version": 3
   },
   "file_extension": ".py",
   "mimetype": "text/x-python",
   "name": "python",
   "nbconvert_exporter": "python",
   "pygments_lexer": "ipython3",
   "version": "3.7.6"
  }
 },
 "nbformat": 4,
 "nbformat_minor": 2
}
