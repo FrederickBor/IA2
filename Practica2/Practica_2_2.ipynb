{
 "cells": [
  {
   "cell_type": "markdown",
   "metadata": {},
   "source": [
    "# Práctica 2\n",
    "## Parte 2. Recuperación de Información\n",
    "<br>\n",
    "\n",
    "__Alumnos:__\n",
    "* __Frederick Ernesto Borges Noronha__\n",
    "* __Victor Manuel Cavero Gracia__"
   ]
  },
  {
   "cell_type": "markdown",
   "metadata": {},
   "source": [
    "Aquí vamos a utilizar el conjunto de datos de 20 Newsgroups que se encuentra disponible en Scikit-learn y que hemos usado en el notebook de ejemplo.\n",
    "\n",
    "El conjunto consiste en textos de un foro sobre diferentes temas, desde hardware hasta religión. Algunos temas están muy relacionados, p.ej. \"IBM PC hardware\" y \"Mac hardware\", mientras que otros son más diversos, p.ej. \"religion\" o \"hockey\").\n",
    "\n",
    "El objetivo de esta parte es poner en poner en práctica los conceptos de recuperación de información para realizar un buscador de mensajes en un foro."
   ]
  },
  {
   "cell_type": "markdown",
   "metadata": {},
   "source": [
    "### Apartado A\n",
    "\n",
    "El conjunto está dividido de forma predeterminada en entrenamiento y prueba en porcentajes de 60 y 40, respectivamente (como se puede ver en el notebook de prueba). Usaremos únicamente la parte de entrenamiento como los mensajes a recuperar por nuestro buscador.\n",
    "\n",
    "Vamos a utilizar una representación de la bolsa de palabras de **countVectorizer** con las siguientes opciones:\n",
    "- La bolsa de palabras tendrá en cuenta la frecuencia de las palabras en cada mensaje (**binary=False**)\n",
    "- Usa el diccionario que se encuentra en la siguiente URL y que ya usamos en el notebook de prueba. https://github.com/dwyl/english-words/blob/master/words.txt\n",
    "- Usa la lista de palabras vacías (parámetro **stop_words**) que proporciona sklearn para el inglés\n",
    "- Usando un rango de n-gramas de (1,1) (parámetro **ngram_range**).\n",
    "\n",
    "Para calcular la similitud entre dos mensajes usaremos la similitud del coseno (**sklearn.metrics.pairwise.cosine_similarity**) que es capaz de medir la similitud entre los elementos (es decir, entre las filas) de dos matrices de vectores de términos pudiendo ser estas matrices densas o dispersas.\n",
    "\n",
    "Toma 3 mensaje del conjunto de prueba para cada clase (es decir, para cada tema). Vas a usar cada uno de dichos mensajes como consulta para recuperar los mensajes del conjunto de entrenamiento que más se parezcan a la consulta. Para ello sigue los siguientes pasos:\n",
    "\n",
    "1. Usa la distancia del coseno entre el mensaje de consulta y los mensajes de entrenamiento.\n",
    "\n",
    "2. Ordena los resultados de mayor a menor relevancia con la consulta.\n",
    "\n",
    "3. Calcula la precisión de la lista de resultados con nivel de exhaustividad 3 y 10. \n",
    "\n",
    "    - La precisión a un nivel de exhaustividad X es el número de resultados que son relevantes (es decir, de la clase buscada) de entre los X primeros recuperados.\n",
    "\n",
    "4. Calcula los valores de precisión media (para cada nivel de exhaustividad) para cada clase del conjunto de datos.\n",
    "\n",
    "Se valorará el uso de funciones y la claridad del código, así como sus comentarios. Contesta a lo siguiente:\n",
    "\n",
    "- ¿Hay muchas diferencias entre los valores de precisión medios para las distintas clases del conjunto de datos? ¿A qué crees que se deben?\n",
    "\n",
    "- Identifica la clase que haya tenido peores resultados de precisión y para alguna de sus consultas muestra alguno de los mensajes que recuperó erróneamente en las primeras X posiciones.\n",
    "\n",
    "    - ¿Con qué clases se ha confundido más dicha consulta? \n",
    "\n",
    "    - ¿A qué crees que se deben los malos resultados?\n",
    "\n",
    "Debes usar la parte de entrenamiento para construir la bolsa de palabras con frecuencia y bolsa de palabras con TF/IDF.\n",
    "\n",
    "### Apartado B\n",
    "\n",
    "Repite la secuencia de pasos descritos en el apartado a) pero ahora usa TF-IDF para ponderar el peso de los términos de la bolsa de palabras.  Para usar TF-IDF primero debes transformar los textos  usando  **countVectorizer** con **binary=False**  para  obtener  la  frecuencia  de  palabras  (exactamente igual que en el apartado anterior), y a continuación usar **TfidfTransformer** para modular dicha frecuencia según lo popular que sea cada término en el conjunto de mensajes de entrenamiento.\n",
    "\n",
    "A continuación contesta a lo siguiente.\n",
    "\n",
    "- ¿Han cambiado los valores de precisión media para las clases del conjunto de datos?¿Qué clases han mejorado? ¿Cuáles han empeorado?\n",
    "\n",
    "- Encuentra una consulta donde el uso de la ponderación TF-IDF haya sido efectivo y haya mejorado los resultados. Explica por qué ha sido efectivo."
   ]
  },
  {
   "cell_type": "markdown",
   "metadata": {},
   "source": [
    "### Imports:\n",
    "A continuación se encuentran todos los imports de las librerias de las que haremos uso en esta práctica."
   ]
  },
  {
   "cell_type": "code",
   "execution_count": 1,
   "metadata": {},
   "outputs": [],
   "source": [
    "from sklearn.datasets import fetch_20newsgroups\n",
    "from sklearn.feature_extraction.text import CountVectorizer\n",
    "from sklearn.feature_extraction.text import TfidfTransformer\n",
    "from sklearn.metrics.pairwise import cosine_similarity\n",
    "import numpy as np\n",
    "import pandas as pd\n",
    "import operator"
   ]
  },
  {
   "cell_type": "markdown",
   "metadata": {},
   "source": [
    "## Definición de Funciones"
   ]
  },
  {
   "cell_type": "code",
   "execution_count": 2,
   "metadata": {},
   "outputs": [
    {
     "name": "stdout",
     "output_type": "stream",
     "text": [
      "Saved documents: 11314\n",
      "# of consults: 7532\n"
     ]
    }
   ],
   "source": [
    "documentos_guardados = fetch_20newsgroups(subset='train', shuffle=True, random_state=42)\n",
    "consultas_a_generar = fetch_20newsgroups(subset='test')\n",
    "\n",
    "print(\"Saved documents:\", len(documentos_guardados.data))\n",
    "print(\"# of consults:\", len(consultas_a_generar.data))"
   ]
  },
  {
   "cell_type": "code",
   "execution_count": 3,
   "metadata": {},
   "outputs": [
    {
     "name": "stdout",
     "output_type": "stream",
     "text": [
      "Dictionary Length:  466551  words\n"
     ]
    }
   ],
   "source": [
    "# Crear el diccionario de palabras\n",
    "with open('Datos/words.txt') as f:\n",
    "    dictionary = f.read().splitlines()\n",
    "\n",
    "print(\"Dictionary Length: \", len(dictionary), \" words\")"
   ]
  },
  {
   "cell_type": "code",
   "execution_count": 4,
   "metadata": {},
   "outputs": [],
   "source": [
    "def obtenerNombresDeClase(target,consultas_a_generar):\n",
    "    '''\n",
    "    Obtiene una tupla con el ID de la clase y \n",
    "    el nombre de la clase a la que pertenece.\n",
    "    '''\n",
    "    return (target, consultas_a_generar.target_names[target])"
   ]
  },
  {
   "cell_type": "code",
   "execution_count": 5,
   "metadata": {},
   "outputs": [],
   "source": [
    "def todosLosTemasTienenNElementos(temas, n):\n",
    "    '''\n",
    "    Comprueba que todos los temas tenga N cantidad de elementos.\n",
    "    '''\n",
    "    for key, value in temas.items():\n",
    "        if (len(value) != n):\n",
    "            return False\n",
    "    return True"
   ]
  },
  {
   "cell_type": "code",
   "execution_count": 6,
   "metadata": {},
   "outputs": [],
   "source": [
    "def buscarNMensajesPorTema(temas_consultas, mensajes_consultas, n):\n",
    "    '''\n",
    "    Genera un diccionario de la forma \n",
    "    {\"Tema\": (\"ID_Mensaje\", \"Mensaje\")}\n",
    "    '''\n",
    "    temas = {x: [] for x in consultas_a_generar.target_names}\n",
    "    i = 0\n",
    "    while (not todosLosTemasTienenNElementos(temas, n)):\n",
    "        if (len(temas[temas_consultas[i]]) < n):\n",
    "            value = (i, mensajes_consultas[i])\n",
    "            temas[temas_consultas[i]].append(value)\n",
    "        i += 1\n",
    "    return temas"
   ]
  },
  {
   "cell_type": "code",
   "execution_count": 7,
   "metadata": {},
   "outputs": [],
   "source": [
    "def recuperarNResultados(consulta,documentos, n):\n",
    "    '''\n",
    "    '''\n",
    "    x = cosine_similarity(consulta,documentos)[0]\n",
    "    y = [index for index in range(len(x))]\n",
    "    values = list(zip(y,x))\n",
    "    values.sort(reverse=True, key = operator.itemgetter(1))\n",
    "    return values[0:n]"
   ]
  },
  {
   "cell_type": "code",
   "execution_count": 8,
   "metadata": {},
   "outputs": [],
   "source": [
    "def calcularTargets(consulta, documentos, documentos_guardados, n):\n",
    "    resultado = recuperarNResultados(consulta,documentos, n)\n",
    "    ids, cosineSimilarity = zip(*resultado)\n",
    "    targets = []\n",
    "    for id in ids:\n",
    "        targets.append(documentos_guardados.target[id])\n",
    "    \n",
    "    return targets, cosineSimilarity, ids"
   ]
  },
  {
   "cell_type": "code",
   "execution_count": 9,
   "metadata": {},
   "outputs": [],
   "source": [
    "def precision(numRelevantDocs, numDocsObtained):\n",
    "    return numRelevantDocs/numDocsObtained"
   ]
  },
  {
   "cell_type": "code",
   "execution_count": 10,
   "metadata": {},
   "outputs": [],
   "source": [
    "def getNumRelevantDocs(claseBuscada, clasesObtenidas):\n",
    "    count = 0\n",
    "    for clase in clasesObtenidas:\n",
    "        if (clase == claseBuscada):\n",
    "            count += 1\n",
    "    return count"
   ]
  },
  {
   "cell_type": "code",
   "execution_count": 11,
   "metadata": {},
   "outputs": [],
   "source": [
    "def calcularPrecision(consulta, targetConsulta, documentos, documentos_guardados, n):\n",
    "    targets, cosineSimilarity, ids = calcularTargets(consulta, documentos, documentos_guardados, n)\n",
    "    ret = precision(getNumRelevantDocs(targetConsulta, targets),n)\n",
    "    return ret, ids"
   ]
  },
  {
   "cell_type": "code",
   "execution_count": 12,
   "metadata": {},
   "outputs": [],
   "source": [
    "def generarResultados(nMensajes, topics, documentos, documentos_guardados, ids, n):\n",
    "    resultDict = dict()\n",
    "    idsDict = dict()\n",
    "    for key, values in nMensajes.items():\n",
    "        resultDict[topics[values[0][0]]] = np.array([])\n",
    "        idsDict[topics[values[0][0]]] = []\n",
    "        for id, value in values:\n",
    "            precision, ids_mensajes = calcularPrecision(value, ids[id], documentos, documentos_guardados, n)\n",
    "            idsDict[topics[id]].append(ids_mensajes)\n",
    "            resultDict[topics[id]] = np.append(resultDict[topics[id]], precision)\n",
    "            \n",
    "    return resultDict, idsDict"
   ]
  },
  {
   "cell_type": "code",
   "execution_count": 13,
   "metadata": {},
   "outputs": [],
   "source": [
    "def imprimirResultado(resultados):\n",
    "    print(\"Resultados Precisión\\n\")\n",
    "    for key, value in resultados.items():\n",
    "        print(\"{}: \\n\\t {} - Precisión = {}\".format(key,value,value.mean()) )"
   ]
  },
  {
   "cell_type": "code",
   "execution_count": 14,
   "metadata": {},
   "outputs": [],
   "source": [
    "def ejecutarBuscador(consultas_a_generar, consultas, documentos_guardados, documentos,n=3, numMensajes=3):\n",
    "    id_and_topics = [obtenerNombresDeClase(x,consultas_a_generar) for x in consultas_a_generar.target]\n",
    "    ids, topics = zip(*id_and_topics)\n",
    "    nMensajes = buscarNMensajesPorTema(topics, consultas, n)\n",
    "    resultados, idsDict = generarResultados(nMensajes, topics, documentos, documentos_guardados, ids, n)\n",
    "    imprimirResultado(resultados)\n",
    "    return resultados, idsDict"
   ]
  },
  {
   "cell_type": "code",
   "execution_count": 15,
   "metadata": {},
   "outputs": [],
   "source": [
    "def comparar(resultado, resultadoTFIDF):\n",
    "    columnas = [\"Clase\", \"Mejora\"]\n",
    "    diccionario = {\"Clase\": [], \"Mejora\": []}\n",
    "    for key, value in resultado.items():\n",
    "        diccionario[\"Clase\"].append(key)\n",
    "        diccionario[\"Mejora\"].append(resultadoTFIDF[key].mean() - value.mean())\n",
    "    df = pd.DataFrame(data=diccionario)\n",
    "    return df"
   ]
  },
  {
   "cell_type": "markdown",
   "metadata": {},
   "source": [
    "## Apartado A"
   ]
  },
  {
   "cell_type": "code",
   "execution_count": 16,
   "metadata": {},
   "outputs": [],
   "source": [
    "# Creamos el CountVectorizer\n",
    "\n",
    "vectorizer = CountVectorizer(vocabulary=dictionary, stop_words='english', ngram_range=(1,1), binary=False)\n",
    "documentos=vectorizer.fit_transform(documentos_guardados.data)"
   ]
  },
  {
   "cell_type": "code",
   "execution_count": 17,
   "metadata": {},
   "outputs": [],
   "source": [
    "# Tomamos los textos del conjunto de test y los transformamos en una matriz\n",
    "# de palabras. Al usar \"transform\" toma como referencia únicamente las palabras\n",
    "# encontradas en el conjunto de entrenamiento\n",
    "consultas=vectorizer.transform(consultas_a_generar.data)"
   ]
  },
  {
   "cell_type": "code",
   "execution_count": 18,
   "metadata": {
    "scrolled": false
   },
   "outputs": [
    {
     "name": "stdout",
     "output_type": "stream",
     "text": [
      "Resultados Precisión\n",
      "\n",
      "alt.atheism: \n",
      "\t [1. 0. 0.] - Precisión = 0.3333333333333333\n",
      "comp.graphics: \n",
      "\t [0.66666667 0.         0.        ] - Precisión = 0.2222222222222222\n",
      "comp.os.ms-windows.misc: \n",
      "\t [0.66666667 0.         0.        ] - Precisión = 0.2222222222222222\n",
      "comp.sys.ibm.pc.hardware: \n",
      "\t [1.         0.         0.66666667] - Precisión = 0.5555555555555555\n",
      "comp.sys.mac.hardware: \n",
      "\t [0. 0. 0.] - Precisión = 0.0\n",
      "comp.windows.x: \n",
      "\t [0.         0.33333333 0.66666667] - Precisión = 0.3333333333333333\n",
      "misc.forsale: \n",
      "\t [0.66666667 0.66666667 1.        ] - Precisión = 0.7777777777777777\n",
      "rec.autos: \n",
      "\t [0. 0. 1.] - Precisión = 0.3333333333333333\n",
      "rec.motorcycles: \n",
      "\t [1.         1.         0.66666667] - Precisión = 0.8888888888888888\n",
      "rec.sport.baseball: \n",
      "\t [1.         0.66666667 0.66666667] - Precisión = 0.7777777777777777\n",
      "rec.sport.hockey: \n",
      "\t [0.33333333 0.66666667 1.        ] - Precisión = 0.6666666666666666\n",
      "sci.crypt: \n",
      "\t [1.         0.33333333 0.33333333] - Precisión = 0.5555555555555555\n",
      "sci.electronics: \n",
      "\t [0.         0.33333333 1.        ] - Precisión = 0.4444444444444444\n",
      "sci.med: \n",
      "\t [1.         0.33333333 1.        ] - Precisión = 0.7777777777777777\n",
      "sci.space: \n",
      "\t [0.66666667 1.         0.66666667] - Precisión = 0.7777777777777777\n",
      "soc.religion.christian: \n",
      "\t [1.         0.33333333 1.        ] - Precisión = 0.7777777777777777\n",
      "talk.politics.guns: \n",
      "\t [0.33333333 0.66666667 0.66666667] - Precisión = 0.5555555555555555\n",
      "talk.politics.mideast: \n",
      "\t [0.33333333 0.33333333 0.        ] - Precisión = 0.2222222222222222\n",
      "talk.politics.misc: \n",
      "\t [0.33333333 0.66666667 0.        ] - Precisión = 0.3333333333333333\n",
      "talk.religion.misc: \n",
      "\t [0.         0.33333333 0.66666667] - Precisión = 0.3333333333333333\n"
     ]
    }
   ],
   "source": [
    "resultadoEx3, idsEx3 = ejecutarBuscador(consultas_a_generar,consultas, documentos_guardados,documentos,3)"
   ]
  },
  {
   "cell_type": "code",
   "execution_count": 20,
   "metadata": {
    "scrolled": false
   },
   "outputs": [
    {
     "name": "stdout",
     "output_type": "stream",
     "text": [
      "Resultados Precisión\n",
      "\n",
      "alt.atheism: \n",
      "\t [0.7 0.  0.  0.  0.3 0.  0.2 0.2 0.1 0. ] - Precisión = 0.15\n",
      "comp.graphics: \n",
      "\t [0.6 0.  0.  0.3 0.6 0.2 0.  0.  0.6 0.4] - Precisión = 0.26999999999999996\n",
      "comp.os.ms-windows.misc: \n",
      "\t [0.8 0.1 0.  0.  0.1 1.  0.3 0.3 0.9 0.2] - Precisión = 0.37\n",
      "comp.sys.ibm.pc.hardware: \n",
      "\t [1.  0.1 0.4 0.1 0.4 0.2 0.3 0.8 0.3 0.2] - Precisión = 0.38\n",
      "comp.sys.mac.hardware: \n",
      "\t [0.1 0.1 0.  0.1 0.4 0.2 0.3 0.1 0.2 0. ] - Precisión = 0.15\n",
      "comp.windows.x: \n",
      "\t [0.1 0.4 0.4 0.2 1.  0.5 0.5 0.2 0.1 0.1] - Precisión = 0.35000000000000003\n",
      "misc.forsale: \n",
      "\t [0.5 0.6 0.6 0.8 0.9 0.7 0.2 0.5 0.  0.2] - Precisión = 0.5\n",
      "rec.autos: \n",
      "\t [0.  0.  0.9 0.3 0.6 0.1 1.  0.9 0.2 0. ] - Precisión = 0.4\n",
      "rec.motorcycles: \n",
      "\t [0.9 1.  0.3 1.  1.  0.7 1.  0.  1.  0.7] - Precisión = 0.76\n",
      "rec.sport.baseball: \n",
      "\t [1.  0.8 0.5 0.8 0.  0.8 0.6 0.1 0.2 0.6] - Precisión = 0.5399999999999999\n",
      "rec.sport.hockey: \n",
      "\t [0.2 0.6 0.9 1.  0.9 0.8 0.8 0.8 0.8 0.9] - Precisión = 0.77\n",
      "sci.crypt: \n",
      "\t [0.8 0.2 0.1 0.6 0.3 0.  0.7 0.7 0.1 0.6] - Precisión = 0.41\n",
      "sci.electronics: \n",
      "\t [0.1 0.6 0.8 0.3 0.4 0.1 0.1 0.1 0.7 0. ] - Precisión = 0.32\n",
      "sci.med: \n",
      "\t [1.  0.1 0.5 0.  0.2 0.  0.7 0.5 0.1 0.6] - Precisión = 0.37\n",
      "sci.space: \n",
      "\t [0.6 1.  0.6 1.  0.9 0.6 0.2 0.3 1.  0.2] - Precisión = 0.64\n",
      "soc.religion.christian: \n",
      "\t [1.  0.1 0.4 0.2 0.4 0.3 0.  0.4 0.3 0.7] - Precisión = 0.38\n",
      "talk.politics.guns: \n",
      "\t [0.1 0.6 0.5 0.3 0.3 0.1 0.4 0.5 0.4 0.2] - Precisión = 0.33999999999999997\n",
      "talk.politics.mideast: \n",
      "\t [0.2 0.6 0.  0.5 0.6 0.6 0.2 0.2 0.5 0.1] - Precisión = 0.35000000000000003\n",
      "talk.politics.misc: \n",
      "\t [0.3 0.4 0.  0.  1.  0.9 0.  0.3 0.  0.6] - Precisión = 0.35\n",
      "talk.religion.misc: \n",
      "\t [0.  0.1 0.4 0.1 0.2 0.  0.2 0.6 0.  0. ] - Precisión = 0.16\n"
     ]
    }
   ],
   "source": [
    "resultadoEx10, idsEx10 = ejecutarBuscador(consultas_a_generar,consultas, documentos_guardados,documentos,10)"
   ]
  },
  {
   "cell_type": "markdown",
   "metadata": {},
   "source": [
    "**¿Hay muchas diferencias entre los valores de precisión medios para las distintas clases del conjunto de datos? ¿A qué crees que se deben?**\n",
    "\n",
    "Si exite una diferencia en los valores, esto puede deberse a que no hay suficientes datos comparables en el conjunto de entrenamiento para poder clasficar correctamente todas las clases presentes.\n",
    "\n",
    "**Identifica la clase que haya tenido peores resultados de precisión y para alguna de sus consultas muestra alguno de los mensajes que recuperó erróneamente en las primeras X posiciones.**\n",
    "\n",
    "Para exhaustividad 3 las peores clases consultadas han sido: `comp.graphics`, `comp.os.ms-windows.misc` y `talk.politics.mideast` con una precisión media del 0.2222222222222222, pero con una exhaustividad de 10 se tiene como peor `talk.religion.misc` con una precision media de 0.16666666666666666.\n",
    "\n",
    "A continuación mostramos los mensajes de cada clase en la que se ha fallado:\n",
    "\n",
    "`INSERTE AQUI CODIGO DE IMPRIMIR MENSAJE`\n",
    "\n",
    "**¿Con qué clases se ha confundido más dicha consulta?**\n",
    "\n",
    "`RESPUESTA PENDIENTE`\n",
    "\n",
    "**¿A qué crees que se deben los malos resultados?**\n",
    "\n",
    "Esto sucede porque en el caso de exhaustividad 3 se comparar los 3 mensajes de cada clase con el top 3 mensajes obtenidos por el buscador, sin embargo con exhaustividad 10 se caparan los 3 mensajes con el top 10 dandonos así valores mas cercanos a la realidad de precisión media."
   ]
  },
  {
   "cell_type": "markdown",
   "metadata": {},
   "source": [
    "## Apartado B"
   ]
  },
  {
   "cell_type": "code",
   "execution_count": 21,
   "metadata": {},
   "outputs": [],
   "source": [
    "# Creamos el CountVectorizer\n",
    "tfidfer= TfidfTransformer()\n",
    "\n",
    "# Calculamos el valor TF-IDF \n",
    "documentos_preprocessed=tfidfer.fit_transform(documentos)"
   ]
  },
  {
   "cell_type": "code",
   "execution_count": 22,
   "metadata": {},
   "outputs": [],
   "source": [
    "# Calculamos el valor TF-IDF \n",
    "# Al usar \"transform\" toma como IDF el del conjunto de entrenamiento \n",
    "consultas_preprocessed=tfidfer.transform(consultas)"
   ]
  },
  {
   "cell_type": "code",
   "execution_count": 23,
   "metadata": {
    "scrolled": false
   },
   "outputs": [
    {
     "name": "stdout",
     "output_type": "stream",
     "text": [
      "Resultados Precisión\n",
      "\n",
      "alt.atheism: \n",
      "\t [0.66666667 0.         0.        ] - Precisión = 0.2222222222222222\n",
      "comp.graphics: \n",
      "\t [0.33333333 0.         0.        ] - Precisión = 0.1111111111111111\n",
      "comp.os.ms-windows.misc: \n",
      "\t [0.33333333 0.         0.        ] - Precisión = 0.1111111111111111\n",
      "comp.sys.ibm.pc.hardware: \n",
      "\t [1.         0.66666667 0.33333333] - Precisión = 0.6666666666666666\n",
      "comp.sys.mac.hardware: \n",
      "\t [0.         0.33333333 0.66666667] - Precisión = 0.3333333333333333\n",
      "comp.windows.x: \n",
      "\t [0.         0.66666667 0.33333333] - Precisión = 0.3333333333333333\n",
      "misc.forsale: \n",
      "\t [0.33333333 0.66666667 0.33333333] - Precisión = 0.4444444444444444\n",
      "rec.autos: \n",
      "\t [0.         0.33333333 1.        ] - Precisión = 0.4444444444444444\n",
      "rec.motorcycles: \n",
      "\t [1.         1.         0.33333333] - Precisión = 0.7777777777777778\n",
      "rec.sport.baseball: \n",
      "\t [1. 1. 1.] - Precisión = 1.0\n",
      "rec.sport.hockey: \n",
      "\t [1. 1. 1.] - Precisión = 1.0\n",
      "sci.crypt: \n",
      "\t [1.         0.33333333 0.33333333] - Precisión = 0.5555555555555555\n",
      "sci.electronics: \n",
      "\t [0.         0.33333333 1.        ] - Precisión = 0.4444444444444444\n",
      "sci.med: \n",
      "\t [1.         0.33333333 1.        ] - Precisión = 0.7777777777777777\n",
      "sci.space: \n",
      "\t [1. 1. 1.] - Precisión = 1.0\n",
      "soc.religion.christian: \n",
      "\t [1.         0.33333333 1.        ] - Precisión = 0.7777777777777777\n",
      "talk.politics.guns: \n",
      "\t [0.66666667 0.66666667 0.66666667] - Precisión = 0.6666666666666666\n",
      "talk.politics.mideast: \n",
      "\t [0.33333333 1.         1.        ] - Precisión = 0.7777777777777777\n",
      "talk.politics.misc: \n",
      "\t [0.33333333 1.         0.66666667] - Precisión = 0.6666666666666666\n",
      "talk.religion.misc: \n",
      "\t [0. 0. 1.] - Precisión = 0.3333333333333333\n"
     ]
    }
   ],
   "source": [
    "resultadoEx3TFIDF, idsEx3TFIDF = ejecutarBuscador(consultas_a_generar,consultas_preprocessed, documentos_guardados,documentos_preprocessed,3)"
   ]
  },
  {
   "cell_type": "code",
   "execution_count": 24,
   "metadata": {
    "scrolled": false
   },
   "outputs": [
    {
     "name": "stdout",
     "output_type": "stream",
     "text": [
      "Resultados Precisión\n",
      "\n",
      "alt.atheism: \n",
      "\t [0.7 0.1 0.  0.  0.1 0.  0.4 0.1 0.  1. ] - Precisión = 0.24\n",
      "comp.graphics: \n",
      "\t [0.6 0.3 0.  0.4 0.9 0.3 0.  0.  0.2 0.3] - Precisión = 0.3\n",
      "comp.os.ms-windows.misc: \n",
      "\t [0.7 0.1 0.  0.  0.2 0.9 0.3 0.3 1.  0.5] - Precisión = 0.4\n",
      "comp.sys.ibm.pc.hardware: \n",
      "\t [1.  0.6 0.1 0.5 0.6 0.3 0.3 0.8 0.6 0.2] - Precisión = 0.5\n",
      "comp.sys.mac.hardware: \n",
      "\t [0.  0.2 0.4 0.  0.3 0.2 0.4 0.1 0.3 0. ] - Precisión = 0.19\n",
      "comp.windows.x: \n",
      "\t [0.1 0.7 0.5 0.  1.  0.2 0.7 0.1 0.1 0.2] - Precisión = 0.36\n",
      "misc.forsale: \n",
      "\t [0.5 0.5 0.2 0.8 0.8 0.7 0.1 0.1 0.1 0.2] - Precisión = 0.4\n",
      "rec.autos: \n",
      "\t [0.2 0.4 0.9 0.5 0.9 0.  0.9 0.6 0.4 0.5] - Precisión = 0.53\n",
      "rec.motorcycles: \n",
      "\t [1.  0.9 0.3 0.9 1.  0.9 1.  0.6 1.  0.6] - Precisión = 0.82\n",
      "rec.sport.baseball: \n",
      "\t [1.  0.6 1.  0.9 0.1 0.7 0.8 0.1 1.  1. ] - Precisión = 0.72\n",
      "rec.sport.hockey: \n",
      "\t [1.  1.  1.  0.9 1.  0.8 0.8 0.9 1.  1. ] - Precisión = 0.9400000000000001\n",
      "sci.crypt: \n",
      "\t [0.9 0.1 0.1 1.  0.3 0.1 1.  1.  0.  1. ] - Precisión = 0.55\n",
      "sci.electronics: \n",
      "\t [0.3 0.7 0.8 0.1 0.9 0.1 0.1 0.1 0.6 0. ] - Precisión = 0.37\n",
      "sci.med: \n",
      "\t [1.  0.2 0.8 0.  0.9 0.  0.9 0.6 0.9 1. ] - Precisión = 0.6300000000000001\n",
      "sci.space: \n",
      "\t [0.7 1.  0.9 1.  1.  0.3 0.7 1.  1.  0. ] - Precisión = 0.76\n",
      "soc.religion.christian: \n",
      "\t [1.  0.1 0.7 0.8 0.6 0.5 0.4 0.4 0.  0.7] - Precisión = 0.52\n",
      "talk.politics.guns: \n",
      "\t [0.5 0.6 0.4 0.3 0.3 0.3 0.9 0.6 0.9 0.2] - Precisión = 0.5000000000000001\n",
      "talk.politics.mideast: \n",
      "\t [0.4 1.  0.5 0.4 0.9 0.5 0.6 0.3 1.  0.3] - Precisión = 0.59\n",
      "talk.politics.misc: \n",
      "\t [0.5 0.8 0.2 0.  1.  0.8 0.  0.9 0.2 0.6] - Precisión = 0.5\n",
      "talk.religion.misc: \n",
      "\t [0.1 0.2 0.6 0.1 0.3 0.  0.1 0.5 0.1 0. ] - Precisión = 0.2\n"
     ]
    }
   ],
   "source": [
    "resultadoEx10TFIDF, idsEx10TFIDF = ejecutarBuscador(consultas_a_generar,consultas_preprocessed, documentos_guardados,documentos_preprocessed,10)"
   ]
  },
  {
   "cell_type": "markdown",
   "metadata": {},
   "source": [
    "**¿Han cambiado los valores de precisión media para las clases del conjunto de datos?¿Qué clases han mejorado? ¿Cuáles han empeorado?**\n",
    "\n",
    "Si han cambiado los valores, utilizando la función `comparar` podemos observar la diferencia entre los resultados de dos buscadores, en este caso observaremos la diferencia entre las precisiones medias donde si la columna mejora es positivo el resultado ha mejorado y viceversa.\n",
    "\n",
    "### Comparación con Exhaustividad 3"
   ]
  },
  {
   "cell_type": "code",
   "execution_count": 25,
   "metadata": {},
   "outputs": [
    {
     "data": {
      "text/html": [
       "<div>\n",
       "<style scoped>\n",
       "    .dataframe tbody tr th:only-of-type {\n",
       "        vertical-align: middle;\n",
       "    }\n",
       "\n",
       "    .dataframe tbody tr th {\n",
       "        vertical-align: top;\n",
       "    }\n",
       "\n",
       "    .dataframe thead th {\n",
       "        text-align: right;\n",
       "    }\n",
       "</style>\n",
       "<table border=\"1\" class=\"dataframe\">\n",
       "  <thead>\n",
       "    <tr style=\"text-align: right;\">\n",
       "      <th></th>\n",
       "      <th>Clase</th>\n",
       "      <th>Mejora</th>\n",
       "    </tr>\n",
       "  </thead>\n",
       "  <tbody>\n",
       "    <tr>\n",
       "      <th>0</th>\n",
       "      <td>alt.atheism</td>\n",
       "      <td>-0.111111</td>\n",
       "    </tr>\n",
       "    <tr>\n",
       "      <th>1</th>\n",
       "      <td>comp.graphics</td>\n",
       "      <td>-0.111111</td>\n",
       "    </tr>\n",
       "    <tr>\n",
       "      <th>2</th>\n",
       "      <td>comp.os.ms-windows.misc</td>\n",
       "      <td>-0.111111</td>\n",
       "    </tr>\n",
       "    <tr>\n",
       "      <th>3</th>\n",
       "      <td>comp.sys.ibm.pc.hardware</td>\n",
       "      <td>0.111111</td>\n",
       "    </tr>\n",
       "    <tr>\n",
       "      <th>4</th>\n",
       "      <td>comp.sys.mac.hardware</td>\n",
       "      <td>0.333333</td>\n",
       "    </tr>\n",
       "    <tr>\n",
       "      <th>5</th>\n",
       "      <td>comp.windows.x</td>\n",
       "      <td>0.000000</td>\n",
       "    </tr>\n",
       "    <tr>\n",
       "      <th>6</th>\n",
       "      <td>misc.forsale</td>\n",
       "      <td>-0.333333</td>\n",
       "    </tr>\n",
       "    <tr>\n",
       "      <th>7</th>\n",
       "      <td>rec.autos</td>\n",
       "      <td>0.111111</td>\n",
       "    </tr>\n",
       "    <tr>\n",
       "      <th>8</th>\n",
       "      <td>rec.motorcycles</td>\n",
       "      <td>-0.111111</td>\n",
       "    </tr>\n",
       "    <tr>\n",
       "      <th>9</th>\n",
       "      <td>rec.sport.baseball</td>\n",
       "      <td>0.222222</td>\n",
       "    </tr>\n",
       "    <tr>\n",
       "      <th>10</th>\n",
       "      <td>rec.sport.hockey</td>\n",
       "      <td>0.333333</td>\n",
       "    </tr>\n",
       "    <tr>\n",
       "      <th>11</th>\n",
       "      <td>sci.crypt</td>\n",
       "      <td>0.000000</td>\n",
       "    </tr>\n",
       "    <tr>\n",
       "      <th>12</th>\n",
       "      <td>sci.electronics</td>\n",
       "      <td>0.000000</td>\n",
       "    </tr>\n",
       "    <tr>\n",
       "      <th>13</th>\n",
       "      <td>sci.med</td>\n",
       "      <td>0.000000</td>\n",
       "    </tr>\n",
       "    <tr>\n",
       "      <th>14</th>\n",
       "      <td>sci.space</td>\n",
       "      <td>0.222222</td>\n",
       "    </tr>\n",
       "    <tr>\n",
       "      <th>15</th>\n",
       "      <td>soc.religion.christian</td>\n",
       "      <td>0.000000</td>\n",
       "    </tr>\n",
       "    <tr>\n",
       "      <th>16</th>\n",
       "      <td>talk.politics.guns</td>\n",
       "      <td>0.111111</td>\n",
       "    </tr>\n",
       "    <tr>\n",
       "      <th>17</th>\n",
       "      <td>talk.politics.mideast</td>\n",
       "      <td>0.555556</td>\n",
       "    </tr>\n",
       "    <tr>\n",
       "      <th>18</th>\n",
       "      <td>talk.politics.misc</td>\n",
       "      <td>0.333333</td>\n",
       "    </tr>\n",
       "    <tr>\n",
       "      <th>19</th>\n",
       "      <td>talk.religion.misc</td>\n",
       "      <td>0.000000</td>\n",
       "    </tr>\n",
       "  </tbody>\n",
       "</table>\n",
       "</div>"
      ],
      "text/plain": [
       "                       Clase    Mejora\n",
       "0                alt.atheism -0.111111\n",
       "1              comp.graphics -0.111111\n",
       "2    comp.os.ms-windows.misc -0.111111\n",
       "3   comp.sys.ibm.pc.hardware  0.111111\n",
       "4      comp.sys.mac.hardware  0.333333\n",
       "5             comp.windows.x  0.000000\n",
       "6               misc.forsale -0.333333\n",
       "7                  rec.autos  0.111111\n",
       "8            rec.motorcycles -0.111111\n",
       "9         rec.sport.baseball  0.222222\n",
       "10          rec.sport.hockey  0.333333\n",
       "11                 sci.crypt  0.000000\n",
       "12           sci.electronics  0.000000\n",
       "13                   sci.med  0.000000\n",
       "14                 sci.space  0.222222\n",
       "15    soc.religion.christian  0.000000\n",
       "16        talk.politics.guns  0.111111\n",
       "17     talk.politics.mideast  0.555556\n",
       "18        talk.politics.misc  0.333333\n",
       "19        talk.religion.misc  0.000000"
      ]
     },
     "execution_count": 25,
     "metadata": {},
     "output_type": "execute_result"
    }
   ],
   "source": [
    "comparar(resultadoEx3, resultadoEx3TFIDF)"
   ]
  },
  {
   "cell_type": "markdown",
   "metadata": {},
   "source": [
    "Como podemos observar en la tabla anterior, existen 5 clases que empeoran sus resultados, 6 clases que mantienen la misma precisión media y 9 clases que tienen una mejora en la precisión medio.\n",
    "\n",
    "En general las busquedas con TF/IDF producen resultados positivos a pesar de que existen varias clases que se mantienen igual o incluso empeoran sus resultados."
   ]
  },
  {
   "cell_type": "code",
   "execution_count": 26,
   "metadata": {},
   "outputs": [
    {
     "data": {
      "text/html": [
       "<div>\n",
       "<style scoped>\n",
       "    .dataframe tbody tr th:only-of-type {\n",
       "        vertical-align: middle;\n",
       "    }\n",
       "\n",
       "    .dataframe tbody tr th {\n",
       "        vertical-align: top;\n",
       "    }\n",
       "\n",
       "    .dataframe thead th {\n",
       "        text-align: right;\n",
       "    }\n",
       "</style>\n",
       "<table border=\"1\" class=\"dataframe\">\n",
       "  <thead>\n",
       "    <tr style=\"text-align: right;\">\n",
       "      <th></th>\n",
       "      <th>Clase</th>\n",
       "      <th>Mejora</th>\n",
       "    </tr>\n",
       "  </thead>\n",
       "  <tbody>\n",
       "    <tr>\n",
       "      <th>0</th>\n",
       "      <td>alt.atheism</td>\n",
       "      <td>0.09</td>\n",
       "    </tr>\n",
       "    <tr>\n",
       "      <th>1</th>\n",
       "      <td>comp.graphics</td>\n",
       "      <td>0.03</td>\n",
       "    </tr>\n",
       "    <tr>\n",
       "      <th>2</th>\n",
       "      <td>comp.os.ms-windows.misc</td>\n",
       "      <td>0.03</td>\n",
       "    </tr>\n",
       "    <tr>\n",
       "      <th>3</th>\n",
       "      <td>comp.sys.ibm.pc.hardware</td>\n",
       "      <td>0.12</td>\n",
       "    </tr>\n",
       "    <tr>\n",
       "      <th>4</th>\n",
       "      <td>comp.sys.mac.hardware</td>\n",
       "      <td>0.04</td>\n",
       "    </tr>\n",
       "    <tr>\n",
       "      <th>5</th>\n",
       "      <td>comp.windows.x</td>\n",
       "      <td>0.01</td>\n",
       "    </tr>\n",
       "    <tr>\n",
       "      <th>6</th>\n",
       "      <td>misc.forsale</td>\n",
       "      <td>-0.10</td>\n",
       "    </tr>\n",
       "    <tr>\n",
       "      <th>7</th>\n",
       "      <td>rec.autos</td>\n",
       "      <td>0.13</td>\n",
       "    </tr>\n",
       "    <tr>\n",
       "      <th>8</th>\n",
       "      <td>rec.motorcycles</td>\n",
       "      <td>0.06</td>\n",
       "    </tr>\n",
       "    <tr>\n",
       "      <th>9</th>\n",
       "      <td>rec.sport.baseball</td>\n",
       "      <td>0.18</td>\n",
       "    </tr>\n",
       "    <tr>\n",
       "      <th>10</th>\n",
       "      <td>rec.sport.hockey</td>\n",
       "      <td>0.17</td>\n",
       "    </tr>\n",
       "    <tr>\n",
       "      <th>11</th>\n",
       "      <td>sci.crypt</td>\n",
       "      <td>0.14</td>\n",
       "    </tr>\n",
       "    <tr>\n",
       "      <th>12</th>\n",
       "      <td>sci.electronics</td>\n",
       "      <td>0.05</td>\n",
       "    </tr>\n",
       "    <tr>\n",
       "      <th>13</th>\n",
       "      <td>sci.med</td>\n",
       "      <td>0.26</td>\n",
       "    </tr>\n",
       "    <tr>\n",
       "      <th>14</th>\n",
       "      <td>sci.space</td>\n",
       "      <td>0.12</td>\n",
       "    </tr>\n",
       "    <tr>\n",
       "      <th>15</th>\n",
       "      <td>soc.religion.christian</td>\n",
       "      <td>0.14</td>\n",
       "    </tr>\n",
       "    <tr>\n",
       "      <th>16</th>\n",
       "      <td>talk.politics.guns</td>\n",
       "      <td>0.16</td>\n",
       "    </tr>\n",
       "    <tr>\n",
       "      <th>17</th>\n",
       "      <td>talk.politics.mideast</td>\n",
       "      <td>0.24</td>\n",
       "    </tr>\n",
       "    <tr>\n",
       "      <th>18</th>\n",
       "      <td>talk.politics.misc</td>\n",
       "      <td>0.15</td>\n",
       "    </tr>\n",
       "    <tr>\n",
       "      <th>19</th>\n",
       "      <td>talk.religion.misc</td>\n",
       "      <td>0.04</td>\n",
       "    </tr>\n",
       "  </tbody>\n",
       "</table>\n",
       "</div>"
      ],
      "text/plain": [
       "                       Clase  Mejora\n",
       "0                alt.atheism    0.09\n",
       "1              comp.graphics    0.03\n",
       "2    comp.os.ms-windows.misc    0.03\n",
       "3   comp.sys.ibm.pc.hardware    0.12\n",
       "4      comp.sys.mac.hardware    0.04\n",
       "5             comp.windows.x    0.01\n",
       "6               misc.forsale   -0.10\n",
       "7                  rec.autos    0.13\n",
       "8            rec.motorcycles    0.06\n",
       "9         rec.sport.baseball    0.18\n",
       "10          rec.sport.hockey    0.17\n",
       "11                 sci.crypt    0.14\n",
       "12           sci.electronics    0.05\n",
       "13                   sci.med    0.26\n",
       "14                 sci.space    0.12\n",
       "15    soc.religion.christian    0.14\n",
       "16        talk.politics.guns    0.16\n",
       "17     talk.politics.mideast    0.24\n",
       "18        talk.politics.misc    0.15\n",
       "19        talk.religion.misc    0.04"
      ]
     },
     "execution_count": 26,
     "metadata": {},
     "output_type": "execute_result"
    }
   ],
   "source": [
    "comparar(resultadoEx10, resultadoEx10TFIDF)"
   ]
  },
  {
   "cell_type": "markdown",
   "metadata": {},
   "source": [
    "Como podemos observar en la tabla anterior, existen 2 clases que empeoran sus resultados, 2 clases que mantienen la misma precisión media y 16 clases que tienen una mejora en la precisión medio.\n",
    "\n",
    "En general las busquedas con TF/IDF producen una mejora en los resultados obtenidos."
   ]
  },
  {
   "cell_type": "markdown",
   "metadata": {},
   "source": [
    "**Encuentra una consulta donde el uso de la ponderación TF-IDF haya sido efectivo y haya mejorado los resultados. Explica por qué ha sido efectivo.**\n",
    "\n",
    "`RESPUESTA PENDIENTE`"
   ]
  },
  {
   "cell_type": "code",
   "execution_count": null,
   "metadata": {},
   "outputs": [],
   "source": [
    "def imprimirConsulta(consultas_a_generar, id_consulta):\n",
    "    print(\"Clase Consultada: {}\\n\\n\".format(consultas_a_generar.target_names[id_consulta]))\n",
    "    print(\"Mensaje Consultado: \\n\\n{}\\n\\n\".format(consultas_a_generar.data[id_consulta])) "
   ]
  },
  {
   "cell_type": "code",
   "execution_count": null,
   "metadata": {},
   "outputs": [],
   "source": [
    "def imprimirResultados(documentos_guardados, id):\n",
    "    print(\"Clase Obtenida: {}\\n\\n\".format(consultas_a_generar.target_names[id]))\n",
    "    print(\"Mensaje Obtenido: \\n\\n{}\\n\\n\".format(consultas_a_generar.data[id])) "
   ]
  },
  {
   "cell_type": "code",
   "execution_count": null,
   "metadata": {},
   "outputs": [],
   "source": [
    "def imprimirMensajes(consultas_a_generar, id_consulta, documentos_guardados, id_resultados, comparador=min):\n",
    "    imprimirConsultas(consultas_a_generar, id_consulta)\n",
    "    for key, ids in id_resultados:\n",
    "        imprimirResultados(documentos_guardados, comparador(id))"
   ]
  },
  {
   "cell_type": "code",
   "execution_count": null,
   "metadata": {},
   "outputs": [],
   "source": []
  }
 ],
 "metadata": {
  "kernelspec": {
   "display_name": "Python 3.7.6 64-bit",
   "language": "python",
   "name": "python37664bitfdce462a73ae44f1b321382e2283b5f2"
  },
  "language_info": {
   "codemirror_mode": {
    "name": "ipython",
    "version": 3
   },
   "file_extension": ".py",
   "mimetype": "text/x-python",
   "name": "python",
   "nbconvert_exporter": "python",
   "pygments_lexer": "ipython3",
   "version": "3.7.6"
  }
 },
 "nbformat": 4,
 "nbformat_minor": 2
}
