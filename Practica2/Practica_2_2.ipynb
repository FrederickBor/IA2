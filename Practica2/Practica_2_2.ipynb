{
 "cells": [
  {
   "cell_type": "markdown",
   "metadata": {},
   "source": [
    "# Práctica 2\n",
    "## Parte 2. Recuperación de Información\n",
    "<br>\n",
    "\n",
    "__Alumnos:__\n",
    "* __Frederick Ernesto Borges Noronha__\n",
    "* __Victor Manuel Cavero Gracia__"
   ]
  },
  {
   "cell_type": "markdown",
   "metadata": {},
   "source": [
    "Aquí vamos a utilizar el conjunto de datos de 20 Newsgroups que se encuentra disponible en Scikit-learn y que hemos usado en el notebook de ejemplo.\n",
    "\n",
    "El conjunto consiste en textos de un foro sobre diferentes temas, desde hardware hasta religión. Algunos temas están muy relacionados, p.ej. \"IBM PC hardware\" y \"Mac hardware\", mientras que otros son más diversos, p.ej. \"religion\" o \"hockey\").\n",
    "\n",
    "El objetivo de esta parte es poner en poner en práctica los conceptos de recuperación de información para realizar un buscador de mensajes en un foro."
   ]
  },
  {
   "cell_type": "markdown",
   "metadata": {},
   "source": [
    "### Apartado A\n",
    "\n",
    "El conjunto está dividido de forma predeterminada en entrenamiento y prueba en porcentajes de 60 y 40, respectivamente (como se puede ver en el notebook de prueba). Usaremos únicamente la parte de entrenamiento como los mensajes a recuperar por nuestro buscador.\n",
    "\n",
    "Vamos a utilizar una representación de la bolsa de palabras de **countVectorizer** con las siguientes opciones:\n",
    "- La bolsa de palabras tendrá en cuenta la frecuencia de las palabras en cada mensaje (**binary=False**)\n",
    "- Usa el diccionario que se encuentra en la siguiente URL y que ya usamos en el notebook de prueba. https://github.com/dwyl/english-words/blob/master/words.txt\n",
    "- Usa la lista de palabras vacías (parámetro **stop_words**) que proporciona sklearn para el inglés\n",
    "- Usando un rango de n-gramas de (1,1) (parámetro **ngram_range**).\n",
    "\n",
    "Para calcular la similitud entre dos mensajes usaremos la similitud del coseno (**sklearn.metrics.pairwise.cosine_similarity**) que es capaz de medir la similitud entre los elementos (es decir, entre las filas) de dos matrices de vectores de términos pudiendo ser estas matrices densas o dispersas.\n",
    "\n",
    "Toma 3 mensaje del conjunto de prueba para cada clase (es decir, para cada tema). Vas a usar cada uno de dichos mensajes como consulta para recuperar los mensajes del conjunto de entrenamiento que más se parezcan a la consulta. Para ello sigue los siguientes pasos:\n",
    "\n",
    "1. Usa la distancia del coseno entre el mensaje de consulta y los mensajes de entrenamiento.\n",
    "\n",
    "2. Ordena los resultados de mayor a menor relevancia con la consulta.\n",
    "\n",
    "3. Calcula la precisión de la lista de resultados con nivel de exhaustividad 3 y 10. \n",
    "\n",
    "    - La precisión a un nivel de exhaustividad X es el número de resultados que son relevantes (es decir, de la clase buscada) de entre los X primeros recuperados.\n",
    "\n",
    "4. Calcula los valores de precisión media (para cada nivel de exhaustividad) para cada clase del conjunto de datos.\n",
    "\n",
    "Se valorará el uso de funciones y la claridad del código, así como sus comentarios. Contesta a lo siguiente:\n",
    "\n",
    "- ¿Hay muchas diferencias entre los valores de precisión medios para las distintas clases del conjunto de datos? ¿A qué crees que se deben?\n",
    "\n",
    "- Identifica la clase que haya tenido peores resultados de precisión y para alguna de sus consultas muestra alguno de los mensajes que recuperó erróneamente en las primeras X posiciones.\n",
    "\n",
    "    - ¿Con qué clases se ha confundido más dicha consulta? \n",
    "\n",
    "    - ¿A qué crees que se deben los malos resultados?\n",
    "\n",
    "Debes usar la parte de entrenamiento para construir la bolsa de palabras con frecuencia y bolsa de palabras con TF/IDF.\n",
    "\n",
    "### Apartado B\n",
    "\n",
    "Repite la secuencia de pasos descritos en el apartado a) pero ahora usa TF-IDF para ponderar el peso de los términos de la bolsa de palabras.  Para usar TF-IDF primero debes transformar los textos  usando  **countVectorizer** con **binary=False**  para  obtener  la  frecuencia  de  palabras  (exactamente igual que en el apartado anterior), y a continuación usar **TfidfTransformer** para modular dicha frecuencia según lo popular que sea cada término en el conjunto de mensajes de entrenamiento.\n",
    "\n",
    "A continuación contesta a lo siguiente.\n",
    "\n",
    "- ¿Han cambiado los valores de precisión media para las clases del conjunto de datos?¿Qué clases han mejorado? ¿Cuáles han empeorado?\n",
    "\n",
    "- Encuentra una consulta donde el uso de la ponderación TF-IDF haya sido efectivo y haya mejorado los resultados. Explica por qué ha sido efectivo."
   ]
  },
  {
   "cell_type": "markdown",
   "metadata": {},
   "source": [
    "### Imports:\n",
    "A continuación se encuentran todos los imports de las librerias de las que haremos uso en esta práctica."
   ]
  },
  {
   "cell_type": "code",
   "execution_count": 1,
   "metadata": {},
   "outputs": [],
   "source": [
    "from sklearn.datasets import fetch_20newsgroups\n",
    "from sklearn.feature_extraction.text import CountVectorizer\n",
    "from sklearn.feature_extraction.text import TfidfTransformer\n",
    "from sklearn.metrics.pairwise import cosine_similarity\n",
    "import numpy as np\n",
    "import operator"
   ]
  },
  {
   "cell_type": "markdown",
   "metadata": {},
   "source": [
    "## Definición de Funciones"
   ]
  },
  {
   "cell_type": "code",
   "execution_count": 2,
   "metadata": {},
   "outputs": [
    {
     "name": "stdout",
     "output_type": "stream",
     "text": [
      "Saved documents: 11314\n",
      "# of consults: 7532\n"
     ]
    }
   ],
   "source": [
    "documentos_guardados = fetch_20newsgroups(subset='train', shuffle=True, random_state=42)\n",
    "consultas_a_generar = fetch_20newsgroups(subset='test')\n",
    "\n",
    "print(\"Saved documents:\", len(documentos_guardados.data))\n",
    "print(\"# of consults:\", len(consultas_a_generar.data))"
   ]
  },
  {
   "cell_type": "code",
   "execution_count": 3,
   "metadata": {},
   "outputs": [
    {
     "name": "stdout",
     "output_type": "stream",
     "text": [
      "Dictionary Length:  466551  words\n"
     ]
    }
   ],
   "source": [
    "# Crear el diccionario de palabras\n",
    "with open('Datos/words.txt') as f:\n",
    "    dictionary = f.read().splitlines()\n",
    "\n",
    "print(\"Dictionary Length: \", len(dictionary), \" words\")"
   ]
  },
  {
   "cell_type": "code",
   "execution_count": 4,
   "metadata": {},
   "outputs": [],
   "source": [
    "def obtenerNombresDeClase(target,consultas_a_generar):\n",
    "    return (target, consultas_a_generar.target_names[target])"
   ]
  },
  {
   "cell_type": "code",
   "execution_count": 5,
   "metadata": {},
   "outputs": [],
   "source": [
    "def todosLosTemasTienenNElementos(temas, n):\n",
    "    for key, value in temas.items():\n",
    "        if (len(value) != n):\n",
    "            return False\n",
    "    return True"
   ]
  },
  {
   "cell_type": "code",
   "execution_count": 6,
   "metadata": {},
   "outputs": [],
   "source": [
    "def buscarNMensajesPorTema(temas_consultas, mensajes_consultas, n):\n",
    "    temas = {x: [] for x in consultas_a_generar.target_names}\n",
    "    i = 0\n",
    "    while (not todosLosTemasTienenNElementos(temas, n)):\n",
    "        if (len(temas[temas_consultas[i]]) < n):\n",
    "            value = (i, mensajes_consultas[i])\n",
    "            temas[temas_consultas[i]].append(value)\n",
    "        i += 1\n",
    "    return temas"
   ]
  },
  {
   "cell_type": "code",
   "execution_count": 7,
   "metadata": {},
   "outputs": [],
   "source": [
    "def recuperarNResultados(consulta,documentos, n):\n",
    "    x = cosine_similarity(consulta,documentos)[0]\n",
    "    y = [index for index in range(len(x))]\n",
    "    values = list(zip(y,x))\n",
    "    values.sort(reverse=True, key = operator.itemgetter(1))\n",
    "    return values[0:n]"
   ]
  },
  {
   "cell_type": "code",
   "execution_count": 8,
   "metadata": {},
   "outputs": [],
   "source": [
    "def calcularTargets(consulta, documentos, n=3):\n",
    "    resultado = recuperarNResultados(consulta,documentos, n)\n",
    "    ids, cosineSimilarity = zip(*resultado)\n",
    "    targets = []\n",
    "    for id in ids:\n",
    "        targets.append(documentos_guardados.target[id])\n",
    "    \n",
    "    return targets, cosineSimilarity, ids"
   ]
  },
  {
   "cell_type": "code",
   "execution_count": 9,
   "metadata": {},
   "outputs": [],
   "source": [
    "def precision(numRelevantDocs, numDocsObtained):\n",
    "    return numRelevantDocs/numDocsObtained"
   ]
  },
  {
   "cell_type": "code",
   "execution_count": 10,
   "metadata": {},
   "outputs": [],
   "source": [
    "def getNumRelevantDocs(claseBuscada, clasesObtenidas):\n",
    "    count = 0\n",
    "    for clase in clasesObtenidas:\n",
    "        if (clase == claseBuscada):\n",
    "            count += 1\n",
    "    return count"
   ]
  },
  {
   "cell_type": "code",
   "execution_count": 11,
   "metadata": {},
   "outputs": [],
   "source": [
    "def calcularPrecision(consulta, targetConsulta, documentos, n):\n",
    "    targets, cosineSimilarity, ids = calcularTargets(consulta, documentos, n)\n",
    "    ret = precision(getNumRelevantDocs(targetConsulta, targets),n)\n",
    "    return ret"
   ]
  },
  {
   "cell_type": "code",
   "execution_count": 12,
   "metadata": {},
   "outputs": [],
   "source": [
    "def generarResultados(nMensajes, topics, documentos, ids, n):\n",
    "    resultDict = dict()\n",
    "    for key, values in nMensajes.items():\n",
    "        resultDict[topics[values[0][0]]] = np.array([])\n",
    "        for id, value in values:\n",
    "                resultDict[topics[id]] = np.append(resultDict[topics[id]], calcularPrecision(value, ids[id], documentos, n))\n",
    "            \n",
    "    return resultDict"
   ]
  },
  {
   "cell_type": "code",
   "execution_count": 13,
   "metadata": {},
   "outputs": [],
   "source": [
    "def imprimirResultado(resultados):\n",
    "    print(\"Resultados Precisión\\n\")\n",
    "    for key, value in resultados.items():\n",
    "        print(\"{}: {} -> Mean = {}\".format(key,value,value.mean()) )"
   ]
  },
  {
   "cell_type": "code",
   "execution_count": 18,
   "metadata": {},
   "outputs": [],
   "source": [
    "def ejecutarBuscador(consultas_a_generar, consultas, documentos,n=3):\n",
    "    id_and_topics = [obtenerNombresDeClase(x,consultas_a_generar) for x in consultas_a_generar.target]\n",
    "    ids, topics = zip(*id_and_topics)\n",
    "    nMensajes = buscarNMensajesPorTema(topics, consultas, n)\n",
    "    resultados = generarResultados(nMensajes, topics, documentos, ids, n)\n",
    "    imprimirResultado(resultados)"
   ]
  },
  {
   "cell_type": "markdown",
   "metadata": {},
   "source": [
    "## Apartado A"
   ]
  },
  {
   "cell_type": "code",
   "execution_count": 15,
   "metadata": {},
   "outputs": [],
   "source": [
    "# Creamos el CountVectorizer\n",
    "\n",
    "vectorizer = CountVectorizer(vocabulary=dictionary, stop_words='english', ngram_range=(1,1), binary=False)\n",
    "documentos=vectorizer.fit_transform(documentos_guardados.data)"
   ]
  },
  {
   "cell_type": "code",
   "execution_count": 16,
   "metadata": {},
   "outputs": [],
   "source": [
    "# Tomamos los textos del conjunto de test y los transformamos en una matriz\n",
    "# de palabras. Al usar \"transform\" toma como referencia únicamente las palabras\n",
    "# encontradas en el conjunto de entrenamiento\n",
    "consultas=vectorizer.transform(consultas_a_generar.data)"
   ]
  },
  {
   "cell_type": "code",
   "execution_count": 19,
   "metadata": {
    "scrolled": false
   },
   "outputs": [
    {
     "name": "stdout",
     "output_type": "stream",
     "text": [
      "Resultados Precisión\n",
      "\n",
      "alt.atheism: [1. 0. 0.] -> Mean = 0.3333333333333333\n",
      "comp.graphics: [0.66666667 0.         0.        ] -> Mean = 0.2222222222222222\n",
      "comp.os.ms-windows.misc: [0.66666667 0.         0.        ] -> Mean = 0.2222222222222222\n",
      "comp.sys.ibm.pc.hardware: [1.         0.         0.66666667] -> Mean = 0.5555555555555555\n",
      "comp.sys.mac.hardware: [0. 0. 0.] -> Mean = 0.0\n",
      "comp.windows.x: [0.         0.33333333 0.66666667] -> Mean = 0.3333333333333333\n",
      "misc.forsale: [0.66666667 0.66666667 1.        ] -> Mean = 0.7777777777777777\n",
      "rec.autos: [0. 0. 1.] -> Mean = 0.3333333333333333\n",
      "rec.motorcycles: [1.         1.         0.66666667] -> Mean = 0.8888888888888888\n",
      "rec.sport.baseball: [1.         0.66666667 0.66666667] -> Mean = 0.7777777777777777\n",
      "rec.sport.hockey: [0.33333333 0.66666667 1.        ] -> Mean = 0.6666666666666666\n",
      "sci.crypt: [1.         0.33333333 0.33333333] -> Mean = 0.5555555555555555\n",
      "sci.electronics: [0.         0.33333333 1.        ] -> Mean = 0.4444444444444444\n",
      "sci.med: [1.         0.33333333 1.        ] -> Mean = 0.7777777777777777\n",
      "sci.space: [0.66666667 1.         0.66666667] -> Mean = 0.7777777777777777\n",
      "soc.religion.christian: [1.         0.33333333 1.        ] -> Mean = 0.7777777777777777\n",
      "talk.politics.guns: [0.33333333 0.66666667 0.66666667] -> Mean = 0.5555555555555555\n",
      "talk.politics.mideast: [0.33333333 0.33333333 0.        ] -> Mean = 0.2222222222222222\n",
      "talk.politics.misc: [0.33333333 0.66666667 0.        ] -> Mean = 0.3333333333333333\n",
      "talk.religion.misc: [0.         0.33333333 0.66666667] -> Mean = 0.3333333333333333\n"
     ]
    }
   ],
   "source": [
    "ejecutarBuscador(consultas_a_generar,consultas,documentos,3)"
   ]
  },
  {
   "cell_type": "code",
   "execution_count": 20,
   "metadata": {
    "scrolled": false
   },
   "outputs": [
    {
     "name": "stdout",
     "output_type": "stream",
     "text": [
      "Resultados Precisión\n",
      "\n",
      "alt.atheism: [0.7 0.  0.  0.  0.3 0.  0.2 0.2 0.1 0. ] -> Mean = 0.15\n",
      "comp.graphics: [0.6 0.  0.  0.3 0.6 0.2 0.  0.  0.6 0.4] -> Mean = 0.26999999999999996\n",
      "comp.os.ms-windows.misc: [0.8 0.1 0.  0.  0.1 1.  0.3 0.3 0.9 0.2] -> Mean = 0.37\n",
      "comp.sys.ibm.pc.hardware: [1.  0.1 0.4 0.1 0.4 0.2 0.3 0.8 0.3 0.2] -> Mean = 0.38\n",
      "comp.sys.mac.hardware: [0.1 0.1 0.  0.1 0.4 0.2 0.3 0.1 0.2 0. ] -> Mean = 0.15\n",
      "comp.windows.x: [0.1 0.4 0.4 0.2 1.  0.5 0.5 0.2 0.1 0.1] -> Mean = 0.35000000000000003\n",
      "misc.forsale: [0.5 0.6 0.6 0.8 0.9 0.7 0.2 0.5 0.  0.2] -> Mean = 0.5\n",
      "rec.autos: [0.  0.  0.9 0.3 0.6 0.1 1.  0.9 0.2 0. ] -> Mean = 0.4\n",
      "rec.motorcycles: [0.9 1.  0.3 1.  1.  0.7 1.  0.  1.  0.7] -> Mean = 0.76\n",
      "rec.sport.baseball: [1.  0.8 0.5 0.8 0.  0.8 0.6 0.1 0.2 0.6] -> Mean = 0.5399999999999999\n",
      "rec.sport.hockey: [0.2 0.6 0.9 1.  0.9 0.8 0.8 0.8 0.8 0.9] -> Mean = 0.77\n",
      "sci.crypt: [0.8 0.2 0.1 0.6 0.3 0.  0.7 0.7 0.1 0.6] -> Mean = 0.41\n",
      "sci.electronics: [0.1 0.6 0.8 0.3 0.4 0.1 0.1 0.1 0.7 0. ] -> Mean = 0.32\n",
      "sci.med: [1.  0.1 0.5 0.  0.2 0.  0.7 0.5 0.1 0.6] -> Mean = 0.37\n",
      "sci.space: [0.6 1.  0.6 1.  0.9 0.6 0.2 0.3 1.  0.2] -> Mean = 0.64\n",
      "soc.religion.christian: [1.  0.1 0.4 0.2 0.4 0.3 0.  0.4 0.3 0.7] -> Mean = 0.38\n",
      "talk.politics.guns: [0.1 0.6 0.5 0.3 0.3 0.1 0.4 0.5 0.4 0.2] -> Mean = 0.33999999999999997\n",
      "talk.politics.mideast: [0.2 0.6 0.  0.5 0.6 0.6 0.2 0.2 0.5 0.1] -> Mean = 0.35000000000000003\n",
      "talk.politics.misc: [0.3 0.4 0.  0.  1.  0.9 0.  0.3 0.  0.6] -> Mean = 0.35\n",
      "talk.religion.misc: [0.  0.1 0.4 0.1 0.2 0.  0.2 0.6 0.  0. ] -> Mean = 0.16\n"
     ]
    }
   ],
   "source": [
    "ejecutarBuscador(consultas_a_generar,consultas,documentos,10)"
   ]
  },
  {
   "cell_type": "markdown",
   "metadata": {},
   "source": [
    "**¿Hay muchas diferencias entre los valores de precisión medios para las distintas clases del conjunto de datos? ¿A qué crees que se deben?**\n",
    "\n",
    "`RESPUESTA PENDIENTE`\n",
    "\n",
    "**Identifica la clase que haya tenido peores resultados de precisión y para alguna de sus consultas muestra alguno de los mensajes que recuperó erróneamente en las primeras X posiciones.**\n",
    "\n",
    "`RESPUESTA PENDIENTE`\n",
    "\n",
    "**¿Con qué clases se ha confundido más dicha consulta?**\n",
    "\n",
    "`RESPUESTA PENDIENTE`\n",
    "\n",
    "**¿A qué crees que se deben los malos resultados?**\n",
    "\n",
    "`RESPUESTA PENDIENTE`"
   ]
  },
  {
   "cell_type": "markdown",
   "metadata": {},
   "source": [
    "## Apartado B"
   ]
  },
  {
   "cell_type": "code",
   "execution_count": 21,
   "metadata": {},
   "outputs": [],
   "source": [
    "# Creamos el CountVectorizer\n",
    "tfidfer= TfidfTransformer()\n",
    "\n",
    "# Calculamos el valor TF-IDF \n",
    "documentos_preprocessed=tfidfer.fit_transform(documentos)"
   ]
  },
  {
   "cell_type": "code",
   "execution_count": 22,
   "metadata": {},
   "outputs": [],
   "source": [
    "# Calculamos el valor TF-IDF \n",
    "# Al usar \"transform\" toma como IDF el del conjunto de entrenamiento \n",
    "consultas_preprocessed=tfidfer.transform(consultas)"
   ]
  },
  {
   "cell_type": "code",
   "execution_count": 23,
   "metadata": {
    "scrolled": false
   },
   "outputs": [
    {
     "name": "stdout",
     "output_type": "stream",
     "text": [
      "Resultados Precisión\n",
      "\n",
      "alt.atheism: [0.66666667 0.         0.        ] -> Mean = 0.2222222222222222\n",
      "comp.graphics: [0.33333333 0.         0.        ] -> Mean = 0.1111111111111111\n",
      "comp.os.ms-windows.misc: [0.33333333 0.         0.        ] -> Mean = 0.1111111111111111\n",
      "comp.sys.ibm.pc.hardware: [1.         0.66666667 0.33333333] -> Mean = 0.6666666666666666\n",
      "comp.sys.mac.hardware: [0.         0.33333333 0.66666667] -> Mean = 0.3333333333333333\n",
      "comp.windows.x: [0.         0.66666667 0.33333333] -> Mean = 0.3333333333333333\n",
      "misc.forsale: [0.33333333 0.66666667 0.33333333] -> Mean = 0.4444444444444444\n",
      "rec.autos: [0.         0.33333333 1.        ] -> Mean = 0.4444444444444444\n",
      "rec.motorcycles: [1.         1.         0.33333333] -> Mean = 0.7777777777777778\n",
      "rec.sport.baseball: [1. 1. 1.] -> Mean = 1.0\n",
      "rec.sport.hockey: [1. 1. 1.] -> Mean = 1.0\n",
      "sci.crypt: [1.         0.33333333 0.33333333] -> Mean = 0.5555555555555555\n",
      "sci.electronics: [0.         0.33333333 1.        ] -> Mean = 0.4444444444444444\n",
      "sci.med: [1.         0.33333333 1.        ] -> Mean = 0.7777777777777777\n",
      "sci.space: [1. 1. 1.] -> Mean = 1.0\n",
      "soc.religion.christian: [1.         0.33333333 1.        ] -> Mean = 0.7777777777777777\n",
      "talk.politics.guns: [0.66666667 0.66666667 0.66666667] -> Mean = 0.6666666666666666\n",
      "talk.politics.mideast: [0.33333333 1.         1.        ] -> Mean = 0.7777777777777777\n",
      "talk.politics.misc: [0.33333333 1.         0.66666667] -> Mean = 0.6666666666666666\n",
      "talk.religion.misc: [0. 0. 1.] -> Mean = 0.3333333333333333\n"
     ]
    }
   ],
   "source": [
    "ejecutarBuscador(consultas_a_generar,consultas_preprocessed,documentos_preprocessed,3)"
   ]
  },
  {
   "cell_type": "code",
   "execution_count": 24,
   "metadata": {
    "scrolled": false
   },
   "outputs": [
    {
     "name": "stdout",
     "output_type": "stream",
     "text": [
      "Resultados Precisión\n",
      "\n",
      "alt.atheism: [0.7 0.1 0.  0.  0.1 0.  0.4 0.1 0.  1. ] -> Mean = 0.24\n",
      "comp.graphics: [0.6 0.3 0.  0.4 0.9 0.3 0.  0.  0.2 0.3] -> Mean = 0.3\n",
      "comp.os.ms-windows.misc: [0.7 0.1 0.  0.  0.2 0.9 0.3 0.3 1.  0.5] -> Mean = 0.4\n",
      "comp.sys.ibm.pc.hardware: [1.  0.6 0.1 0.5 0.6 0.3 0.3 0.8 0.6 0.2] -> Mean = 0.5\n",
      "comp.sys.mac.hardware: [0.  0.2 0.4 0.  0.3 0.2 0.4 0.1 0.3 0. ] -> Mean = 0.19\n",
      "comp.windows.x: [0.1 0.7 0.5 0.  1.  0.2 0.7 0.1 0.1 0.2] -> Mean = 0.36\n",
      "misc.forsale: [0.5 0.5 0.2 0.8 0.8 0.7 0.1 0.1 0.1 0.2] -> Mean = 0.4\n",
      "rec.autos: [0.2 0.4 0.9 0.5 0.9 0.  0.9 0.6 0.4 0.5] -> Mean = 0.53\n",
      "rec.motorcycles: [1.  0.9 0.3 0.9 1.  0.9 1.  0.6 1.  0.6] -> Mean = 0.82\n",
      "rec.sport.baseball: [1.  0.6 1.  0.9 0.1 0.7 0.8 0.1 1.  1. ] -> Mean = 0.72\n",
      "rec.sport.hockey: [1.  1.  1.  0.9 1.  0.8 0.8 0.9 1.  1. ] -> Mean = 0.9400000000000001\n",
      "sci.crypt: [0.9 0.1 0.1 1.  0.3 0.1 1.  1.  0.  1. ] -> Mean = 0.55\n",
      "sci.electronics: [0.3 0.7 0.8 0.1 0.9 0.1 0.1 0.1 0.6 0. ] -> Mean = 0.37\n",
      "sci.med: [1.  0.2 0.8 0.  0.9 0.  0.9 0.6 0.9 1. ] -> Mean = 0.6300000000000001\n",
      "sci.space: [0.7 1.  0.9 1.  1.  0.3 0.7 1.  1.  0. ] -> Mean = 0.76\n",
      "soc.religion.christian: [1.  0.1 0.7 0.8 0.6 0.5 0.4 0.4 0.  0.7] -> Mean = 0.52\n",
      "talk.politics.guns: [0.5 0.6 0.4 0.3 0.3 0.3 0.9 0.6 0.9 0.2] -> Mean = 0.5000000000000001\n",
      "talk.politics.mideast: [0.4 1.  0.5 0.4 0.9 0.5 0.6 0.3 1.  0.3] -> Mean = 0.59\n",
      "talk.politics.misc: [0.5 0.8 0.2 0.  1.  0.8 0.  0.9 0.2 0.6] -> Mean = 0.5\n",
      "talk.religion.misc: [0.1 0.2 0.6 0.1 0.3 0.  0.1 0.5 0.1 0. ] -> Mean = 0.2\n"
     ]
    }
   ],
   "source": [
    "ejecutarBuscador(consultas_a_generar,consultas_preprocessed,documentos_preprocessed,10)"
   ]
  },
  {
   "cell_type": "markdown",
   "metadata": {},
   "source": [
    "**¿Han cambiado los valores de precisión media para las clases del conjunto de datos?¿Qué clases han mejorado? ¿Cuáles han empeorado?**\n",
    "\n",
    "`RESPUESTA PENDIENTE`\n",
    "\n",
    "**Encuentra una consulta donde el uso de la ponderación TF-IDF haya sido efectivo y haya mejorado los resultados. Explica por qué ha sido efectivo.**\n",
    "\n",
    "`RESPUESTA PENDIENTE`"
   ]
  },
  {
   "cell_type": "code",
   "execution_count": null,
   "metadata": {},
   "outputs": [],
   "source": []
  }
 ],
 "metadata": {
  "kernelspec": {
   "display_name": "Python 3.7.6 64-bit",
   "language": "python",
   "name": "python37664bitfdce462a73ae44f1b321382e2283b5f2"
  },
  "language_info": {
   "codemirror_mode": {
    "name": "ipython",
    "version": 3
   },
   "file_extension": ".py",
   "mimetype": "text/x-python",
   "name": "python",
   "nbconvert_exporter": "python",
   "pygments_lexer": "ipython3",
   "version": "3.7.6"
  }
 },
 "nbformat": 4,
 "nbformat_minor": 2
}
