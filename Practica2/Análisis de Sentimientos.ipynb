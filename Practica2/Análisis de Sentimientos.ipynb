{
 "cells": [
  {
   "cell_type": "markdown",
   "metadata": {},
   "source": [
    "# Práctica 2\n",
    "## Análisis de sentimientos \n",
    "<br>\n",
    "\n",
    "__Alumnos:__\n",
    "* __Frederick Ernesto Borges Noronha__\n",
    "* __Victor Manuel Cavero Gracia__"
   ]
  },
  {
   "cell_type": "markdown",
   "metadata": {},
   "source": [
    "## Parte 1.\n",
    "### Apartado A.\n",
    "\n",
    "Configura una partición train-test usando el 75% de los datos para entrenamiento y el 25% restante para test.\n",
    "\n",
    "Vamos a estudiar varias representaciones de bolsa de palabras, pero todas ellas utilizarán __countVectorizer__ con el diccionario que se crea a partir de los términos del propio corpus y la lista de palabras vacías (__stop_words__) que proporciona sklearn para el inglés. Las 4 posibilidades que estudiaremos surgen de combinar los siguientes 2 parámetros:\n",
    "\n",
    "* Bolsa de palabras binaria y bolsa de palabras con TF/IDF (parámetro binary).\n",
    "* Usando un rango de n-gramas de (1,1) y de (1,2) (parámetro __ngram_range__).\n",
    "\n",
    "Para cada una de esas 4 combinaciones entrenaremos dos clasificadores:\n",
    "\n",
    "1. Un clasificador naive bayes, eligiendo el más adecuado para cada caso.\n",
    "2. Un árbol de decisión buscando un valor óptimo para uno de los siguientes parámetros para que se maximice la tasa de aciertos en el conjunto de test: __max_depth__, __min_samples_leaf__ o __max_leaf_nodes__ (siempre el mismo).\n",
    "\n",
    "Analiza la tasa de aciertos de entrenamiento y test de los 2 clasificadores en las 4 representaciones de bolsa de palabras (8 configuraciones en total) y contesta a las siguientes preguntas:\n",
    "\n",
    "* ¿Hay un clasificador que sea superior al otro? ¿por qué crees que sucede?\n",
    "* Para cada clasificador, ¿tiene un efecto positivo el añadir “complejidad” a la vectorización? Es decir, añadir bigramas y añadir tf-idf. ¿Por qué crees que sucede este efecto positivo o la falta del mismo?\n",
    "\n",
    "Selecciona el mejor árbol de decisión y obtén las 25 variables con más poder discriminante:\n",
    "\n",
    "* ¿Predominan más las palabras de uno u otro sentimiento? ¿por qué? ¿hay ruido?\n",
    "\n",
    "Selecciona el mejor clasificador naive bayes y obtén las 25 variables con más presencia en cada clase:\n",
    "\n",
    "* ¿Tienen sentido las palabras seleccionadas? ¿hay ruido (palabras sin sentimiento o de sentimiento opuesto al esperado)? ¿por qué crees que suceden estos fenómenos?\n",
    "\n",
    "Finalmente, explica de manera razonada las conclusiones que has extraído de todo el estudio realizado en este apartado.\n",
    "\n",
    "### Apartado B.\n",
    "\n",
    "Toma el mejor clasificador Naive Bayes y el mejor árbol de decisión y analiza a fondo sus resultados en el conjunto de test.\n",
    "1. Analiza la precisión y la exhaustividad de cada clasificador en cada una de las clases (opiniones positivas y negativas).\n",
    "    * Para cada clasificador, ¿tiene un comportamiento homogéneo a la hora de clasificar ambas clases?\n",
    "    * ¿Cuáles son las fortalezas y debilidades de cada uno de los clasificadores?\n",
    "    * ¿Hay algún clasificador que sea mejor que el otro en todo?\n",
    "    * ¿Coinciden ambos clasificadores a la hora de clasificar mejor una clase que la otra?\n",
    "\n",
    "2. Pinta los 8 primeros niveles del árbol de decisión y comenta lo que ves.\n",
    "    * ¿Qué estructura tiene el árbol?\n",
    "    * ¿Cómo interpretas los niveles que has pintado? ¿tienen algún sentido con respecto a la tasa de aciertos, o la precisión y exhaustividad del clasificador? o ¿Hay nodos impuros?\n",
    "    \n",
    "3. Por cada clasificador identifica 2 críticas que hayan sido falsas positivas (malas críticas calificadas como buenas) y 2 críticas que han sido falsas negativas (buenas críticas clasificadas como malas). Analiza tanto su texto original, como el vector de palabras resultante (solamente los términos activos).\n",
    "    * ¿Por qué crees que ha fallado el clasificador en cada uno de los casos?\n",
    "    * ¿Se te ocurre alguna idea sobre cómo mejorar el clasificador de sentimiento?"
   ]
  },
  {
   "cell_type": "markdown",
   "metadata": {},
   "source": [
    "### Imports:\n",
    "A continuación se encuentran todos los imports de las librerias de las que haremos uso en esta práctica."
   ]
  },
  {
   "cell_type": "code",
   "execution_count": 1,
   "metadata": {},
   "outputs": [],
   "source": [
    "import pandas as pd\n",
    "from sklearn.model_selection import train_test_split as tts\n",
    "from sklearn.feature_extraction.text import CountVectorizer\n",
    "from sklearn.feature_extraction.text import TfidfTransformer\n",
    "from sklearn.naive_bayes import MultinomialNB\n",
    "from sklearn import tree\n",
    "import numpy as np\n",
    "import matplotlib\n",
    "import matplotlib.pyplot as plt"
   ]
  },
  {
   "cell_type": "markdown",
   "metadata": {},
   "source": [
    "# Apartado A."
   ]
  },
  {
   "cell_type": "code",
   "execution_count": 2,
   "metadata": {},
   "outputs": [],
   "source": [
    "# Read the dataset\n",
    "data = pd.read_csv('Datos/yelp_labelled.txt', sep=\"\\t\", header=None)\n",
    "train, test = tts(data, train_size=0.75, test_size=0.25, random_state=42)"
   ]
  },
  {
   "cell_type": "code",
   "execution_count": 3,
   "metadata": {},
   "outputs": [
    {
     "data": {
      "text/html": [
       "<div>\n",
       "<style scoped>\n",
       "    .dataframe tbody tr th:only-of-type {\n",
       "        vertical-align: middle;\n",
       "    }\n",
       "\n",
       "    .dataframe tbody tr th {\n",
       "        vertical-align: top;\n",
       "    }\n",
       "\n",
       "    .dataframe thead th {\n",
       "        text-align: right;\n",
       "    }\n",
       "</style>\n",
       "<table border=\"1\" class=\"dataframe\">\n",
       "  <thead>\n",
       "    <tr style=\"text-align: right;\">\n",
       "      <th></th>\n",
       "      <th>0</th>\n",
       "      <th>1</th>\n",
       "    </tr>\n",
       "  </thead>\n",
       "  <tbody>\n",
       "    <tr>\n",
       "      <th>0</th>\n",
       "      <td>Wow... Loved this place.</td>\n",
       "      <td>1</td>\n",
       "    </tr>\n",
       "    <tr>\n",
       "      <th>1</th>\n",
       "      <td>Crust is not good.</td>\n",
       "      <td>0</td>\n",
       "    </tr>\n",
       "    <tr>\n",
       "      <th>2</th>\n",
       "      <td>Not tasty and the texture was just nasty.</td>\n",
       "      <td>0</td>\n",
       "    </tr>\n",
       "    <tr>\n",
       "      <th>3</th>\n",
       "      <td>Stopped by during the late May bank holiday of...</td>\n",
       "      <td>1</td>\n",
       "    </tr>\n",
       "    <tr>\n",
       "      <th>4</th>\n",
       "      <td>The selection on the menu was great and so wer...</td>\n",
       "      <td>1</td>\n",
       "    </tr>\n",
       "    <tr>\n",
       "      <th>...</th>\n",
       "      <td>...</td>\n",
       "      <td>...</td>\n",
       "    </tr>\n",
       "    <tr>\n",
       "      <th>995</th>\n",
       "      <td>I think food should have flavor and texture an...</td>\n",
       "      <td>0</td>\n",
       "    </tr>\n",
       "    <tr>\n",
       "      <th>996</th>\n",
       "      <td>Appetite instantly gone.</td>\n",
       "      <td>0</td>\n",
       "    </tr>\n",
       "    <tr>\n",
       "      <th>997</th>\n",
       "      <td>Overall I was not impressed and would not go b...</td>\n",
       "      <td>0</td>\n",
       "    </tr>\n",
       "    <tr>\n",
       "      <th>998</th>\n",
       "      <td>The whole experience was underwhelming, and I ...</td>\n",
       "      <td>0</td>\n",
       "    </tr>\n",
       "    <tr>\n",
       "      <th>999</th>\n",
       "      <td>Then, as if I hadn't wasted enough of my life ...</td>\n",
       "      <td>0</td>\n",
       "    </tr>\n",
       "  </tbody>\n",
       "</table>\n",
       "<p>1000 rows × 2 columns</p>\n",
       "</div>"
      ],
      "text/plain": [
       "                                                     0  1\n",
       "0                             Wow... Loved this place.  1\n",
       "1                                   Crust is not good.  0\n",
       "2            Not tasty and the texture was just nasty.  0\n",
       "3    Stopped by during the late May bank holiday of...  1\n",
       "4    The selection on the menu was great and so wer...  1\n",
       "..                                                 ... ..\n",
       "995  I think food should have flavor and texture an...  0\n",
       "996                           Appetite instantly gone.  0\n",
       "997  Overall I was not impressed and would not go b...  0\n",
       "998  The whole experience was underwhelming, and I ...  0\n",
       "999  Then, as if I hadn't wasted enough of my life ...  0\n",
       "\n",
       "[1000 rows x 2 columns]"
      ]
     },
     "execution_count": 3,
     "metadata": {},
     "output_type": "execute_result"
    }
   ],
   "source": [
    "# Show the data\n",
    "data"
   ]
  },
  {
   "cell_type": "code",
   "execution_count": 4,
   "metadata": {},
   "outputs": [
    {
     "data": {
      "text/html": [
       "<div>\n",
       "<style scoped>\n",
       "    .dataframe tbody tr th:only-of-type {\n",
       "        vertical-align: middle;\n",
       "    }\n",
       "\n",
       "    .dataframe tbody tr th {\n",
       "        vertical-align: top;\n",
       "    }\n",
       "\n",
       "    .dataframe thead th {\n",
       "        text-align: right;\n",
       "    }\n",
       "</style>\n",
       "<table border=\"1\" class=\"dataframe\">\n",
       "  <thead>\n",
       "    <tr style=\"text-align: right;\">\n",
       "      <th></th>\n",
       "      <th>0</th>\n",
       "      <th>1</th>\n",
       "    </tr>\n",
       "  </thead>\n",
       "  <tbody>\n",
       "    <tr>\n",
       "      <th>82</th>\n",
       "      <td>The turkey and roast beef were bland.</td>\n",
       "      <td>0</td>\n",
       "    </tr>\n",
       "    <tr>\n",
       "      <th>991</th>\n",
       "      <td>Spend your money and time some place else.</td>\n",
       "      <td>0</td>\n",
       "    </tr>\n",
       "    <tr>\n",
       "      <th>789</th>\n",
       "      <td>Great atmosphere, friendly and fast service.</td>\n",
       "      <td>1</td>\n",
       "    </tr>\n",
       "    <tr>\n",
       "      <th>894</th>\n",
       "      <td>If you stay in Vegas you must get breakfast he...</td>\n",
       "      <td>1</td>\n",
       "    </tr>\n",
       "    <tr>\n",
       "      <th>398</th>\n",
       "      <td>Service is perfect and the family atmosphere i...</td>\n",
       "      <td>1</td>\n",
       "    </tr>\n",
       "    <tr>\n",
       "      <th>...</th>\n",
       "      <td>...</td>\n",
       "      <td>...</td>\n",
       "    </tr>\n",
       "    <tr>\n",
       "      <th>106</th>\n",
       "      <td>The food was delicious, our bartender was atte...</td>\n",
       "      <td>1</td>\n",
       "    </tr>\n",
       "    <tr>\n",
       "      <th>270</th>\n",
       "      <td>The Veggitarian platter is out of this world!</td>\n",
       "      <td>1</td>\n",
       "    </tr>\n",
       "    <tr>\n",
       "      <th>860</th>\n",
       "      <td>This place is pretty good, nice little vibe in...</td>\n",
       "      <td>1</td>\n",
       "    </tr>\n",
       "    <tr>\n",
       "      <th>435</th>\n",
       "      <td>It was a huge awkward 1.5lb piece of cow that ...</td>\n",
       "      <td>0</td>\n",
       "    </tr>\n",
       "    <tr>\n",
       "      <th>102</th>\n",
       "      <td>Best Buffet in town, for the price you cannot ...</td>\n",
       "      <td>1</td>\n",
       "    </tr>\n",
       "  </tbody>\n",
       "</table>\n",
       "<p>750 rows × 2 columns</p>\n",
       "</div>"
      ],
      "text/plain": [
       "                                                     0  1\n",
       "82               The turkey and roast beef were bland.  0\n",
       "991         Spend your money and time some place else.  0\n",
       "789       Great atmosphere, friendly and fast service.  1\n",
       "894  If you stay in Vegas you must get breakfast he...  1\n",
       "398  Service is perfect and the family atmosphere i...  1\n",
       "..                                                 ... ..\n",
       "106  The food was delicious, our bartender was atte...  1\n",
       "270      The Veggitarian platter is out of this world!  1\n",
       "860  This place is pretty good, nice little vibe in...  1\n",
       "435  It was a huge awkward 1.5lb piece of cow that ...  0\n",
       "102  Best Buffet in town, for the price you cannot ...  1\n",
       "\n",
       "[750 rows x 2 columns]"
      ]
     },
     "execution_count": 4,
     "metadata": {},
     "output_type": "execute_result"
    }
   ],
   "source": [
    "# Show the train data\n",
    "train"
   ]
  },
  {
   "cell_type": "code",
   "execution_count": 5,
   "metadata": {},
   "outputs": [
    {
     "data": {
      "text/html": [
       "<div>\n",
       "<style scoped>\n",
       "    .dataframe tbody tr th:only-of-type {\n",
       "        vertical-align: middle;\n",
       "    }\n",
       "\n",
       "    .dataframe tbody tr th {\n",
       "        vertical-align: top;\n",
       "    }\n",
       "\n",
       "    .dataframe thead th {\n",
       "        text-align: right;\n",
       "    }\n",
       "</style>\n",
       "<table border=\"1\" class=\"dataframe\">\n",
       "  <thead>\n",
       "    <tr style=\"text-align: right;\">\n",
       "      <th></th>\n",
       "      <th>0</th>\n",
       "      <th>1</th>\n",
       "    </tr>\n",
       "  </thead>\n",
       "  <tbody>\n",
       "    <tr>\n",
       "      <th>521</th>\n",
       "      <td>If you haven't gone here GO NOW!</td>\n",
       "      <td>1</td>\n",
       "    </tr>\n",
       "    <tr>\n",
       "      <th>737</th>\n",
       "      <td>Try them in the airport to experience some tas...</td>\n",
       "      <td>1</td>\n",
       "    </tr>\n",
       "    <tr>\n",
       "      <th>740</th>\n",
       "      <td>The restaurant is very clean and has a family ...</td>\n",
       "      <td>1</td>\n",
       "    </tr>\n",
       "    <tr>\n",
       "      <th>660</th>\n",
       "      <td>I personally love the hummus, pita, baklava, f...</td>\n",
       "      <td>1</td>\n",
       "    </tr>\n",
       "    <tr>\n",
       "      <th>411</th>\n",
       "      <td>Come hungry, leave happy and stuffed!</td>\n",
       "      <td>1</td>\n",
       "    </tr>\n",
       "    <tr>\n",
       "      <th>...</th>\n",
       "      <td>...</td>\n",
       "      <td>...</td>\n",
       "    </tr>\n",
       "    <tr>\n",
       "      <th>109</th>\n",
       "      <td>Sooooo good!!</td>\n",
       "      <td>1</td>\n",
       "    </tr>\n",
       "    <tr>\n",
       "      <th>430</th>\n",
       "      <td>I never come again.</td>\n",
       "      <td>0</td>\n",
       "    </tr>\n",
       "    <tr>\n",
       "      <th>77</th>\n",
       "      <td>The sweet potato fries were very good and seas...</td>\n",
       "      <td>1</td>\n",
       "    </tr>\n",
       "    <tr>\n",
       "      <th>84</th>\n",
       "      <td>The pan cakes everyone are raving about taste ...</td>\n",
       "      <td>0</td>\n",
       "    </tr>\n",
       "    <tr>\n",
       "      <th>286</th>\n",
       "      <td>Things that went wrong: - They burned the saga...</td>\n",
       "      <td>0</td>\n",
       "    </tr>\n",
       "  </tbody>\n",
       "</table>\n",
       "<p>250 rows × 2 columns</p>\n",
       "</div>"
      ],
      "text/plain": [
       "                                                     0  1\n",
       "521                   If you haven't gone here GO NOW!  1\n",
       "737  Try them in the airport to experience some tas...  1\n",
       "740  The restaurant is very clean and has a family ...  1\n",
       "660  I personally love the hummus, pita, baklava, f...  1\n",
       "411              Come hungry, leave happy and stuffed!  1\n",
       "..                                                 ... ..\n",
       "109                                      Sooooo good!!  1\n",
       "430                                I never come again.  0\n",
       "77   The sweet potato fries were very good and seas...  1\n",
       "84   The pan cakes everyone are raving about taste ...  0\n",
       "286  Things that went wrong: - They burned the saga...  0\n",
       "\n",
       "[250 rows x 2 columns]"
      ]
     },
     "execution_count": 5,
     "metadata": {},
     "output_type": "execute_result"
    }
   ],
   "source": [
    "# Show the test data\n",
    "test"
   ]
  },
  {
   "cell_type": "markdown",
   "metadata": {},
   "source": [
    "Como podemos observar teniamos __1000 filas__ en los `datos iniciales` y al generar las particiones de train y test se obtienen un conjunto de `train` de __750 filas__ (75%) y otro de`test` de __250 filas__ (25%)."
   ]
  },
  {
   "cell_type": "code",
   "execution_count": 6,
   "metadata": {},
   "outputs": [],
   "source": [
    "vectorizer = CountVectorizer(stop_words='english')\n",
    "# Tomamos los textos del conjunto de entrenamiento y los transformamos en \n",
    "# una matriz de datos (palabras) según el diccionario estándar\n",
    "train_vector_data=vectorizer.fit_transform(train[0])"
   ]
  },
  {
   "cell_type": "code",
   "execution_count": 7,
   "metadata": {
    "scrolled": true
   },
   "outputs": [
    {
     "name": "stdout",
     "output_type": "stream",
     "text": [
      "['10', '100', '12', '17', '1979', '20', '2007', '30', '30s', '35', '40', '40min', '45', '4ths', '5lb', '70', '85', '90', 'absolute', 'absolutely', 'absolutley', 'accident', 'accomodate', 'accordingly', 'accountant', 'acknowledged', 'actual', 'actually', 'added', 'affordable', 'afternoon', 'ago', 'ahead', 'airline', 'ala', 'allergy', 'amazing', 'ambiance', 'ambience', 'ample', 'andddd', 'angry', 'anymore', 'anytime', 'anyways', 'apart', 'apologize', 'apology', 'app', 'appalling', 'apparently', 'appealing', 'appetite', 'appetizer', 'appetizers', 'apple', 'area', 'aren', 'arepas', 'aria', 'array', 'arrived', 'arrives', 'arriving', 'ask', 'asked', 'asking', 'assure', 'ate', 'atmosphere', 'attached', 'attack', 'attention', 'attentive', 'attitudes', 'auju', 'authentic', 'average', 'avocado', 'avoid', 'avoided', 'away', 'awesome', 'awful', 'awkward', 'awkwardly', 'baby', 'bacon', 'bad', 'bagels', 'bakery', 'bamboo', 'bar', 'bare', 'barely', 'bargain', 'bartender', 'bartenders', 'baseball', 'basically', 'bathroom', 'bathrooms', 'batter', 'bay', 'bbq', 'bean', 'beans', 'beat', 'beautiful', 'beautifully', 'beauty', 'beef', 'beer', 'beers', 'begin', 'believe', 'bellies', 'belly', 'best', 'better', 'big', 'biggest', 'bird', 'biscuit', 'biscuits', 'bisque', 'bit', 'bitches', 'bite', 'bites', 'bits', 'black', 'blah', 'blame', 'bland', 'blanket', 'bloody', 'blown', 'blows', 'blue', 'boba', 'bodes', 'boiled', 'bone', 'book', 'boot', 'boring', 'bother', 'bouchon', 'bought', 'bowl', 'box', 'boy', 'boyfriend', 'boys', 'bread', 'break', 'breakfast', 'breaks', 'breeze', 'brick', 'bring', 'brings', 'brother', 'brought', 'brownish', 'brunch', 'bruschetta', 'bucks', 'buffet', 'buffets', 'building', 'buldogis', 'bunch', 'burger', 'burgers', 'burrittos', 'bus', 'business', 'bussell', 'busy', 'butter', 'bye', 'caballero', 'caesar', 'cafe', 'café', 'calamari', 'calligraphy', 'callings', 'came', 'camelback', 'cape', 'capers', 'car', 'care', 'caring', 'carly', 'cart', 'cartel', 'case', 'cash', 'cashew', 'cashier', 'casino', 'caterpillar', 'caught', 'cause', 'certainly', 'chai', 'chains', 'changing', 'char', 'charcoal', 'charming', 'cheap', 'cheated', 'check', 'checked', 'cheek', 'cheese', 'cheeseburger', 'cheesecurds', 'chef', 'chefs', 'chewy', 'chicken', 'chickens', 'chinese', 'chip', 'chipolte', 'chips', 'chocolate', 'choose', 'choux', 'chow', 'christmas', 'cibo', 'circumstances', 'claimed', 'class', 'classic', 'classics', 'classy', 'clean', 'close', 'closed', 'club', 'clue', 'cocktail', 'cocktails', 'coconut', 'cod', 'coffee', 'cold', 'colder', 'college', 'color', 'combination', 'combo', 'come', 'comfortable', 'coming', 'common', 'companions', 'company', 'complain', 'complaints', 'completely', 'compliments', 'condiment', 'connisseur', 'connoisseur', 'consider', 'considering', 'consistent', 'constructed', 'contain', 'contained', 'continue', 'convenient', 'cook', 'cooked', 'cooking', 'cool', 'cost', 'costco', 'cotta', 'count', 'couple', 'couples', 'coupons', 'course', 'court', 'cover', 'covered', 'covers', 'cow', 'coziness', 'crab', 'cranberry', 'craving', 'crawfish', 'crazy', 'cream', 'creamy', 'crema', 'crepe', 'crisp', 'crispy', 'crostini', 'crowd', 'crowds', 'crumby', 'crust', 'crusty', 'crystals', 'curry', 'customer', 'customers', 'customize', 'cut', 'cute', 'damn', 'dark', 'date', 'dates', 'day', 'dead', 'deal', 'dealing', 'decent', 'decide', 'decided', 'decor', 'decorated', 'deep', 'deeply', 'def', 'definately', 'definitely', 'degree', 'del', 'delicioso', 'delicious', 'delight', 'delightful', 'delights', 'delish', 'delivery', 'denny', 'describing', 'descriptions', 'deserves', 'desired', 'dessert', 'desserts', 'deuchebaggery', 'devine', 'did', 'didn', 'difference', 'different', 'dine', 'dining', 'dinner', 'dinners', 'dipping', 'dirt', 'dirty', 'disappoint', 'disappointed', 'disappointing', 'disappointment', 'disapppointment', 'disbelief', 'disgrace', 'disgraceful', 'disgusted', 'disgusting', 'dish', 'dishes', 'dispenser', 'disrespected', 'diverse', 'does', 'dog', 'doing', 'dollars', 'don', 'dont', 'donut', 'door', 'double', 'douchey', 'dough', 'downright', 'downside', 'downtown', 'drag', 'drastically', 'drawing', 'dreamed', 'drenched', 'dressed', 'dressing', 'dried', 'driest', 'drink', 'drinks', 'dripping', 'drive', 'driving', 'dry', 'duck', 'dude', 'duo', 'dusted', 'dylan', 'easily', 'eat', 'eaten', 'eating', 'edible', 'edinburgh', 'editing', 'eel', 'egg', 'eggplant', 'eggs', 'elegantly', 'elk', 'email', 'employee', 'employees', 'end', 'ended', 'english', 'enjoy', 'enjoyable', 'enjoyed', 'ensued', 'entire', 'entrees', 'equally', 'especially', 'establishment', 'ethic', 'eve', 'evening', 'event', 'events', 'excalibur', 'exceeding', 'excellent', 'exceptional', 'excuse', 'expanded', 'expect', 'expectations', 'expected', 'experience', 'experiencing', 'expert', 'exquisite', 'extensive', 'extra', 'extremely', 'eyed', 'eyes', 'fabulous', 'fact', 'fail', 'fair', 'fairly', 'falling', 'family', 'famous', 'fan', 'fancy', 'fantastic', 'far', 'fare', 'fast', 'fat', 'fav', 'favor', 'favorite', 'fear', 'feel', 'feeling', 'feels', 'fell', 'fella', 'felt', 'fiancé', 'figured', 'filet', 'fillet', 'filling', 'finally', 'fine', 'finger', 'finish', 'fireball', 'firehouse', 'fish', 'flair', 'flat', 'flavor', 'flavored', 'flavorful', 'flavorless', 'flavors', 'flavourful', 'flirting', 'flop', 'flower', 'fluffy', 'fly', 'folks', 'food', 'foods', 'foot', 'forever', 'forgetting', 'forth', 'forward', 'francisco', 'freaking', 'free', 'freezing', 'fresh', 'fridays', 'fried', 'friend', 'friendly', 'friends', 'fries', 'frozen', 'fruit', 'frustrated', 'fry', 'fs', 'fucking', 'fun', 'furthermore', 'garden', 'garlic', 'gas', 'gave', 'gc', 'gem', 'generic', 'generous', 'getting', 'giant', 'girlfriend', 'given', 'giving', 'glad', 'glance', 'gloves', 'gluten', 'godfathers', 'going', 'gold', 'golden', 'gone', 'good', 'google', 'gordon', 'got', 'gotten', 'gourmet', 'grain', 'grandmother', 'gratuity', 'grease', 'great', 'greatest', 'greek', 'green', 'greens', 'greeted', 'grill', 'grilled', 'gristle', 'grocery', 'gross', 'grossed', 'ground', 'group', 'groups', 'grow', 'guacamole', 'guess', 'guest', 'guests', 'guy', 'guys', 'gyro', 'gyros', 'ha', 'hadn', 'hair', 'half', 'hamburger', 'han', 'hand', 'handed', 'handled', 'handling', 'handmade', 'hands', 'hankering', 'happened', 'happier', 'happy', 'hard', 'hardly', 'hasn', 'hate', 'hated', 'haunt', 'having', 'hawaiian', 'head', 'heads', 'healthy', 'heard', 'heart', 'hearts', 'heat', 'held', 'hell', 'hella', 'hello', 'help', 'helped', 'helpful', 'hereas', 'hi', 'high', 'highlight', 'highlighted', 'highlights', 'highly', 'hilarious', 'hip', 'hiro', 'hit', 'hole', 'home', 'homemade', 'honeslty', 'honest', 'honestly', 'honor', 'hooked', 'hope', 'hopefully', 'hopes', 'horrible', 'hospitality', 'host', 'hostess', 'hot', 'hottest', 'hour', 'hours', 'house', 'huevos', 'huge', 'human', 'humiliated', 'hunan', 'husband', 'hut', 'ians', 'ice', 'iced', 'idea', 'ignore', 'ignored', 'imagination', 'imagine', 'imagined', 'immediately', 'impeccable', 'impressed', 'impressive', 'inch', 'including', 'inconsiderate', 'incredible', 'incredibly', 'indicate', 'indoor', 'industry', 'inexpensive', 'inflate', 'informative', 'ingredients', 'insanely', 'inside', 'inspired', 'instantly', 'instead', 'insulted', 'insults', 'interesting', 'ironman', 'isn', 'item', 'jalapeno', 'jamaican', 'japanese', 'jerk', 'job', 'joey', 'join', 'joint', 'joke', 'joy', 'judge', 'judging', 'juice', 'juries', 'just', 'kept', 'key', 'khao', 'kid', 'kiddos', 'kids', 'killer', 'kind', 'know', 'known', 'lack', 'lacked', 'ladies', 'lady', 'large', 'largely', 'larger', 'lastly', 'late', 'later', 'latte', 'law', 'lawyers', 'leather', 'leave', 'leaves', 'left', 'leftover', 'legit', 'legs', 'lemon', 'let', 'letdown', 'letting', 'lettuce', 'level', 'life', 'lighter', 'lighting', 'lightly', 'like', 'liked', 'likes', 'liking', 'limited', 'lined', 'list', 'listed', 'literally', 'little', 'live', 'lived', 'll', 'lobster', 'located', 'location', 'long', 'longer', 'look', 'looked', 'looking', 'looks', 'lordy', 'lost', 'lot', 'lots', 'loudly', 'love', 'loved', 'lovely', 'lover', 'lovers', 'loves', 'loving', 'low', 'lox', 'loyal', 'luke', 'lukewarm', 'lunch', 'mac', 'macarons', 'madison', 'magazine', 'magic', 'main', 'maine', 'mains', 'maintaining', 'make', 'making', 'mall', 'man', 'management', 'manager', 'mandalay', 'mango', 'margaritas', 'maria', 'market', 'marrow', 'martini', 'mary', 'massive', 'maybe', 'mayo', 'meal', 'meals', 'mean', 'means', 'meat', 'meatloaf', 'meats', 'mediocre', 'mediterranean', 'meet', 'meh', 'mein', 'melt', 'melted', 'memory', 'menu', 'menus', 'mesquite', 'mess', 'metro', 'mexican', 'mgm', 'mid', 'middle', 'milk', 'milkshake', 'min', 'mind', 'minutes', 'miss', 'missed', 'mistake', 'mmmm', 'modern', 'moist', 'mojitos', 'mom', 'money', 'monster', 'months', 'mood', 'moods', 'mouth', 'mouthful', 'mouths', 'movies', 'moz', 'mozzarella', 'muffin', 'multi', 'multiple', 'music', 'mussels', 'nachos', 'nan', 'nargile', 'nasty', 'nay', 'neat', 'need', 'needed', 'needless', 'needs', 'neighborhood', 'new', 'nice', 'nicest', 'night', 'nigiri', 'noca', 'non', 'noodles', 'north', 'note', 'nude', 'number', 'nutshell', 'nyc', 'obviously', 'offered', 'offers', 'officially', 'oh', 'oil', 'ok', 'old', 'older', 'olives', 'omg', 'ones', 'onion', 'opened', 'operation', 'opinion', 'opportunity', 'options', 'order', 'ordered', 'ordering', 'orders', 'original', 'otto', 'outdoor', 'outrageously', 'outside', 'outstanding', 'outta', 'oven', 'overall', 'overcooked', 'overpriced', 'overwhelmed', 'owned', 'owner', 'owners', 'oysters', 'pace', 'packed', 'paid', 'pale', 'palm', 'pancake', 'pancakes', 'panna', 'paper', 'papers', 'par', 'paradise', 'parents', 'parties', 'party', 'passed', 'past', 'pasta', 'pastas', 'pastry', 'patio', 'patron', 'patty', 'pay', 'paying', 'peach', 'peanuts', 'peas', 'pecan', 'penne', 'people', 'pepper', 'perfect', 'perfection', 'perfectly', 'performed', 'perpared', 'person', 'personable', 'petty', 'phenomenal', 'philadelphia', 'pho', 'phoenix', 'picture', 'pictures', 'piece', 'pile', 'pineapple', 'pink', 'pita', 'pizza', 'pizzas', 'place', 'placed', 'places', 'plain', 'plate', 'platter', 'playing', 'pleasant', 'pleased', 'pleasure', 'pneumatic', 'point', 'poop', 'poor', 'poorly', 'pop', 'pork', 'portion', 'portions', 'positive', 'possible', 'postinos', 'potato', 'potatoes', 'poured', 'powdered', 'power', 'prefer', 'prepare', 'prepared', 'preparing', 'presentation', 'pretty', 'price', 'priced', 'prices', 'pricey', 'pricing', 'prime', 'privileged', 'probably', 'proclaimed', 'professional', 'profiterole', 'profound', 'promise', 'properly', 'pros', 'proven', 'provided', 'provides', 'providing', 'public', 'publicly', 'pumpkin', 'puree', 'puréed', 'quaint', 'qualified', 'quality', 'quick', 'quickly', 'quit', 'quite', 'ramsey', 'ranch', 'rancheros', 'rapidly', 'rare', 'rarely', 'raspberry', 'rated', 'ravoli', 'readers', 'real', 'realized', 'really', 'reasonable', 'reasonably', 'reasons', 'received', 'receives', 'recently', 'recommend', 'recommendation', 'recommended', 'recommending', 'red', 'redeeming', 'reduction', 'refill', 'refrained', 'refried', 'refused', 'regular', 'regularly', 'reheated', 'relationship', 'relax', 'relaxed', 'relleno', 'relocated', 'remember', 'reminds', 'replenished', 'requested', 'restaraunt', 'restaurant', 'restaurants', 'return', 'returned', 'returning', 'review', 'reviewing', 'reviews', 'revisiting', 'rge', 'ri', 'rib', 'ribeye', 'rice', 'rich', 'right', 'rings', 'rinse', 'risotto', 'roast', 'roasted', 'rock', 'roll', 'rolled', 'rolls', 'room', 'rotating', 'round', 'rowdy', 'rubber', 'rude', 'rudely', 'running', 'rushed', 'ryan', 'sad', 'sadly', 'saffron', 'said', 'salad', 'salads', 'salmon', 'salsa', 'salt', 'salty', 'sample', 'san', 'sandwich', 'sashimi', 'sat', 'satifying', 'satisfied', 'sauce', 'sauces', 'sause', 'saving', 'say', 'saying', 'says', 'scallop', 'scene', 'scottsdale', 'screams', 'screwed', 'seafood', 'seasonal', 'seasoning', 'seat', 'seated', 'seating', 'second', 'section', 'selection', 'selections', 'self', 'send', 'sense', 'sergeant', 'seriously', 'serivce', 'served', 'server', 'servers', 'serves', 'service', 'services', 'serving', 'set', 'setting', 'sever', 'sewer', 'sexy', 'shall', 'sharply', 'shawarrrrrrma', 'shirt', 'shocked', 'shoe', 'shoots', 'shop', 'shopping', 'shops', 'shots', 'shouldn', 'shower', 'shrimp', 'sick', 'sides', 'sign', 'signs', 'silently', 'similar', 'similarly', 'simple', 'simply', 'single', 'sitting', 'slaw', 'slices', 'slow', 'small', 'smaller', 'smashburger', 'smeared', 'smelled', 'smells', 'smoke', 'smooth', 'smoothies', 'soggy', 'soi', 'solidify', 'somethat', 'son', 'songs', 'soon', 'soooo', 'soooooo', 'sore', 'sorely', 'sound', 'soup', 'soups', 'sour', 'southwest', 'space', 'spaghetti', 'special', 'spend', 'spends', 'spice', 'spicier', 'spicy', 'spinach', 'sporting', 'spot', 'spotty', 'spring', 'sprouts', 'staff', 'stale', 'standard', 'star', 'stars', 'started', 'starving', 'station', 'stay', 'stayed', 'staying', 'steak', 'steakhouse', 'steaks', 'steiners', 'step', 'stepped', 'sticks', 'stir', 'stood', 'stop', 'stopped', 'store', 'strawberry', 'street', 'stretch', 'strike', 'strings', 'strip', 'stuff', 'stuffed', 'stupid', 'style', 'styrofoam', 'subpar', 'subway', 'succulent', 'suck', 'sucked', 'sucker', 'sucks', 'sugar', 'sugary', 'summarize', 'summary', 'summer', 'sun', 'sunday', 'sunglasses', 'super', 'sure', 'surprise', 'sushi', 'sweet', 'swung', 'table', 'tables', 'taco', 'tacos', 'talk', 'talking', 'tap', 'tapas', 'tartar', 'taste', 'tasted', 'tasteless', 'tasty', 'tater', 'tea', 'teamwork', 'teeth', 'tell', 'temp', 'tender', 'tepid', 'terrible', 'texture', 'thai', 'thanks', 'thats', 'theft', 'thing', 'things', 'think', 'thirty', 'thoroughly', 'thought', 'thumbs', 'tigerlilly', 'time', 'times', 'tiny', 'tip', 'toast', 'toasted', 'today', 'told', 'tongue', 'tonight', 'took', 'topic', 'tops', 'total', 'totally', 'tots', 'touch', 'touched', 'town', 'tracked', 'traditional', 'transcendant', 'trap', 'treat', 'treated', 'tribute', 'tried', 'trimmed', 'trip', 'trippy', 'trips', 'try', 'trying', 'tucson', 'tummy', 'tuna', 'turkey', 'tv', 'twice', 'typical', 'unbelievable', 'undercooked', 'understand', 'underwhelming', 'unexperienced', 'unfortunately', 'uninspired', 'unique', 'unless', 'unprofessional', 'unreal', 'untoasted', 'upgrading', 'uploaded', 'use', 'used', 'usual', 'vacant', 'vain', 'valley', 'value', 'vanilla', 've', 'veal', 'vegan', 'vegas', 'vegetables', 'vegetarian', 'veggie', 'veggitarian', 'ventilation', 'venture', 'venturing', 'venue', 'verge', 'version', 'vibe', 'vinegrette', 'violinists', 'visit', 'visited', 'vodka', 'voodoo', 'voted', 'waaaaaayyyyyyyyyy', 'wait', 'waited', 'waiter', 'waiting', 'waitress', 'waitresses', 'walked', 'wall', 'walls', 'want', 'wanted', 'wants', 'warm', 'warmer', 'warnings', 'wasn', 'waste', 'wasted', 'wasting', 'watch', 'watched', 'water', 'watered', 'way', 'ways', 'wayyy', 'weak', 'website', 'wedges', 'week', 'weekend', 'weekly', 'weird', 'welcome', 'went', 'whatsoever', 'whelm', 'white', 'wide', 'wienerschnitzel', 'wife', 'wildly', 'wine', 'wines', 'wings', 'wire', 'wish', 'witnessed', 'won', 'wonderful', 'wontons', 'word', 'work', 'worker', 'workers', 'working', 'works', 'world', 'worries', 'worse', 'worst', 'worth', 'wouldn', 'wound', 'wow', 'wrap', 'wrapped', 'wrong', 'ya', 'yeah', 'year', 'years', 'yellow', 'yucky', 'yum', 'yummy', 'zero']\n",
      "Feature_names Length 1523\n"
     ]
    }
   ],
   "source": [
    "feature_names = vectorizer.get_feature_names()\n",
    "\n",
    "print(feature_names)\n",
    "print(\"Feature_names Length\", len(feature_names))"
   ]
  },
  {
   "cell_type": "markdown",
   "metadata": {},
   "source": [
    "La lista de palabras que se utilizará para realizar el analisis de sentimientos contienen `1523 palabras`."
   ]
  },
  {
   "cell_type": "markdown",
   "metadata": {},
   "source": [
    "### Clasificador Naive Bayes\n",
    "\n",
    "Para poder realizar un análisis de los resultados posteriores debemos calcular un Naive Bayes sin ninguno de los parametros que estamos ajustando (`binary` y `ngram_range`).\n",
    "\n",
    "Estos parametros tienen los siguientes valores por defecto:\n",
    "* `binary`. Por defecto: __False__.\n",
    "\n",
    "* `ngram_range`. Por defecto: __(1, 1)__."
   ]
  },
  {
   "cell_type": "code",
   "execution_count": 8,
   "metadata": {},
   "outputs": [],
   "source": [
    "vectorizer0 = CountVectorizer(stop_words='english')\n",
    "\n",
    "train_vector_data0 = vectorizer0.fit_transform(train[0])\n",
    "test_vector_data0 = vectorizer.transform(test[0])"
   ]
  },
  {
   "cell_type": "code",
   "execution_count": 9,
   "metadata": {},
   "outputs": [
    {
     "name": "stdout",
     "output_type": "stream",
     "text": [
      "Multinomial Naive Bayes, porcentaje de aciertos en entrenamiento: 0.952\n",
      "Multinomial Naive Bayes, porcentaje de aciertos en test: 0.764\n"
     ]
    }
   ],
   "source": [
    "mnb_classifier0 = MultinomialNB()\n",
    "\n",
    "mnb_classifier0.fit(train_vector_data0, train[1])\n",
    "\n",
    "mnb_train_predictions0 = mnb_classifier0.predict(train_vector_data0)\n",
    "mnb_test_predictions0 = mnb_classifier0.predict(test_vector_data0)\n",
    "\n",
    "print(\"Multinomial Naive Bayes, porcentaje de aciertos en entrenamiento:\", np.mean(mnb_train_predictions0 == train[1]))\n",
    "print(\"Multinomial Naive Bayes, porcentaje de aciertos en test:\", np.mean(mnb_test_predictions0 == test[1]))"
   ]
  },
  {
   "cell_type": "markdown",
   "metadata": {},
   "source": [
    "- __Bolsa de palabras binaria con Monogramas:__ (Código NB1)"
   ]
  },
  {
   "cell_type": "code",
   "execution_count": 10,
   "metadata": {},
   "outputs": [],
   "source": [
    "vectorizer1 = CountVectorizer(stop_words='english', binary=True, ngram_range=(1,1))\n",
    "\n",
    "train_vector_data1 = vectorizer1.fit_transform(train[0])\n",
    "test_vector_data1 = vectorizer1.transform(test[0])"
   ]
  },
  {
   "cell_type": "code",
   "execution_count": 11,
   "metadata": {},
   "outputs": [
    {
     "name": "stdout",
     "output_type": "stream",
     "text": [
      "Multinomial Naive Bayes, porcentaje de aciertos en entrenamiento: 0.9506666666666667\n",
      "Multinomial Naive Bayes, porcentaje de aciertos en test: 0.764\n"
     ]
    }
   ],
   "source": [
    "mnb_classifier1 = MultinomialNB()\n",
    "\n",
    "mnb_classifier1.fit(train_vector_data1, train[1])\n",
    "\n",
    "mnb_train_predictions1 = mnb_classifier1.predict(train_vector_data1)\n",
    "mnb_test_predictions1 = mnb_classifier1.predict(test_vector_data1)\n",
    "\n",
    "print(\"Multinomial Naive Bayes, porcentaje de aciertos en entrenamiento:\", np.mean(mnb_train_predictions1 == train[1]))\n",
    "print(\"Multinomial Naive Bayes, porcentaje de aciertos en test:\", np.mean(mnb_test_predictions1 == test[1]))"
   ]
  },
  {
   "cell_type": "code",
   "execution_count": 12,
   "metadata": {},
   "outputs": [],
   "source": [
    "labels = ['NB1']\n",
    "train_means = [np.mean(mnb_train_predictions1 == train[1]) * 100]\n",
    "test_means = [np.mean(mnb_test_predictions1 == test[1]) * 100]"
   ]
  },
  {
   "cell_type": "markdown",
   "metadata": {},
   "source": [
    "__¿Tiene un efecto positivo el añadir “complejidad” a la vectorización? ¿Por qué crees que sucede este\n",
    "efecto positivo o la falta del mismo?__\n",
    "\n",
    "|<center>PARTICIÓN</center>|<center>REF</center>|<center>NB1</center>|\n",
    "|---------|---|---|\n",
    "|<center>**Train**</center>|<center>0.952</center>|<center>0.9506666666666667</center>|\n",
    "|<center>**Test**</center>|<center>0.764</center>|<center>0.764</center>|\n",
    "\n",
    "Como podemos observar, añadir los parametros para que funcione con bolsa de palabras binaria (`binary=True`) y con monogramas (`ngram_range=(1,1)`, esto no añade complejidad ya que es igual que el parametro por defecto), no producen una mejora en el resultado numérico, por lo contrario empeora la tasa de aciertos en test, pero no indica que sea un mal resultado, ya que quizas con esta implemetación se estan aprendiendo reglas que no correctas."
   ]
  },
  {
   "cell_type": "markdown",
   "metadata": {},
   "source": [
    "- __Bolsa de palabras binaria con Monogramas y Bigramas:__ (Código NB2)"
   ]
  },
  {
   "cell_type": "code",
   "execution_count": 13,
   "metadata": {},
   "outputs": [],
   "source": [
    "vectorizer2 = CountVectorizer(stop_words='english', binary=True, ngram_range=(1,2))\n",
    "\n",
    "train_vector_data2 = vectorizer2.fit_transform(train[0])\n",
    "test_vector_data2 = vectorizer2.transform(test[0])"
   ]
  },
  {
   "cell_type": "code",
   "execution_count": 14,
   "metadata": {},
   "outputs": [
    {
     "name": "stdout",
     "output_type": "stream",
     "text": [
      "Multinomial Naive Bayes, porcentaje de aciertos en entrenamiento: 0.9773333333333334\n",
      "Multinomial Naive Bayes, porcentaje de aciertos en test: 0.772\n"
     ]
    }
   ],
   "source": [
    "mnb_classifier2 = MultinomialNB()\n",
    "\n",
    "mnb_classifier2.fit(train_vector_data2, train[1])\n",
    "\n",
    "mnb_train_predictions2 = mnb_classifier2.predict(train_vector_data2)\n",
    "mnb_test_predictions2 = mnb_classifier2.predict(test_vector_data2)\n",
    "\n",
    "print(\"Multinomial Naive Bayes, porcentaje de aciertos en entrenamiento:\", np.mean(mnb_train_predictions2 == train[1]))\n",
    "print(\"Multinomial Naive Bayes, porcentaje de aciertos en test:\", np.mean(mnb_test_predictions2 == test[1]))"
   ]
  },
  {
   "cell_type": "code",
   "execution_count": 15,
   "metadata": {},
   "outputs": [],
   "source": [
    "labels = labels + ['NB2']\n",
    "train_means = train_means + [np.mean(mnb_train_predictions2 == train[1]) * 100]\n",
    "test_means = test_means + [np.mean(mnb_test_predictions2 == test[1]) * 100]"
   ]
  },
  {
   "cell_type": "markdown",
   "metadata": {},
   "source": [
    "__¿Tiene un efecto positivo el añadir “complejidad” a la vectorización? ¿Por qué crees que sucede este\n",
    "efecto positivo o la falta del mismo?__\n",
    "\n",
    "|<center>PARTICIÓN</center>|<center>REF</center>|<center>NB2</center>|\n",
    "|---------|---|---|\n",
    "|<center>**Train**</center>|<center>0.952</center>|<center>0.9773333333333334</center>|\n",
    "|<center>**Test**</center>|<center>0.764</center>|<center>0.772</center>|\n",
    "\n",
    "Como podemos observar, añadir los parametros para que funcione con bolsa de palabras binaria (`binary=True`) y con monogramas y bigramas (`ngram_range=(1,2)`), ofrece una diferencia en el porcentaje de aciertos tanto en el conjunto de train como en el conjunto de test.\n",
    "\n",
    "Esto viene dado porque se usa la hipotesis de Markov para calcular la frecuenta de los bigramas y esto hace que los calculos realizados sean mas precisos que solo evaluar una palabra en un contexto determinado."
   ]
  },
  {
   "cell_type": "markdown",
   "metadata": {},
   "source": [
    "- __Bolsa de palabras con TF/IDF con Monogramas:__ (Código NB3)"
   ]
  },
  {
   "cell_type": "code",
   "execution_count": 16,
   "metadata": {},
   "outputs": [],
   "source": [
    "vectorizer3 = CountVectorizer(stop_words='english', binary=False, ngram_range=(1,1))\n",
    "\n",
    "train_vector_data3=vectorizer3.fit_transform(train[0])\n",
    "\n",
    "tfidfer3= TfidfTransformer()\n",
    "\n",
    "# Calculamos el valor TF-IDF \n",
    "train_preprocessed3=tfidfer3.fit_transform(train_vector_data3)\n",
    "\n",
    "# Tomamos los textos del conjunto de test y los transformamos en una matriz\n",
    "# de palabras. Al usar \"transform\" toma como referencia únicamente las palabras\n",
    "# encontradas en el conjunto de entrenamiento\n",
    "test_vector_data3=vectorizer3.transform(test[0])\n",
    "# Calculamos el valor TF-IDF \n",
    "# Al usar \"transform\" toma como IDF el del conjunto de entrenamiento \n",
    "test_preprocessed3=tfidfer3.transform(test_vector_data3)"
   ]
  },
  {
   "cell_type": "code",
   "execution_count": 17,
   "metadata": {},
   "outputs": [
    {
     "name": "stdout",
     "output_type": "stream",
     "text": [
      "Multinomial Naive Bayes, porcentaje de aciertos en entrenamiento: 0.9613333333333334\n",
      "Multinomial Naive Bayes, porcentaje de aciertos en test: 0.772\n"
     ]
    }
   ],
   "source": [
    "mnb_classifier3 = MultinomialNB()\n",
    "\n",
    "mnb_classifier3.fit(train_preprocessed3, train[1])\n",
    "\n",
    "mnb_train_predictions3 = mnb_classifier3.predict(train_preprocessed3)\n",
    "mnb_test_predictions3 = mnb_classifier3.predict(test_preprocessed3)\n",
    "\n",
    "print(\"Multinomial Naive Bayes, porcentaje de aciertos en entrenamiento:\", np.mean(mnb_train_predictions3 == train[1]))\n",
    "print(\"Multinomial Naive Bayes, porcentaje de aciertos en test:\", np.mean(mnb_test_predictions3 == test[1]))"
   ]
  },
  {
   "cell_type": "code",
   "execution_count": 18,
   "metadata": {},
   "outputs": [],
   "source": [
    "labels = labels + ['NB3']\n",
    "train_means = train_means + [np.mean(mnb_train_predictions3 == train[1]) * 100]\n",
    "test_means = test_means + [np.mean(mnb_test_predictions3 == test[1]) * 100]"
   ]
  },
  {
   "cell_type": "markdown",
   "metadata": {},
   "source": [
    "__¿Tiene un efecto positivo el añadir “complejidad” a la vectorización? ¿Por qué crees que sucede este\n",
    "efecto positivo o la falta del mismo?__\n",
    "\n",
    "|<center>PARTICIÓN</center>|<center>REF</center>|<center>NB3</center>|\n",
    "|---------|---|---|\n",
    "|<center>**Train**</center>|<center>0.952</center>|<center>0.9613333333333334</center>|\n",
    "|<center>**Test**</center>|<center>0.764</center>|<center>0.772</center>|\n",
    "\n",
    "Como podemos observar, añadir los parametros para que funcione con bolsa de palabras con TF/IDF (`binary=False`) y con monogramas (`ngram_range=(1,1)`), ofrece una diferencia en el porcentaje de aciertos tanto en el conjunto de train como en el conjunto de test.\n",
    "\n",
    "Esto se debe al que al calcular con TF/IDF la bolsa de palabras la importancia de una palabra sea inversamente relativa a lo común que es en el documento, por tanto se obtiene una mejora en el clasificador."
   ]
  },
  {
   "cell_type": "markdown",
   "metadata": {},
   "source": [
    "- __Bolsa de palabras con TF/IDF con Monogramas y Bigramas:__ (Código NB4)"
   ]
  },
  {
   "cell_type": "code",
   "execution_count": 19,
   "metadata": {},
   "outputs": [],
   "source": [
    "vectorizer4 = CountVectorizer(stop_words='english', binary=False, ngram_range=(1,2))\n",
    "\n",
    "train_vector_data4 = vectorizer4.fit_transform(train[0])\n",
    "\n",
    "tfidfer4 = TfidfTransformer()\n",
    "\n",
    "# Calculamos el valor TF-IDF \n",
    "train_preprocessed4 = tfidfer4.fit_transform(train_vector_data4)\n",
    "\n",
    "# Tomamos los textos del conjunto de test y los transformamos en una matriz\n",
    "# de palabras. Al usar \"transform\" toma como referencia únicamente las palabras\n",
    "# encontradas en el conjunto de entrenamiento\n",
    "test_vector_data4 = vectorizer4.transform(test[0])\n",
    "# Calculamos el valor TF-IDF \n",
    "# Al usar \"transform\" toma como IDF el del conjunto de entrenamiento \n",
    "test_preprocessed4 = tfidfer4.transform(test_vector_data4)"
   ]
  },
  {
   "cell_type": "code",
   "execution_count": 20,
   "metadata": {},
   "outputs": [
    {
     "name": "stdout",
     "output_type": "stream",
     "text": [
      "Multinomial Naive Bayes, porcentaje de aciertos en entrenamiento: 0.9893333333333333\n",
      "Multinomial Naive Bayes, porcentaje de aciertos en test: 0.784\n"
     ]
    }
   ],
   "source": [
    "mnb_classifier4 = MultinomialNB()\n",
    "\n",
    "mnb_classifier4.fit(train_preprocessed4, train[1])\n",
    "\n",
    "mnb_train_predictions4 = mnb_classifier4.predict(train_preprocessed4)\n",
    "mnb_test_predictions4 = mnb_classifier4.predict(test_preprocessed4)\n",
    "\n",
    "print(\"Multinomial Naive Bayes, porcentaje de aciertos en entrenamiento:\", np.mean(mnb_train_predictions4 == train[1]))\n",
    "print(\"Multinomial Naive Bayes, porcentaje de aciertos en test:\", np.mean(mnb_test_predictions4 == test[1]))"
   ]
  },
  {
   "cell_type": "code",
   "execution_count": 21,
   "metadata": {},
   "outputs": [],
   "source": [
    "labels = labels + ['NB4']\n",
    "train_means = train_means + [np.mean(mnb_train_predictions4 == train[1]) * 100]\n",
    "test_means = test_means + [np.mean(mnb_test_predictions4 == test[1]) * 100]"
   ]
  },
  {
   "cell_type": "markdown",
   "metadata": {},
   "source": [
    "__¿Tiene un efecto positivo el añadir “complejidad” a la vectorización? ¿Por qué crees que sucede este\n",
    "efecto positivo o la falta del mismo?__\n",
    "\n",
    "|<center>PARTICIÓN</center>|<center>REF</center>|<center>NB4</center>|\n",
    "|---------|---|---|\n",
    "|<center>**Train**</center>|<center>0.952</center>|<center>0.9893333333333333</center>|\n",
    "|<center>**Test**</center>|<center>0.764</center>|<center>0.784</center>|\n",
    "\n",
    "Como podemos observar, añadir los parametros para que funcione con bolsa de palabras con TF/IDF (`binary=False`) y con monogramas y bigramas (`ngram_range=(1,2)`), ofrece una diferencia en el porcentaje de aciertos tanto en el conjunto de train como en el conjunto de test.\n",
    "\n",
    "Esto se debe al que al calcular con TF/IDF la bolsa de palabras la importancia de una palabra sea inversamente relativa a lo común que es en el documento y además al utilizar monogramas y bigramas nos aseguramos de que no se evaluen las palabras unicamente de forma individual si no que también se tome en cuenta la palabra que le precede, todo esto permite que se obtenga una mejora en el clasificador."
   ]
  },
  {
   "cell_type": "markdown",
   "metadata": {},
   "source": [
    "### Comparativa entre los clasificadores"
   ]
  },
  {
   "cell_type": "code",
   "execution_count": 22,
   "metadata": {
    "scrolled": false
   },
   "outputs": [
    {
     "data": {
      "image/png": "[encoded data removed]",
      "text/plain": [
       "<Figure size 1080x720 with 1 Axes>"
      ]
     },
     "metadata": {
      "needs_background": "light"
     },
     "output_type": "display_data"
    }
   ],
   "source": [
    "x = np.arange(len(labels))  # the label locations\n",
    "width = 0.2 # the width of the bars\n",
    "\n",
    "fig, ax = plt.subplots(figsize = (15, 10))\n",
    "rects1 = ax.bar(x - width/2, train_means, width, label='Train')\n",
    "rects2 = ax.bar(x + width/2, test_means, width, label='Test')\n",
    "\n",
    "# Add some text for labels, title and custom x-axis tick labels, etc.\n",
    "ax.set_ylabel('Porcentaje')\n",
    "ax.set_title('Evaluación de Naive Bayes')\n",
    "ax.set_xticks(x)\n",
    "ax.set_xticklabels(labels)\n",
    "ax.legend()\n",
    "\n",
    "\n",
    "def autolabel(rects):\n",
    "    \"\"\"Attach a text label above each bar in *rects*, displaying its height.\"\"\"\n",
    "    for rect in rects:\n",
    "        height = rect.get_height()\n",
    "        ax.annotate('{:.2f}%'.format(height),\n",
    "                    xy=(rect.get_x() + rect.get_width() / 2, height),\n",
    "                    xytext=(0, 3),  # 3 points vertical offset\n",
    "                    textcoords=\"offset points\",\n",
    "                    ha='center', va='bottom')\n",
    "\n",
    "\n",
    "autolabel(rects1)\n",
    "autolabel(rects2)\n",
    "\n",
    "plt.show()"
   ]
  },
  {
   "cell_type": "markdown",
   "metadata": {},
   "source": [
    "__¿Hay un clasificador que sea superior al otro? ¿por qué crees que sucede?__\n",
    "\n",
    "Como podemos apreciar en el gráfico de barras, el mejor clasificador que se tienen en Naive Bayes es el NB4 que  es el código con el que hemos llamado al clasificador con `Bolsa de palabras con TF/IDF con Monogramas y Bigramas` aunque la diferencia para los clasificadores de Naive Bayes es pequeña, pero podemos indicar el orden en el utilizariamos los mismos:\n",
    "\n",
    "1. NB4: `Bolsa de palabras con TF/IDF con Monogramas y Bigramas`.\n",
    "\n",
    "2. NB2: `Bolsa de palabras binaria con Monogramas y Bigramas`.\n",
    "\n",
    "3. NB3: `Bolsa de palabras con TF/IDF con Monogramas`.\n",
    "\n",
    "4. NB1: `Bolsa de palabras binaria con Monogramas`.\n",
    "\n",
    "Como hemos indicado anteriormente, el clasificador que utiliza bolsa de palabras con TF/IDF junto a monogramas y bigramas, ya que es la mejor combinación evaluada y esto se debe a que la importancia de una palabra es inversamente relativa a lo común que es en el documento y no se evaluan unicamente las palabras de forma individual si no que también se toma en cuenta la palabra que le precede."
   ]
  },
  {
   "cell_type": "markdown",
   "metadata": {},
   "source": [
    "### Árbol de decisión "
   ]
  },
  {
   "cell_type": "code",
   "execution_count": 23,
   "metadata": {},
   "outputs": [],
   "source": [
    "vectorizer5 = CountVectorizer(stop_words='english')\n",
    "\n",
    "train_vector_data5 = vectorizer5.fit_transform(train[0])\n",
    "test_vector_data5 = vectorizer5.transform(test[0])"
   ]
  },
  {
   "cell_type": "code",
   "execution_count": 24,
   "metadata": {},
   "outputs": [
    {
     "name": "stdout",
     "output_type": "stream",
     "text": [
      "Árbol, porcentaje de aciertos en entrenamiento: 0.9973333333333333\n",
      "Árbol, porcentaje de aciertos en test: 0.664\n"
     ]
    }
   ],
   "source": [
    "# Creamos el clasificador con los valores por defecto\n",
    "tree_classifier0 = tree.DecisionTreeClassifier(random_state=42)\n",
    "tree_classifier0.fit(train_vector_data5, train[1])\n",
    "\n",
    "tree_train_predictions0 = tree_classifier0.predict(train_vector_data5)\n",
    "tree_test_predictions0 = tree_classifier0.predict(test_vector_data5)\n",
    "\n",
    "\n",
    "print(\"Árbol, porcentaje de aciertos en entrenamiento:\", np.mean(tree_train_predictions0 == train[1]))\n",
    "print(\"Árbol, porcentaje de aciertos en test:\", np.mean(tree_test_predictions0 == test[1]))"
   ]
  },
  {
   "cell_type": "markdown",
   "metadata": {},
   "source": [
    "- __Bolsa de palabras binaria con Monogramas:__ (Código AD1)"
   ]
  },
  {
   "cell_type": "code",
   "execution_count": 25,
   "metadata": {},
   "outputs": [],
   "source": [
    "vectorizer6 = CountVectorizer(stop_words='english', binary=True, ngram_range=(1,1))\n",
    "\n",
    "train_vector_data6 = vectorizer6.fit_transform(train[0])\n",
    "test_vector_data6 = vectorizer6.transform(test[0])"
   ]
  },
  {
   "cell_type": "code",
   "execution_count": 26,
   "metadata": {},
   "outputs": [
    {
     "name": "stdout",
     "output_type": "stream",
     "text": [
      "Árbol, porcentaje de aciertos en entrenamiento: 0.9973333333333333\n",
      "Árbol, porcentaje de aciertos en test: 0.672\n"
     ]
    }
   ],
   "source": [
    "# Creamos el clasificador con los valores por defecto\n",
    "tree_classifier1 = tree.DecisionTreeClassifier(random_state=42)\n",
    "tree_classifier1.fit(train_vector_data6, train[1])\n",
    "\n",
    "tree_train_predictions1 = tree_classifier1.predict(train_vector_data6)\n",
    "tree_test_predictions1 = tree_classifier1.predict(test_vector_data6)\n",
    "\n",
    "\n",
    "print(\"Árbol, porcentaje de aciertos en entrenamiento:\", np.mean(tree_train_predictions1 == train[1]))\n",
    "print(\"Árbol, porcentaje de aciertos en test:\", np.mean(tree_test_predictions1 == test[1]))"
   ]
  },
  {
   "cell_type": "code",
   "execution_count": 27,
   "metadata": {},
   "outputs": [],
   "source": [
    "labels2 = ['AD1']\n",
    "train_means2 = [np.mean(tree_train_predictions1 == train[1]) * 100]\n",
    "test_means2 = [np.mean(tree_test_predictions1 == test[1]) * 100]"
   ]
  },
  {
   "cell_type": "markdown",
   "metadata": {},
   "source": [
    "__¿Tiene un efecto positivo el añadir “complejidad” a la vectorización? ¿Por qué crees que sucede este\n",
    "efecto positivo o la falta del mismo?__\n",
    "\n",
    "`RESPUESTA PENDIENTE`"
   ]
  },
  {
   "cell_type": "markdown",
   "metadata": {},
   "source": [
    "- __Bolsa de palabras binaria con Monogramas y Bigramas:__ (Código AD2)"
   ]
  },
  {
   "cell_type": "code",
   "execution_count": 28,
   "metadata": {},
   "outputs": [],
   "source": [
    "vectorizer7 = CountVectorizer(stop_words='english', binary=True, ngram_range=(1,2))\n",
    "\n",
    "train_vector_data7 = vectorizer7.fit_transform(train[0])\n",
    "test_vector_data7 = vectorizer7.transform(test[0])"
   ]
  },
  {
   "cell_type": "code",
   "execution_count": 29,
   "metadata": {},
   "outputs": [
    {
     "name": "stdout",
     "output_type": "stream",
     "text": [
      "Árbol, porcentaje de aciertos en entrenamiento: 0.9973333333333333\n",
      "Árbol, porcentaje de aciertos en test: 0.672\n"
     ]
    }
   ],
   "source": [
    "# Creamos el clasificador con los valores por defecto\n",
    "tree_classifier2 = tree.DecisionTreeClassifier(random_state=42)\n",
    "tree_classifier2.fit(train_vector_data7, train[1])\n",
    "\n",
    "tree_train_predictions2 = tree_classifier2.predict(train_vector_data7)\n",
    "tree_test_predictions2 = tree_classifier2.predict(test_vector_data7)\n",
    "\n",
    "\n",
    "print(\"Árbol, porcentaje de aciertos en entrenamiento:\", np.mean(tree_train_predictions2 == train[1]))\n",
    "print(\"Árbol, porcentaje de aciertos en test:\", np.mean(tree_test_predictions2 == test[1]))"
   ]
  },
  {
   "cell_type": "code",
   "execution_count": 30,
   "metadata": {},
   "outputs": [],
   "source": [
    "labels2 = labels2 + ['AD2']\n",
    "train_means2 = train_means2 + [np.mean(tree_train_predictions2 == train[1]) * 100]\n",
    "test_means2 = test_means2 + [np.mean(tree_test_predictions2 == test[1]) * 100]"
   ]
  },
  {
   "cell_type": "markdown",
   "metadata": {},
   "source": [
    "__¿Tiene un efecto positivo el añadir “complejidad” a la vectorización? ¿Por qué crees que sucede este\n",
    "efecto positivo o la falta del mismo?__\n",
    "\n",
    "`RESPUESTA PENDIENTE`"
   ]
  },
  {
   "cell_type": "markdown",
   "metadata": {},
   "source": [
    "- __Bolsa de palabras con TF/IDF con Monogramas:__ (Código AD3)"
   ]
  },
  {
   "cell_type": "code",
   "execution_count": 31,
   "metadata": {},
   "outputs": [],
   "source": [
    "vectorizer8 = CountVectorizer(stop_words='english', binary=False, ngram_range=(1,1))\n",
    "\n",
    "train_vector_data8=vectorizer8.fit_transform(train[0])\n",
    "\n",
    "tfidfer8= TfidfTransformer()\n",
    "\n",
    "# Calculamos el valor TF-IDF \n",
    "train_preprocessed8=tfidfer8.fit_transform(train_vector_data8)\n",
    "\n",
    "# Tomamos los textos del conjunto de test y los transformamos en una matriz\n",
    "# de palabras. Al usar \"transform\" toma como referencia únicamente las palabras\n",
    "# encontradas en el conjunto de entrenamiento\n",
    "test_vector_data8=vectorizer8.transform(test[0])\n",
    "# Calculamos el valor TF-IDF \n",
    "# Al usar \"transform\" toma como IDF el del conjunto de entrenamiento \n",
    "test_preprocessed8=tfidfer8.transform(test_vector_data8)"
   ]
  },
  {
   "cell_type": "code",
   "execution_count": 32,
   "metadata": {},
   "outputs": [
    {
     "name": "stdout",
     "output_type": "stream",
     "text": [
      "Árbol, porcentaje de aciertos en entrenamiento: 0.9973333333333333\n",
      "Árbol, porcentaje de aciertos en test: 0.696\n"
     ]
    }
   ],
   "source": [
    "# Creamos el clasificador con los valores por defecto\n",
    "tree_classifier3 = tree.DecisionTreeClassifier(random_state=42)\n",
    "tree_classifier3.fit(train_preprocessed8, train[1])\n",
    "\n",
    "tree_train_predictions3 = tree_classifier3.predict(train_preprocessed8)\n",
    "tree_test_predictions3 = tree_classifier3.predict(test_preprocessed8)\n",
    "\n",
    "\n",
    "print(\"Árbol, porcentaje de aciertos en entrenamiento:\", np.mean(tree_train_predictions3 == train[1]))\n",
    "print(\"Árbol, porcentaje de aciertos en test:\", np.mean(tree_test_predictions3 == test[1]))"
   ]
  },
  {
   "cell_type": "code",
   "execution_count": 33,
   "metadata": {},
   "outputs": [],
   "source": [
    "labels2 = labels2 + ['AD3']\n",
    "train_means2 = train_means2 + [np.mean(tree_train_predictions3 == train[1]) * 100]\n",
    "test_means2 = test_means2 + [np.mean(tree_test_predictions3 == test[1]) * 100]"
   ]
  },
  {
   "cell_type": "markdown",
   "metadata": {},
   "source": [
    "__¿Tiene un efecto positivo el añadir “complejidad” a la vectorización? ¿Por qué crees que sucede este\n",
    "efecto positivo o la falta del mismo?__\n",
    "\n",
    "`RESPUESTA PENDIENTE`"
   ]
  },
  {
   "cell_type": "markdown",
   "metadata": {},
   "source": [
    "- __Bolsa de palabras con TF/IDF con Monogramas y Bigramas:__ (Código AD4)"
   ]
  },
  {
   "cell_type": "code",
   "execution_count": 34,
   "metadata": {},
   "outputs": [],
   "source": [
    "vectorizer9 = CountVectorizer(stop_words='english', binary=False, ngram_range=(1,2))\n",
    "\n",
    "train_vector_data9 = vectorizer9.fit_transform(train[0])\n",
    "\n",
    "tfidfer9 = TfidfTransformer()\n",
    "\n",
    "# Calculamos el valor TF-IDF \n",
    "train_preprocessed9 = tfidfer9.fit_transform(train_vector_data9)\n",
    "\n",
    "# Tomamos los textos del conjunto de test y los transformamos en una matriz\n",
    "# de palabras. Al usar \"transform\" toma como referencia únicamente las palabras\n",
    "# encontradas en el conjunto de entrenamiento\n",
    "test_vector_data9 = vectorizer9.transform(test[0])\n",
    "# Calculamos el valor TF-IDF \n",
    "# Al usar \"transform\" toma como IDF el del conjunto de entrenamiento \n",
    "test_preprocessed9 = tfidfer9.transform(test_vector_data4)"
   ]
  },
  {
   "cell_type": "code",
   "execution_count": 35,
   "metadata": {},
   "outputs": [
    {
     "name": "stdout",
     "output_type": "stream",
     "text": [
      "Árbol, porcentaje de aciertos en entrenamiento: 0.9973333333333333\n",
      "Árbol, porcentaje de aciertos en test: 0.664\n"
     ]
    }
   ],
   "source": [
    "# Creamos el clasificador con los valores por defecto\n",
    "tree_classifier4 = tree.DecisionTreeClassifier(random_state=42)\n",
    "tree_classifier4.fit(train_preprocessed9, train[1])\n",
    "\n",
    "tree_train_predictions4 = tree_classifier4.predict(train_preprocessed9)\n",
    "tree_test_predictions4 = tree_classifier4.predict(test_preprocessed9)\n",
    "\n",
    "\n",
    "print(\"Árbol, porcentaje de aciertos en entrenamiento:\", np.mean(tree_train_predictions4 == train[1]))\n",
    "print(\"Árbol, porcentaje de aciertos en test:\", np.mean(tree_test_predictions4 == test[1]))"
   ]
  },
  {
   "cell_type": "code",
   "execution_count": 36,
   "metadata": {},
   "outputs": [],
   "source": [
    "labels2 = labels2 + ['AD4']\n",
    "train_means2 = train_means2 + [np.mean(tree_train_predictions4 == train[1]) * 100]\n",
    "test_means2 = test_means2 + [np.mean(tree_test_predictions4 == test[1]) * 100]"
   ]
  },
  {
   "cell_type": "markdown",
   "metadata": {},
   "source": [
    "__¿Tiene un efecto positivo el añadir “complejidad” a la vectorización? ¿Por qué crees que sucede este\n",
    "efecto positivo o la falta del mismo?__\n",
    "\n",
    "`RESPUESTA PENDIENTE`"
   ]
  },
  {
   "cell_type": "markdown",
   "metadata": {},
   "source": [
    "### Comparativa entre los clasificadores"
   ]
  },
  {
   "cell_type": "code",
   "execution_count": 37,
   "metadata": {},
   "outputs": [
    {
     "data": {
      "image/png": "[encoded data removed]",
      "text/plain": [
       "<Figure size 1080x720 with 1 Axes>"
      ]
     },
     "metadata": {
      "needs_background": "light"
     },
     "output_type": "display_data"
    }
   ],
   "source": [
    "x = np.arange(len(labels2))  # the label locations\n",
    "width = 0.2 # the width of the bars\n",
    "\n",
    "fig, ax = plt.subplots(figsize = (15, 10))\n",
    "rects1 = ax.bar(x - width/2, train_means2, width, label='Train')\n",
    "rects2 = ax.bar(x + width/2, test_means2, width, label='Test')\n",
    "\n",
    "# Add some text for labels, title and custom x-axis tick labels, etc.\n",
    "ax.set_ylabel('Porcentaje')\n",
    "ax.set_title('Evaluación de Árbol de Decisión')\n",
    "ax.set_xticks(x)\n",
    "ax.set_xticklabels(labels2)\n",
    "ax.legend()\n",
    "\n",
    "\n",
    "def autolabel(rects):\n",
    "    \"\"\"Attach a text label above each bar in *rects*, displaying its height.\"\"\"\n",
    "    for rect in rects:\n",
    "        height = rect.get_height()\n",
    "        ax.annotate('{:.2f}%'.format(height),\n",
    "                    xy=(rect.get_x() + rect.get_width() / 2, height),\n",
    "                    xytext=(0, 3),  # 3 points vertical offset\n",
    "                    textcoords=\"offset points\",\n",
    "                    ha='center', va='bottom')\n",
    "\n",
    "\n",
    "autolabel(rects1)\n",
    "autolabel(rects2)\n",
    "\n",
    "plt.show()"
   ]
  },
  {
   "cell_type": "markdown",
   "metadata": {},
   "source": [
    "__¿Hay un clasificador que sea superior al otro? ¿por qué crees que sucede?__\n",
    "\n",
    "Como podemos apreciar en el gráfico de barras, el mejor clasificador que se generó con `Árboles de Decisión` es el AD3 que  es el código con el que hemos llamado al clasificador con `Bolsa de palabras con TF/IDF con Monogramas` aunque la diferencia para los clasificadores de Árboles de Decisión es pequeña, pero podemos indicar el orden en el utilizariamos los mismos:\n",
    "\n",
    "1. AD3: `Bolsa de palabras con TF/IDF con Monogramas`.\n",
    "\n",
    "2. AD1: `Bolsa de palabras binaria con Monogramas`.\n",
    "\n",
    "3. AD2: `Bolsa de palabras binaria con Monogramas y Bigramas`.\n",
    "\n",
    "4. AD4: `Bolsa de palabras con TF/IDF con Monogramas y Bigramas`.\n",
    "\n",
    "\n",
    "`RESPUESTA PENDIENTE`"
   ]
  },
  {
   "cell_type": "markdown",
   "metadata": {},
   "source": [
    "### Palabras predominantes en el Árbol de Decisión con bolsa de palabras con TF/IDF y Monogramas\n",
    "\n",
    "El clasificador a utilizar es el `tree_classifier3`."
   ]
  },
  {
   "cell_type": "code",
   "execution_count": 38,
   "metadata": {},
   "outputs": [
    {
     "name": "stdout",
     "output_type": "stream",
     "text": [
      "Top 15 features in the tree\n",
      "\n",
      "great good delicious best place nice amazing love friendly awesome excellent fantastic time perfect vegas\n"
     ]
    }
   ],
   "source": [
    "def print_topN_features_in_trees(vectorizer, clf, n=20):\n",
    "    \"\"\"Prints features with the highest coefficient values\"\"\"\n",
    "    feature_names = vectorizer.get_feature_names()\n",
    "    \n",
    "    topN = np.argsort(clf.feature_importances_)[-n:]\n",
    "    reversed_top = topN[::-1]\n",
    "    print(\"Top {} features in the tree\\n\".format(n))\n",
    "    print(\"%s\" % ( \" \".join(feature_names[j] for j in reversed_top)))\n",
    "\n",
    "print_topN_features_in_trees(vectorizer,tree_classifier3,15)"
   ]
  },
  {
   "cell_type": "markdown",
   "metadata": {},
   "source": [
    "__¿Predominan más las palabras de uno u otro sentimiento? ¿por qué? ¿hay ruido?__\n",
    "\n",
    "Hemos observado que predominan las palabras con sentimiento positivo, esto se debe a que el clasificador ha sobreaprendido reglas y busca pequeñas diferencias para decicir el sentimiento presente en el texto.\n",
    "\n",
    "Por otra parte, podemos observar que en el existe ruido con palabras como **place**, **time** y **vegas**."
   ]
  },
  {
   "cell_type": "markdown",
   "metadata": {},
   "source": [
    "### Palabras predominantes en Naive Bayes con bolsa de palabras con TF/IDF con Monogramas y Bigramas.\n",
    "\n",
    "El clasificador a utilizar es el `mnb_classifier4`."
   ]
  },
  {
   "cell_type": "code",
   "execution_count": 39,
   "metadata": {},
   "outputs": [
    {
     "name": "stdout",
     "output_type": "stream",
     "text": [
      "Top 15 features per class\n",
      "\n",
      "Malo:   food place service don won like bad time good think probably did eating minutes going \n",
      "\n",
      "Bueno:   great good place food service delicious awesome amazing love friendly best nice really time just \n",
      "\n"
     ]
    }
   ],
   "source": [
    "def print_topN_features_per_class_in_NB(vectorizer, clf, class_labels, n=20):\n",
    "    \"\"\"Prints features with the highest coefficient values, per class\"\"\"\n",
    "    feature_names = vectorizer.get_feature_names()\n",
    "    print(\"Top {} features per class\\n\".format(n))\n",
    "    for i, class_label in enumerate(class_labels):\n",
    "        topN = np.argsort(clf.feature_log_prob_[i])[-n:]\n",
    "        reversed_top = topN[::-1]\n",
    "        \n",
    "        print(\"%s:   %s\" % (class_label,\n",
    "              \" \".join(feature_names[j] for j in reversed_top)),'\\n')\n",
    "\n",
    "class_labels = [\"Malo\",\"Bueno\"]\n",
    "print_topN_features_per_class_in_NB(vectorizer4,mnb_classifier4,class_labels, 15)  "
   ]
  },
  {
   "cell_type": "markdown",
   "metadata": {},
   "source": [
    "__¿Tienen sentido las palabras seleccionadas? ¿hay ruido (palabras sin sentimiento o de sentimiento opuesto al esperado)? ¿por qué crees que suceden estos fenómenos?__\n",
    "\n",
    "Como podemos observar en las listas anteriores, hay palabras que no tienen sentido como por ejemplo **food** que se encuentra en ambas listas.\n",
    "\n",
    "Además, si miramos el contenido de cada lista, podemos decir que:\n",
    "\n",
    "- Para las palabras que clasifican un texto como malo, solo encontramos dos palabras que pueden indicar que realmente es malo: **bad** y **probably**.\n",
    "\n",
    "- Sin embargo, para las palabras que clasifican un texto como bueno, la mayoria de las palabras indican que buenos sentimientos, aunque se tienen algunas que son ruido como **place**, **food**, **service**, **really**, **time** y **just**.\n",
    "\n",
    "Esto puede suceder porque el clasificador este sobreaprendiendo y busque pequeñas diferencias para clasificar los textos."
   ]
  },
  {
   "cell_type": "markdown",
   "metadata": {},
   "source": [
    "# Apartado B."
   ]
  },
  {
   "cell_type": "code",
   "execution_count": null,
   "metadata": {},
   "outputs": [],
   "source": []
  },
  {
   "cell_type": "code",
   "execution_count": null,
   "metadata": {},
   "outputs": [],
   "source": []
  }
 ],
 "metadata": {
  "kernelspec": {
   "display_name": "Python 3",
   "language": "python",
   "name": "python3"
  },
  "language_info": {
   "codemirror_mode": {
    "name": "ipython",
    "version": 3
   },
   "file_extension": ".py",
   "mimetype": "text/x-python",
   "name": "python",
   "nbconvert_exporter": "python",
   "pygments_lexer": "ipython3",
   "version": "3.7.6"
  }
 },
 "nbformat": 4,
 "nbformat_minor": 2
}
