{
 "cells": [
  {
   "cell_type": "markdown",
   "metadata": {},
   "source": [
    "# Práctica 3\n",
    "<br>\n",
    "\n",
    "__Alumnos:__\n",
    "* __Frederick Ernesto Borges Noronha__\n",
    "* __Victor Manuel Cavero Gracia__"
   ]
  },
  {
   "cell_type": "markdown",
   "metadata": {},
   "source": [
    "En esta práctica vamos a usar el punto de acceso SPARQL de Wikidata para contestar las preguntas que se formulan a continuación. Cada pregunta debe ser respondida realizando una única consulta SPARQL. Para cada una de las entidades recuperadas se mostrará tanto su identificador como su etiqueta (nombre de la entidad en lenguaje natural).\n",
    "\n",
    "Te proporcionamos un notebook a modo de plantilla para que pegues en él cada una de las consultas que realices con la correspondiente respuesta que te devuelva el punto de acceso de Wikidata. Para cada una de las preguntas debes mostrar tanto la consulta como la respuesta obtenida.\n",
    "\n",
    "* La consulta debe estar en una celda de tipo Raw NBConvert para que jupyter no trate de interpretarla. **Cada tripleta de la consulta debe tener un breve comentario a la derecha que la explique (con # empieza un comentario)**.\n",
    "\n",
    "* La respuesta debe estar en una celda de tipo Markdown. Puedes copiar las respuestas que te da el punto de acceso usando la opción Descargar >> HTML Table y copiar el código HTML en esta celda. Al ejecutar la celda se mostrará en forma de tabla.\n",
    "\n",
    "* Si lo consideras necesario, puedes añadir celdas adicionales en formato Markdown para explicar decisiones que hayas tomado al crear la consulta o cualquier otro dato que consideres interesante.\n",
    "\n",
    "Para resolver estas consultas necesitarás aprender algo más de SPARQL de lo que hemos contado en clase. Los dos recursos que te recomendamos consultar son:\n",
    "\n",
    "* [Este tutorial de SPARQL.](https://www.wikidata.org/wiki/Wikidata:SPARQL_tutorial)\n",
    "\n",
    "* [Esta recopilación de ejemplos](https://www.wikidata.org/wiki/Wikidata:SPARQL_query_service/queries/examples)"
   ]
  },
  {
   "cell_type": "markdown",
   "metadata": {},
   "source": [
    "## Consulta 1\n",
    "**[Hans Zimmer (Q76364)](https://www.wikidata.org/wiki/Q76364) es un famoso compositor de muchas bandas sonoras de películas. Vamos a comenzar por averiguar su fecha y lugar de nacimiento**\n",
    "\n",
    "### Query:"
   ]
  },
  {
   "cell_type": "raw",
   "metadata": {},
   "source": [
    "SELECT ?fecha ?lugarLabel WHERE {\n",
    "  SERVICE wikibase:label { bd:serviceParam wikibase:language \"[AUTO_LANGUAGE],en\". }\n",
    "  wd:Q76364 wdt:P569 ?fecha. # Obtiene la fecha de nacimiento de Hans Zimmer.\n",
    "  wd:Q76364 wdt:P19 ?lugar. # Obtiene el lugar de nacimiento de Hans Zimmer.\n",
    "}"
   ]
  },
  {
   "cell_type": "markdown",
   "metadata": {},
   "source": [
    "### Resultado 1:\n",
    "\n",
    "<html><head><meta charset=\"utf-8\"></head><body><table><thead><tr><th>fecha</th><th>lugarLabel</th></tr></thead><tbody><tr><td>1957-09-12T00:00:00Z</td><td>Fráncfort del Meno</td></tr></tbody></table></body></html>"
   ]
  },
  {
   "cell_type": "markdown",
   "metadata": {},
   "source": [
    "## Consulta 2\n",
    "**A continuación, vamos a averiguar los instrumentos que toca. Queremos obtener los resultados ordenados alfabéticamente por el nombre del instrumento.**\n",
    "\n",
    "### Query:"
   ]
  },
  {
   "cell_type": "raw",
   "metadata": {},
   "source": [
    "SELECT ?instrumento ?instrumentoLabel WHERE {\n",
    "  SERVICE wikibase:label { bd:serviceParam wikibase:language \"[AUTO_LANGUAGE],en\". }\n",
    "  wd:Q76364 wdt:P1303 ?instrumento. # Obtiene los instrumentos que toca Hans Zimmer.\n",
    "}\n",
    "ORDER BY(?instrumentoLabel) # Ordenamos alfabeticamente"
   ]
  },
  {
   "cell_type": "markdown",
   "metadata": {},
   "source": [
    "### Resultado 2:\n",
    "\n",
    "<html><head><meta charset=\"utf-8\"></head><body><table><thead><tr><th>instrumento</th><th>instrumentoLabel</th></tr></thead><tbody><tr><td>http://www.wikidata.org/entity/Q258896</td><td>banjo</td></tr><tr><td>http://www.wikidata.org/entity/Q6607</td><td>guitarra</td></tr><tr><td>http://www.wikidata.org/entity/Q5994</td><td>piano</td></tr><tr><td>http://www.wikidata.org/entity/Q163829</td><td>sintetizador</td></tr><tr><td>http://www.wikidata.org/entity/Q52954</td><td>teclado</td></tr></tbody></table></body></html>"
   ]
  },
  {
   "cell_type": "markdown",
   "metadata": {},
   "source": [
    "## Consulta 3\n",
    "**¿Cuales de los instrumentos que toca son instrumentos de cuerda? Ten en cuenta que los instrumentos pueden ser indirectamente de cuerda a través de varias relaciones subclase.**\n",
    "\n",
    "### Query:"
   ]
  },
  {
   "cell_type": "raw",
   "metadata": {},
   "source": [
    "SELECT ?instrumento ?instrumentoLabel WHERE {\n",
    "  SERVICE wikibase:label { bd:serviceParam wikibase:language \"[AUTO_LANGUAGE],en\". }\n",
    "  wd:Q76364 wdt:P1303 ?instrumento. # Obtiene los instrumentos que toca Hans Zimmer.\n",
    "  ?instrumento wdt:P279* wd:Q1798603. # Obtiene los instrumentos que son de cuerda.\n",
    "}"
   ]
  },
  {
   "cell_type": "markdown",
   "metadata": {},
   "source": [
    "### Resultado 3:\n",
    "\n",
    "<html><head><meta charset=\"utf-8\"></head><body><table><thead><tr><th>instrumento</th><th>instrumentoLabel</th></tr></thead><tbody><tr><td>http://www.wikidata.org/entity/Q258896</td><td>banjo</td></tr><tr><td>http://www.wikidata.org/entity/Q5994</td><td>piano</td></tr><tr><td>http://www.wikidata.org/entity/Q6607</td><td>guitarra</td></tr></tbody></table></body></html>"
   ]
  },
  {
   "cell_type": "markdown",
   "metadata": {},
   "source": [
    "## Consulta 4\n",
    "**Zimmer ha recibido muchas nominaciones y premios a lo largo de su carrera. Queremos obtener una lista de nominaciones y para cada una de ellas el trabajo por el cual fue nominado. Para resolver esta consulta necesitarás acceder a los cualificadores de nodos sentencia y necesitarás entender los prefijos que usa Wikidata.**\n",
    "\n",
    "### Query:"
   ]
  },
  {
   "cell_type": "raw",
   "metadata": {},
   "source": [
    "SELECT ?premioLabel ?obraLabel WHERE {\n",
    "  SERVICE wikibase:label { bd:serviceParam wikibase:language \"[AUTO_LANGUAGE],en\". }\n",
    "  wd:Q76364 p:P1411 [ # Obtiene las nominaciones de Hans Zimmer.\n",
    "            ps:P1411 ?premio; # Obtiene el premio al que esta nominado.\n",
    "            pq:P1686 ?obra # Obtiene la obra por la cual esta nominado a ese premio.\n",
    "          ].\n",
    "}"
   ]
  },
  {
   "cell_type": "markdown",
   "metadata": {},
   "source": [
    "### Resultado 4:\n",
    "\n",
    "<html><head><meta charset=\"utf-8\"></head><body><table><thead><tr><th>premioLabel</th><th>obraLabel</th></tr></thead><tbody><tr><td>Academy Award for Best Original Musical or Comedy Score</td><td>Mejor... imposible</td></tr><tr><td>Academy Award for Best Original Musical or Comedy Score</td><td>The Preacher's Wife</td></tr><tr><td>Óscar a la mejor banda sonora</td><td>El rey león</td></tr><tr><td>Óscar a la mejor partitura dramática original</td><td>La delgada línea roja</td></tr><tr><td>Óscar a la mejor banda sonora</td><td>Sherlock Holmes</td></tr><tr><td>Academy Award for Best Original Musical or Comedy Score</td><td>El príncipe de Egipto</td></tr><tr><td>Óscar a la mejor banda sonora</td><td>Inception</td></tr><tr><td>Óscar a la mejor banda sonora</td><td>Gladiator</td></tr><tr><td>Óscar a la mejor banda sonora</td><td>Rain Man</td></tr><tr><td>Óscar a la mejor banda sonora</td><td>Interstellar</td></tr></tbody></table></body></html>"
   ]
  },
  {
   "cell_type": "markdown",
   "metadata": {},
   "source": [
    "## Consulta 5\n",
    "**Ahora queremos conocer el título de todas las películas en las que Zimmer ha colaborado como compositor. Se mostrarán ordenadas alfabéticamente y debes tener cuidado de no mostrar resultados repetidos.**\n",
    "\n",
    "### Query:"
   ]
  },
  {
   "cell_type": "raw",
   "metadata": {},
   "source": [
    "SELECT ?peliculaLabel WHERE {\n",
    "  SERVICE wikibase:label { bd:serviceParam wikibase:language \"[AUTO_LANGUAGE],en\". }\n",
    "  ?pelicula wdt:P86 wd:Q76364. # Obtenemos todos los valores donde Hans Zimmer ha sido compositor\n",
    "  ?pelicula wdt:P31 wd:Q11424. # De los valores anteriores tomamos solo los que sean instancia de pelicula\n",
    "} \n",
    "ORDER BY(?peliculaLabel) # Ordenamos alfabeticamente"
   ]
  },
  {
   "cell_type": "markdown",
   "metadata": {},
   "source": [
    "### Resultado 5:\n",
    "\n",
    "<html><head><meta charset=\"utf-8\"></head><body><table><thead><tr><th>peliculaLabel</th></tr></thead><tbody><tr><td>An Everlasting Piece</td></tr><tr><td>Batkid</td></tr><tr><td>Believer</td></tr><tr><td>Beyond Rangoon</td></tr><tr><td>Burning Secret</td></tr><tr><td>Calendar Girl</td></tr><tr><td>Chicago Joe and the Showgirl</td></tr><tr><td>Chill Factor</td></tr><tr><td>Dark Obsession</td></tr><tr><td>Fools of Fortune</td></tr><tr><td>I'll Do Anything</td></tr><tr><td>Mr. Morgan's Last Love</td></tr><tr><td>Nightmare at Noon</td></tr><tr><td>Renaissance Man</td></tr><tr><td>Separate Vacations</td></tr><tr><td>Son of Morning</td></tr><tr><td>Terminal Exposure</td></tr><tr><td>The Fruit Machine</td></tr><tr><td>The Last Days</td></tr><tr><td>The Lightship</td></tr><tr><td>The Road of Love</td></tr><tr><td>The Wind</td></tr><tr><td>The Zero Boys</td></tr><tr><td>Twister</td></tr><tr><td>Two Deaths</td></tr><tr><td>Younger and Younger</td></tr><tr><td>12 Años de esclavitud</td></tr><tr><td>A League of Their Own</td></tr><tr><td>Backdraft</td></tr><tr><td>Batman Begins</td></tr><tr><td>Batman v Superman: El Amanecer De La Justicia</td></tr><tr><td>Bird on a Wire</td></tr><tr><td>Black Hawk Down</td></tr><tr><td>Black Rain</td></tr><tr><td>Blade Runner 2049</td></tr><tr><td>Bob Esponja al Rescate</td></tr><tr><td>Bond 25</td></tr><tr><td>Broken Arrow</td></tr><tr><td>Chappie</td></tr><tr><td>Days of Thunder</td></tr><tr><td>Driving Miss Daisy</td></tr><tr><td>Dune</td></tr><tr><td>Dunkirk</td></tr><tr><td>El Inquilino o De Repente, un Extraño.</td></tr><tr><td>El código Da Vinci</td></tr><tr><td>El hombre de acero</td></tr><tr><td>El hombre del tiempo</td></tr><tr><td>El pacificador</td></tr><tr><td>El rey Arturo: La verdadera historia que inspiró la leyenda</td></tr><tr><td>El rey león</td></tr><tr><td>El último samurái</td></tr><tr><td>Fanático</td></tr><tr><td>Freeheld</td></tr><tr><td>Frost/Nixon</td></tr><tr><td>Gladiator</td></tr><tr><td>Green card</td></tr><tr><td>Hannibal</td></tr><tr><td>Hidden Figures</td></tr><tr><td>Hijo de Dios</td></tr><tr><td>How Do You Know</td></tr><tr><td>Inception</td></tr><tr><td>Inferno</td></tr><tr><td>Interstellar</td></tr><tr><td>Invencible</td></tr><tr><td>It's Complicated</td></tr><tr><td>La Roca</td></tr><tr><td>La casa de los espíritus</td></tr><tr><td>La dama de oro</td></tr><tr><td>La delgada línea roja</td></tr><tr><td>Marea roja</td></tr><tr><td>Matchstick Men</td></tr><tr><td>Mejor... imposible</td></tr><tr><td>Misión: Imposible II</td></tr><tr><td>Nueve meses</td></tr><tr><td>Pearl Harbor</td></tr><tr><td>Pirates of the Caribbean: Dead Man's Chest</td></tr><tr><td>Pirates of the Caribbean: The Curse of the Black Pearl</td></tr><tr><td>Point of No Return</td></tr><tr><td>Radio Flyer</td></tr><tr><td>Rain Man</td></tr><tr><td>Regarding Henry</td></tr><tr><td>Riding in Cars with Boys</td></tr><tr><td>Rush</td></tr><tr><td>Sadako 3D</td></tr><tr><td>Salto al peligro</td></tr><tr><td>Sherlock Holmes</td></tr><tr><td>Sherlock Holmes: Juego de sombras</td></tr><tr><td>Something to Talk About</td></tr><tr><td>Something's Gotta Give</td></tr><tr><td>Spanglish</td></tr><tr><td>Tears of the Sun</td></tr><tr><td>The Amazing Spider-Man 2: Rise of Electro</td></tr><tr><td>The Boat That Rocked</td></tr><tr><td>The Dark Knight</td></tr><tr><td>The Dark Knight Rises</td></tr><tr><td>The Dilemma</td></tr><tr><td>The Holiday</td></tr><tr><td>The Last Face</td></tr><tr><td>The Power of One</td></tr><tr><td>The Preacher's Wife</td></tr><tr><td>The Ring</td></tr><tr><td>Thelma y Louise</td></tr><tr><td>Top Gun: Maverick</td></tr><tr><td>Toys</td></tr><tr><td>True Romance</td></tr><tr><td>Un mundo aparte</td></tr><tr><td>Viudas</td></tr><tr><td>Winter's Tale</td></tr><tr><td>Wonder Woman 1984</td></tr><tr><td>X-Men: Dark Phoenix</td></tr><tr><td>Ángeles y demonios</td></tr></tbody></table></body></html>"
   ]
  },
  {
   "cell_type": "markdown",
   "metadata": {},
   "source": [
    "## Consulta 6\n",
    "**Zimmer es sin duda un compositor prolífico. ¿Exactamente en cuentas películas ha participado como compositor?**\n",
    "\n",
    "### Query:"
   ]
  },
  {
   "cell_type": "raw",
   "metadata": {},
   "source": [
    "SELECT (COUNT(?pelicula) as ?numeroPeliculas) WHERE {\n",
    "  SERVICE wikibase:label { bd:serviceParam wikibase:language \"[AUTO_LANGUAGE],en\". }\n",
    "  ?pelicula wdt:P86 wd:Q76364. # Obtienes las obras en las que el compositor es Zimmer\n",
    "  ?pelicula wdt:P31 wd:Q11424. # Obtienes cuales(instance of) de esas obras son peliculas\n",
    "}\n",
    "GROUP BY ?numeroPeliculas"
   ]
  },
  {
   "cell_type": "markdown",
   "metadata": {},
   "source": [
    "### Resultado 6:\n",
    "\n",
    "<html><head><meta charset=\"utf-8\"></head><body><table><thead><tr><th>numeroPeliculas</th></tr></thead><tbody><tr><td>111</td></tr></tbody></table></body></html>"
   ]
  },
  {
   "cell_type": "markdown",
   "metadata": {},
   "source": [
    "## Consulta 7\n",
    "**Es importante que las películas tengan una duración adecuada, ni muy cortas ni demasiado largas. De todas las películas en las que ha colaborado Zimmer como compositor, ¿cuáles duran entre 90 y 120 minutos? Muestra los resultados ordenados alfabéticamente. Para cada película muestra el título y la duración.<br><br>\n",
    "Algunas películas (como Salto al peligro) pueden tener varias duraciones (supongo que son distintas versiones de la película). En este apartado no importa si aparecen varias veces en los resultados.**\n",
    "\n",
    "### Query:"
   ]
  },
  {
   "cell_type": "raw",
   "metadata": {},
   "source": [
    "SELECT ?pelicula ?peliculaLabel ?duracion WHERE {\n",
    "  SERVICE wikibase:label { bd:serviceParam wikibase:language \"[AUTO_LANGUAGE],en\". }\n",
    "  ?pelicula wdt:P86 wd:Q76364.  # Obtienes las obras en las que el compositor es Zimmer\n",
    "  ?pelicula wdt:P31 wd:Q11424. # Obtienes cuales(instance of) de esas obras son peliculas\n",
    "  ?pelicula wdt:P2047 ?duracion. # Obtienes la duracion de esas peliculas\n",
    "  FILTER(?duracion >= 90 && ?duracion <= 120) # Filtras la duracion para obtener entre 90 y 120\n",
    "}\n",
    "ORDER BY(?peliculaLabel) # Ordernar alfabeticamente los resultados"
   ]
  },
  {
   "cell_type": "markdown",
   "metadata": {},
   "source": [
    "### Resultado 7:\n",
    "\n",
    "<html><head><meta charset=\"utf-8\"></head><body><table><thead><tr><th>pelicula</th><th>peliculaLabel</th><th>duracion</th></tr></thead><tbody><tr><td>http://www.wikidata.org/entity/Q4749984</td><td>An Everlasting Piece</td><td>108</td></tr><tr><td>http://www.wikidata.org/entity/Q1753610</td><td>Beyond Rangoon</td><td>95</td></tr><tr><td>http://www.wikidata.org/entity/Q2963312</td><td>Chicago Joe and the Showgirl</td><td>103</td></tr><tr><td>http://www.wikidata.org/entity/Q1192764</td><td>Chill Factor</td><td>101</td></tr><tr><td>http://www.wikidata.org/entity/Q853425</td><td>I'll Do Anything</td><td>115</td></tr><tr><td>http://www.wikidata.org/entity/Q6928990</td><td>Mr. Morgan's Last Love</td><td>116</td></tr><tr><td>http://www.wikidata.org/entity/Q18511204</td><td>Nightmare at Noon</td><td>96</td></tr><tr><td>http://www.wikidata.org/entity/Q129288</td><td>Renaissance Man</td><td>117</td></tr><tr><td>http://www.wikidata.org/entity/Q2406188</td><td>The Lightship</td><td>92</td></tr><tr><td>http://www.wikidata.org/entity/Q4424430</td><td>Twister</td><td>93</td></tr><tr><td>http://www.wikidata.org/entity/Q7858914</td><td>Two Deaths</td><td>102</td></tr><tr><td>http://www.wikidata.org/entity/Q135347</td><td>Bird on a Wire</td><td>110</td></tr><tr><td>http://www.wikidata.org/entity/Q392915</td><td>Broken Arrow</td><td>110</td></tr><tr><td>http://www.wikidata.org/entity/Q15209986</td><td>Chappie</td><td>120</td></tr><tr><td>http://www.wikidata.org/entity/Q603696</td><td>Days of Thunder</td><td>107</td></tr><tr><td>http://www.wikidata.org/entity/Q211373</td><td>Driving Miss Daisy</td><td>99</td></tr><tr><td>http://www.wikidata.org/entity/Q21935651</td><td>Dunkirk</td><td>106</td></tr><tr><td>http://www.wikidata.org/entity/Q1148079</td><td>El Inquilino o De Repente, un Extraño.</td><td>103</td></tr><tr><td>http://www.wikidata.org/entity/Q60296</td><td>El hombre del tiempo</td><td>102</td></tr><tr><td>http://www.wikidata.org/entity/Q1141706</td><td>El pacificador</td><td>118</td></tr><tr><td>http://www.wikidata.org/entity/Q27044293</td><td>El rey león</td><td>118</td></tr><tr><td>http://www.wikidata.org/entity/Q390299</td><td>Fanático</td><td>111</td></tr><tr><td>http://www.wikidata.org/entity/Q18210299</td><td>Freeheld</td><td>103</td></tr><tr><td>http://www.wikidata.org/entity/Q505135</td><td>Green card</td><td>102</td></tr><tr><td>http://www.wikidata.org/entity/Q523197</td><td>How Do You Know</td><td>116</td></tr><tr><td>http://www.wikidata.org/entity/Q843950</td><td>It's Complicated</td><td>118</td></tr><tr><td>http://www.wikidata.org/entity/Q17184103</td><td>La dama de oro</td><td>109</td></tr><tr><td>http://www.wikidata.org/entity/Q1140085</td><td>Marea roja</td><td>111</td></tr><tr><td>http://www.wikidata.org/entity/Q4536</td><td>Matchstick Men</td><td>111</td></tr><tr><td>http://www.wikidata.org/entity/Q955389</td><td>Nueve meses</td><td>103</td></tr><tr><td>http://www.wikidata.org/entity/Q577469</td><td>Point of No Return</td><td>103</td></tr><tr><td>http://www.wikidata.org/entity/Q12128282</td><td>Radio Flyer</td><td>114</td></tr><tr><td>http://www.wikidata.org/entity/Q603865</td><td>Regarding Henry</td><td>108</td></tr><tr><td>http://www.wikidata.org/entity/Q1058489</td><td>Sadako 3D</td><td>96</td></tr><tr><td>http://www.wikidata.org/entity/Q1260289</td><td>Salto al peligro</td><td>98</td></tr><tr><td>http://www.wikidata.org/entity/Q1260289</td><td>Salto al peligro</td><td>101</td></tr><tr><td>http://www.wikidata.org/entity/Q1260289</td><td>Salto al peligro</td><td>102</td></tr><tr><td>http://www.wikidata.org/entity/Q1544085</td><td>Something to Talk About</td><td>106</td></tr><tr><td>http://www.wikidata.org/entity/Q1210206</td><td>The Dilemma</td><td>111</td></tr><tr><td>http://www.wikidata.org/entity/Q1475674</td><td>The Preacher's Wife</td><td>119</td></tr><tr><td>http://www.wikidata.org/entity/Q212804</td><td>The Ring</td><td>116</td></tr><tr><td>http://www.wikidata.org/entity/Q1849238</td><td>Toys</td><td>116</td></tr><tr><td>http://www.wikidata.org/entity/Q1127709</td><td>True Romance</td><td>120</td></tr><tr><td>http://www.wikidata.org/entity/Q232130</td><td>Un mundo aparte</td><td>112</td></tr><tr><td>http://www.wikidata.org/entity/Q3569395</td><td>Winter's Tale</td><td>118</td></tr><tr><td>http://www.wikidata.org/entity/Q31188935</td><td>X-Men: Dark Phoenix</td><td>114</td></tr></tbody></table></body></html>"
   ]
  },
  {
   "cell_type": "markdown",
   "metadata": {},
   "source": [
    "## Consulta 8\n",
    "**Vamos a recuperar ahora las películas más actuales en las que Zimmer ha colaborado como compositor. Estamos interesados específicamente en películas que se hayan estrenado a partir de 2005.<br><br>\n",
    "Seguramente, en tu primer intento verás que cada película aparece repetida varias veces con fechas distintas porque Wikidata contiene las fechas de estreno en cada país. Vamos a considerar que la fecha real de estreno de la película es la fecha más antigua de todas ellas.<br><br>\n",
    "Para que cada película aparezca sólo una vez con la fecha correcta necesitarás agrupar las respuestas por película y título, y aplicar una función de agregación sobre las fechas de publicación. Los resultados se tienen que mostrar ordenados alfabéticamente.**\n",
    "\n",
    "### Query:"
   ]
  },
  {
   "cell_type": "raw",
   "metadata": {},
   "source": [
    "SELECT ?pelicula ?peliculaLabel (MIN(?fecha_publicacion) AS ?min_fecha) WHERE {\n",
    "  SERVICE wikibase:label { bd:serviceParam wikibase:language \"[AUTO_LANGUAGE],en\". }\n",
    "  ?pelicula wdt:P86 wd:Q76364. # Obtenemos las obras en las que Zimmer es compositor\n",
    "  ?pelicula wdt:P31 wd:Q11424. # Obtenemos las obras que son peliculas\n",
    "  ?pelicula wdt:P577 ?fecha_publicacion. # Obtenemos la fecha de publicacion de las peliculas\n",
    "  FILTER(YEAR(?fecha_publicacion) >= 2005) # Filtramos las que sean a partir de 2005\n",
    "  ?pelicula wdt:P1476 ?peliculaLabel # Obtenemos los titulos de las peliculas ya filtradas\n",
    "} \n",
    "GROUP BY ?pelicula ?peliculaLabel # Agrupamos por titulo y pelicula\n",
    "ORDER BY ?peliculaLabel # Ordenamos alfabeticamente los resultados\n"
   ]
  },
  {
   "cell_type": "markdown",
   "metadata": {},
   "source": [
    "### Resultado 8:\n",
    "\n",
    "<html><head><meta charset=\"utf-8\"></head><body><table><thead><tr><th>pelicula</th><th>peliculaLabel</th><th>min_fecha</th></tr></thead><tbody><tr><td>http://www.wikidata.org/entity/Q3023357</td><td>12 Years a Slave</td><td>2013-08-30T00:00:00Z</td></tr><tr><td>http://www.wikidata.org/entity/Q192934</td><td>Angels &amp; Demons</td><td>2009-01-01T00:00:00Z</td></tr><tr><td>http://www.wikidata.org/entity/Q16155083</td><td>Batkid</td><td>2015-01-01T00:00:00Z</td></tr><tr><td>http://www.wikidata.org/entity/Q166262</td><td>Batman Begins</td><td>2005-06-15T00:00:00Z</td></tr><tr><td>http://www.wikidata.org/entity/Q14772351</td><td>Batman v Superman: Dawn of Justice</td><td>2016-03-23T00:00:00Z</td></tr><tr><td>http://www.wikidata.org/entity/Q47069744</td><td>Believer</td><td>2018-01-01T00:00:00Z</td></tr><tr><td>http://www.wikidata.org/entity/Q21500755</td><td>Blade Runner 2049</td><td>2017-10-03T00:00:00Z</td></tr><tr><td>http://www.wikidata.org/entity/Q15209986</td><td>Chappie</td><td>2015-03-05T00:00:00Z</td></tr><tr><td>http://www.wikidata.org/entity/Q31188935</td><td>Dark Phoenix</td><td>2019-06-05T00:00:00Z</td></tr><tr><td>http://www.wikidata.org/entity/Q60834962</td><td>Dune</td><td>2020-01-01T00:00:00Z</td></tr><tr><td>http://www.wikidata.org/entity/Q21935651</td><td>Dunkirk</td><td>2017-07-13T00:00:00Z</td></tr><tr><td>http://www.wikidata.org/entity/Q18210299</td><td>Freeheld</td><td>2015-01-01T00:00:00Z</td></tr><tr><td>http://www.wikidata.org/entity/Q691672</td><td>Frost/Nixon</td><td>2008-10-15T00:00:00Z</td></tr><tr><td>http://www.wikidata.org/entity/Q23755544</td><td>Hidden Figures</td><td>2016-12-26T00:00:00Z</td></tr><tr><td>http://www.wikidata.org/entity/Q523197</td><td>How Do You Know</td><td>2010-01-01T00:00:00Z</td></tr><tr><td>http://www.wikidata.org/entity/Q25188</td><td>Inception</td><td>2010-07-08T00:00:00Z</td></tr><tr><td>http://www.wikidata.org/entity/Q18192306</td><td>Inferno</td><td>2016-10-13T00:00:00Z</td></tr><tr><td>http://www.wikidata.org/entity/Q13417189</td><td>Interstellar</td><td>2014-10-26T00:00:00Z</td></tr><tr><td>http://www.wikidata.org/entity/Q843950</td><td>It's Complicated</td><td>2009-12-24T00:00:00Z</td></tr><tr><td>http://www.wikidata.org/entity/Q622769</td><td>Man of Steel</td><td>2013-06-10T00:00:00Z</td></tr><tr><td>http://www.wikidata.org/entity/Q6928990</td><td>Mr. Morgan's Last Love</td><td>2013-06-01T00:00:00Z</td></tr><tr><td>http://www.wikidata.org/entity/Q21534241</td><td>No Time to Die</td><td>2020-11-12T00:00:00Z</td></tr><tr><td>http://www.wikidata.org/entity/Q161087</td><td>Pirates of the Caribbean: Dead Man's Chest</td><td>2006-07-07T00:00:00Z</td></tr><tr><td>http://www.wikidata.org/entity/Q1768437</td><td>Rush</td><td>2013-09-02T00:00:00Z</td></tr><tr><td>http://www.wikidata.org/entity/Q200396</td><td>Sherlock Holmes</td><td>2009-12-24T00:00:00Z</td></tr><tr><td>http://www.wikidata.org/entity/Q243643</td><td>Sherlock Holmes: A Game of Shadows</td><td>2011-12-16T00:00:00Z</td></tr><tr><td>http://www.wikidata.org/entity/Q15137718</td><td>Son of God</td><td>2014-02-28T00:00:00Z</td></tr><tr><td>http://www.wikidata.org/entity/Q3964671</td><td>Son of Morning</td><td>2011-01-01T00:00:00Z</td></tr><tr><td>http://www.wikidata.org/entity/Q1367647</td><td>Spanglish</td><td>2005-04-07T00:00:00Z</td></tr><tr><td>http://www.wikidata.org/entity/Q4254026</td><td>The Amazing Spider-Man 2</td><td>2014-04-17T00:00:00Z</td></tr><tr><td>http://www.wikidata.org/entity/Q856805</td><td>The Boat That Rocked</td><td>2009-01-01T00:00:00Z</td></tr><tr><td>http://www.wikidata.org/entity/Q160560</td><td>The Da Vinci Code</td><td>2006-05-17T00:00:00Z</td></tr><tr><td>http://www.wikidata.org/entity/Q163872</td><td>The Dark Knight</td><td>2008-07-18T00:00:00Z</td></tr><tr><td>http://www.wikidata.org/entity/Q189330</td><td>The Dark Knight Rises</td><td>2012-07-20T00:00:00Z</td></tr><tr><td>http://www.wikidata.org/entity/Q1210206</td><td>The Dilemma</td><td>2011-01-01T00:00:00Z</td></tr><tr><td>http://www.wikidata.org/entity/Q478748</td><td>The Holiday</td><td>2006-12-05T00:00:00Z</td></tr><tr><td>http://www.wikidata.org/entity/Q18151554</td><td>The Last Face</td><td>2015-01-01T00:00:00Z</td></tr><tr><td>http://www.wikidata.org/entity/Q27044293</td><td>The Lion King</td><td>2019-07-17T00:00:00Z</td></tr><tr><td>http://www.wikidata.org/entity/Q61450772</td><td>The SpongeBob Movie: Sponge on the Run</td><td>2020-01-01T00:00:00Z</td></tr><tr><td>http://www.wikidata.org/entity/Q60296</td><td>The Weather Man</td><td>2005-01-01T00:00:00Z</td></tr><tr><td>http://www.wikidata.org/entity/Q17184103</td><td>The Woman in Gold</td><td>2015-02-09T00:00:00Z</td></tr><tr><td>http://www.wikidata.org/entity/Q31202708</td><td>Top Gun: Maverick</td><td>2020-07-15T00:00:00Z</td></tr><tr><td>http://www.wikidata.org/entity/Q29163736</td><td>Widows</td><td>2018-11-06T00:00:00Z</td></tr><tr><td>http://www.wikidata.org/entity/Q3569395</td><td>Winter's Tale</td><td>2014-02-10T00:00:00Z</td></tr><tr><td>http://www.wikidata.org/entity/Q33408623</td><td>Wonder Woman 1984</td><td>2020-06-05T00:00:00Z</td></tr><tr><td>http://www.wikidata.org/entity/Q25188</td><td>آغاز ایده</td><td>2010-07-08T00:00:00Z</td></tr><tr><td>http://www.wikidata.org/entity/Q1058489</td><td>貞子3D</td><td>2012-05-12T00:00:00Z</td></tr></tbody></table></body></html>"
   ]
  },
  {
   "cell_type": "markdown",
   "metadata": {},
   "source": [
    "## Consulta 9\n",
    "**En una película pueden colaborar varios músicos. ¿Qué otros compositores han compuesto junto a Zimmer en una película? Para cada uno de ellos muestra su nombre, la fecha de nacimiento y (si ha fallecido) la fecha de defunción. Los resultados deben aparecer ordenados alfabéticamente.**\n",
    "\n",
    "### Query:"
   ]
  },
  {
   "cell_type": "raw",
   "metadata": {},
   "source": [
    "SELECT ?pelicula ?compositor ?compositorLabel ?fecha_nacimiento ?fecha_fallecimiento WHERE {\n",
    "  SERVICE wikibase:label { bd:serviceParam wikibase:language \"[AUTO_LANGUAGE],en\". }\n",
    "  ?pelicula wdt:P86 wd:Q76364. # Obtenemos las obras en las que Zimmer es compositor\n",
    "  ?pelicula wdt:P31 wd:Q11424. # Obtenemos las obras que son peliculas\n",
    "  ?pelicula wdt:P86 ?compositor. # Obtenemos los compositores de las peliculas\n",
    "  FILTER(?compositor not in (wd:Q76364)) # Filtramos esos compositores, y nos quedamos con los que no sean Zimmer\n",
    "  ?compositor wdt:P569 ?fecha_nacimiento. # Obtenemos Fecha de nacimiento\n",
    "  OPTIONAL{?compositor wdt:P570 ?fecha_fallecimiento.} # En el caso de que exista, obtenemos la fecha de fallecimiento\n",
    "} \n",
    "ORDER BY (?compositorLabel) # Ordenamos los resultados alfabeticamente"
   ]
  },
  {
   "cell_type": "markdown",
   "metadata": {},
   "source": [
    "### Resultado 9:\n",
    "\n",
    "<html><head><meta charset=\"utf-8\"></head><body><table><thead><tr><th>pelicula</th><th>compositor</th><th>compositorLabel</th><th>fecha_nacimiento</th><th>fecha_fallecimiento</th></tr></thead><tbody><tr><td>http://www.wikidata.org/entity/Q1140085</td><td>http://www.wikidata.org/entity/Q352722</td><td>Alfredo Catalani</td><td>1854-06-19T00:00:00Z</td><td>1893-08-07T00:00:00Z</td></tr><tr><td>http://www.wikidata.org/entity/Q21500755</td><td>http://www.wikidata.org/entity/Q6056440</td><td>Benjamin Wallfisch</td><td>1979-08-07T00:00:00Z</td><td></td></tr><tr><td>http://www.wikidata.org/entity/Q23755544</td><td>http://www.wikidata.org/entity/Q6056440</td><td>Benjamin Wallfisch</td><td>1979-08-07T00:00:00Z</td><td></td></tr><tr><td>http://www.wikidata.org/entity/Q128518</td><td>http://www.wikidata.org/entity/Q471537</td><td>Dzhiván Gasparián</td><td>1928-10-12T00:00:00Z</td><td></td></tr><tr><td>http://www.wikidata.org/entity/Q31202708</td><td>http://www.wikidata.org/entity/Q372489</td><td>Harold Faltermeyer</td><td>1952-10-05T00:00:00Z</td><td></td></tr><tr><td>http://www.wikidata.org/entity/Q163872</td><td>http://www.wikidata.org/entity/Q213869</td><td>James Newton Howard</td><td>1951-06-09T00:00:00Z</td><td></td></tr><tr><td>http://www.wikidata.org/entity/Q166262</td><td>http://www.wikidata.org/entity/Q213869</td><td>James Newton Howard</td><td>1951-06-09T00:00:00Z</td><td></td></tr><tr><td>http://www.wikidata.org/entity/Q4254026</td><td>http://www.wikidata.org/entity/Q266429</td><td>Junkie XL</td><td>1967-12-08T00:00:00Z</td><td></td></tr><tr><td>http://www.wikidata.org/entity/Q14772351</td><td>http://www.wikidata.org/entity/Q266429</td><td>Junkie XL</td><td>1967-12-08T00:00:00Z</td><td></td></tr><tr><td>http://www.wikidata.org/entity/Q1058489</td><td>http://www.wikidata.org/entity/Q443712</td><td>Kenji Kawai</td><td>1957-04-23T00:00:00Z</td><td></td></tr><tr><td>http://www.wikidata.org/entity/Q46717</td><td>http://www.wikidata.org/entity/Q57833</td><td>Klaus Badelt</td><td>1967-06-12T00:00:00Z</td><td></td></tr><tr><td>http://www.wikidata.org/entity/Q640762</td><td>http://www.wikidata.org/entity/Q57833</td><td>Klaus Badelt</td><td>1967-06-12T00:00:00Z</td><td></td></tr><tr><td>http://www.wikidata.org/entity/Q128518</td><td>http://www.wikidata.org/entity/Q40580</td><td>Lisa Gerrard</td><td>1961-04-12T00:00:00Z</td><td></td></tr><tr><td>http://www.wikidata.org/entity/Q216720</td><td>http://www.wikidata.org/entity/Q1383645</td><td>Nick Glennie-Smith</td><td>1951-10-03T00:00:00Z</td><td></td></tr><tr><td>http://www.wikidata.org/entity/Q23755544</td><td>http://www.wikidata.org/entity/Q14313</td><td>Pharrell Williams</td><td>1973-04-05T00:00:00Z</td><td></td></tr><tr><td>http://www.wikidata.org/entity/Q18511204</td><td>http://www.wikidata.org/entity/Q730252</td><td>Stanley Myers</td><td>1930-10-06T00:00:00Z</td><td>1993-11-09T00:00:00Z</td></tr><tr><td>http://www.wikidata.org/entity/Q18511204</td><td>http://www.wikidata.org/entity/Q730252</td><td>Stanley Myers</td><td>1933-10-06T00:00:00Z</td><td>1993-11-09T00:00:00Z</td></tr><tr><td>http://www.wikidata.org/entity/Q29163736</td><td>http://www.wikidata.org/entity/Q319996</td><td>Thomas Newman</td><td>1955-10-20T00:00:00Z</td><td></td></tr></tbody></table></body></html>"
   ]
  },
  {
   "cell_type": "markdown",
   "metadata": {},
   "source": [
    "## Consulta 10\n",
    "**¿Cuántos asertos hay sobre Zimmer en Wikidata? Ten en cuenta que Zimmer puede aparecer tanto como sujeto como objeto de cada tripleta.**\n",
    "\n",
    "### Query:"
   ]
  },
  {
   "cell_type": "raw",
   "metadata": {},
   "source": [
    "SELECT (COUNT(*) AS ?asertos)  WHERE {\n",
    "  SERVICE wikibase:label { bd:serviceParam wikibase:language \"[AUTO_LANGUAGE],en\". }\n",
    "  {wd:Q76364 ?p ?o} # Obtenemos las tripletas que tienen a Zimmer como sujeto\n",
    "  UNION # Unimos los dos resultados\n",
    "  {?s ?p wd:Q76364} # Obtenemos las tripletas que tienen a Zimmer como objeto.\n",
    "} "
   ]
  },
  {
   "cell_type": "markdown",
   "metadata": {},
   "source": [
    "### Resultado 10:\n",
    "\n",
    "<html><head><meta charset=\"utf-8\"></head><body><table><thead><tr><th>asertos</th></tr></thead><tbody><tr><td>1189</td></tr></tbody></table></body></html>"
   ]
  }
 ],
 "metadata": {
  "kernelspec": {
   "display_name": "Python 3",
   "language": "python",
   "name": "python3"
  },
  "language_info": {
   "codemirror_mode": {
    "name": "ipython",
    "version": 3
   },
   "file_extension": ".py",
   "mimetype": "text/x-python",
   "name": "python",
   "nbconvert_exporter": "python",
   "pygments_lexer": "ipython3",
   "version": "3.7.6"
  }
 },
 "nbformat": 4,
 "nbformat_minor": 2
}
